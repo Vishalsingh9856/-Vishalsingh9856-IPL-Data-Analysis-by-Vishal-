{
 "cells": [
  {
   "cell_type": "markdown",
   "id": "1c58b962",
   "metadata": {},
   "source": [
    "# 🏆 Comprehensive IPL Data Analysis (2008–2024)\n",
    "\n",
    "## Project Overview\n",
    "This repository contains a full-stack, data-driven analysis of the Indian Premier League (IPL) from 2008 to 2024. The project utilizes advanced Python libraries (Pandas, Plotly, Seaborn, Scikit-learn) to process ball-by-ball and match-level data, generate interactive visualizations, and derive actionable strategic insights.\n",
    "\n",
    "**Key Focus Areas:**\n",
    "* Team performance evaluation and win/loss ratio analysis.\n",
    "* In-depth player archetype identification using K-Means clustering.\n",
    "* Match dynamics, including toss impact and powerplay/death over comparison.\n",
    "* Strategic recommendations for team management.\n",
    "\n",
    "## Setup and Execution\n",
    "1.  Ensure you have the following data files in the root directory: `matches.csv` and `deliveries (1).csv`.\n",
    "2.  Install required Python libraries: `pip install pandas numpy plotly matplotlib seaborn scikit-learn`\n",
    "3.  The analysis follows this logical flow:\n",
    "    * `data_cleaning.py` (Must be run first)\n",
    "    * `team_analysis.py`\n",
    "    * `player_analysis.py`\n",
    "    * `match_venue_analysis.py`\n",
    "    * `strategic_insights.py`\n",
    "\n",
    "## 📋 Executive Summary: IPL Performance Insights\n",
    "\n",
    "| Key Finding | Data Insight | Strategic Implication |\n",
    "| :--- | :--- | :--- |\n",
    "| **Dominance Shift** | MI and CSK maintain the highest historical win percentages (~58-60%), yet teams like KKR and GT are rapidly closing the gap. | Focus on sustained core team management over high turnover. Stability drives long-term success. |\n",
    "| **Toss Bias** | Winning the toss grants a **~52%** overall win probability, with a clear recent trend toward **Fielding first**. | Teams should prioritize adaptability over fixed strategies, but the data marginally supports chasing in most scenarios. |\n",
    "| **Batting Strategy** | **Explosive hitters** (high SR, low Balls Faced) and **Anchor players** (low SR, high Balls Faced) form distinct, essential clusters. | Optimal batting orders must balance these two archetypes to maximize both innings longevity and run-rate acceleration. |\n",
    "| **Death Overs** | Death Overs (16-20) consistently yield the highest run rates but are also the most prone to wickets. | Investment in specialist Death Bowlers with high accuracy and variation is critical for controlling game momentum. |\n",
    "| **Venue Advantage** | Wankhede, Mumbai, is the highest-scoring venue (Avg RR > 8.5), while Chepauk favors spin and lower scoring. | Tailor team composition (pace/spin ratio) and match-day strategy based on specific venue characteristics. |\n",
    "\n",
    "***\n",
    "\n",
    "## 💡 Strategic Recommendations\n",
    "\n",
    "1.  **Optimal Batting Order (from Clustering):**\n",
    "    * **Anchor Archetype:** (Low SR, High Balls Faced) - Ideal for **Opening and No. 3**. Role is to stabilize the innings and bat deep.\n",
    "    * **High-Impact Finisher Archetype:** (Very High SR, Low Balls Faced) - Crucial for **Death Overs (No. 5-7)**. Maximizing strike rate in limited time.\n",
    "    * **Balanced Elite Archetype:** (High Runs, High SR, High Balls) - The **No. 4** engine room. Capable of both anchoring and accelerating.\n",
    "\n",
    "2.  **Death Bowling Investment:** The high volatility in Death Overs necessitates investment in two distinct death-over specialists: one with extreme pace/yorker accuracy, and one with a deceptive slower-ball repertoire.\n",
    "\n",
    "3.  **Venue-Specific Tactics:** Training must mimic the predicted pitch behavior (e.g., excessive use of spin on slow, turning pitches like Chennai) before away games.\n",
    "\n",
    "## 🔮 Conclusion and Future Scope\n",
    "\n",
    "The IPL data clearly indicates that **consistency and stability** (e.g., MI/CSK success) coupled with **strategic resource allocation** (specialized players for key phases) are the cornerstones of championship success. Future analysis should focus on building a robust Win Probability Added (WPA) model to quantify player impact in high-pressure situations."
   ]
  },
  {
   "cell_type": "code",
   "execution_count": 1,
   "id": "cd78ffb2",
   "metadata": {},
   "outputs": [
    {
     "name": "stdout",
     "output_type": "stream",
     "text": [
      "c:\\Users\\Vishal\\OneDrive\\Desktop\\IPL_DATA_ANALYSIS\n"
     ]
    }
   ],
   "source": [
    "import os\n",
    "print(os.getcwd())\n"
   ]
  },
  {
   "cell_type": "code",
   "execution_count": 2,
   "id": "e14f3428",
   "metadata": {},
   "outputs": [
    {
     "name": "stdout",
     "output_type": "stream",
     "text": [
      "['deliveries (1).csv', 'ipl_unique_analyses (1).ipynb', 'matches.csv']\n"
     ]
    }
   ],
   "source": [
    "import os\n",
    "print(os.listdir(os.getcwd()))\n"
   ]
  },
  {
   "cell_type": "code",
   "execution_count": 3,
   "id": "88ea704c",
   "metadata": {},
   "outputs": [
    {
     "name": "stdout",
     "output_type": "stream",
     "text": [
      "📂 Current working directory: c:\\Users\\Vishal\\OneDrive\\Desktop\\IPL_DATA_ANALYSIS\n",
      "CSV files in current folder:\n",
      "deliveries (1).csv\n",
      "matches.csv\n"
     ]
    }
   ],
   "source": [
    "import os\n",
    "\n",
    "cwd = os.getcwd()\n",
    "print(\"📂 Current working directory:\", cwd)\n",
    "\n",
    "print(\"CSV files in current folder:\")\n",
    "for file in os.listdir(cwd):\n",
    "    if file.endswith(\".csv\"):\n",
    "        print(file)\n",
    "\n"
   ]
  },
  {
   "cell_type": "markdown",
   "id": "a22a0f37",
   "metadata": {},
   "source": []
  },
  {
   "cell_type": "code",
   "execution_count": 4,
   "id": "70ee76cb",
   "metadata": {},
   "outputs": [
    {
     "name": "stdout",
     "output_type": "stream",
     "text": [
      "📂 Current working directory: c:\\Users\\Vishal\\OneDrive\\Desktop\\IPL_DATA_ANALYSIS\n",
      "Searching for matches.csv and deliveries*.csv files...\n",
      "\n",
      "Found CSV: c:\\Users\\Vishal\\OneDrive\\Desktop\\IPL_DATA_ANALYSIS\\deliveries (1).csv\n",
      "Found CSV: c:\\Users\\Vishal\\OneDrive\\Desktop\\IPL_DATA_ANALYSIS\\matches.csv\n"
     ]
    }
   ],
   "source": [
    "import os\n",
    "\n",
    "cwd = os.getcwd()\n",
    "print(\"📂 Current working directory:\", cwd)\n",
    "\n",
    "print(\"Searching for matches.csv and deliveries*.csv files...\\n\")\n",
    "for root, dirs, files in os.walk(cwd):\n",
    "    for file in files:\n",
    "        if file.endswith(\".csv\") and (\"matches\" in file.lower() or \"deliveries\" in file.lower()):\n",
    "            print(f\"Found CSV: {os.path.join(root, file)}\")\n",
    "\n"
   ]
  },
  {
   "cell_type": "code",
   "execution_count": 5,
   "id": "b9328ed3",
   "metadata": {},
   "outputs": [
    {
     "name": "stdout",
     "output_type": "stream",
     "text": [
      "Using data file: c:\\Users\\Vishal\\OneDrive\\Desktop\\mini project\\deliveries (1).csv\n",
      "Loaded rows: 260920\n"
     ]
    },
    {
     "data": {
      "text/plain": [
       "<bound method NDFrame.tail of         match_id  inning           batting_team                 bowling_team  \\\n",
       "0         335982       1  Kolkata Knight Riders  Royal Challengers Bangalore   \n",
       "1         335982       1  Kolkata Knight Riders  Royal Challengers Bangalore   \n",
       "2         335982       1  Kolkata Knight Riders  Royal Challengers Bangalore   \n",
       "3         335982       1  Kolkata Knight Riders  Royal Challengers Bangalore   \n",
       "4         335982       1  Kolkata Knight Riders  Royal Challengers Bangalore   \n",
       "...          ...     ...                    ...                          ...   \n",
       "260915   1426312       2  Kolkata Knight Riders          Sunrisers Hyderabad   \n",
       "260916   1426312       2  Kolkata Knight Riders          Sunrisers Hyderabad   \n",
       "260917   1426312       2  Kolkata Knight Riders          Sunrisers Hyderabad   \n",
       "260918   1426312       2  Kolkata Knight Riders          Sunrisers Hyderabad   \n",
       "260919   1426312       2  Kolkata Knight Riders          Sunrisers Hyderabad   \n",
       "\n",
       "        over  ball       batter         bowler  non_striker  batsman_runs  \\\n",
       "0          0     1   SC Ganguly        P Kumar  BB McCullum             0   \n",
       "1          0     2  BB McCullum        P Kumar   SC Ganguly             0   \n",
       "2          0     3  BB McCullum        P Kumar   SC Ganguly             0   \n",
       "3          0     4  BB McCullum        P Kumar   SC Ganguly             0   \n",
       "4          0     5  BB McCullum        P Kumar   SC Ganguly             0   \n",
       "...      ...   ...          ...            ...          ...           ...   \n",
       "260915     9     5      SS Iyer     AK Markram      VR Iyer             1   \n",
       "260916     9     6      VR Iyer     AK Markram      SS Iyer             1   \n",
       "260917    10     1      VR Iyer  Shahbaz Ahmed      SS Iyer             1   \n",
       "260918    10     2      SS Iyer  Shahbaz Ahmed      VR Iyer             1   \n",
       "260919    10     3      VR Iyer  Shahbaz Ahmed      SS Iyer             1   \n",
       "\n",
       "        extra_runs  total_runs extras_type  is_wicket player_dismissed  \\\n",
       "0                1           1     legbyes          0              NaN   \n",
       "1                0           0         NaN          0              NaN   \n",
       "2                1           1       wides          0              NaN   \n",
       "3                0           0         NaN          0              NaN   \n",
       "4                0           0         NaN          0              NaN   \n",
       "...            ...         ...         ...        ...              ...   \n",
       "260915           0           1         NaN          0              NaN   \n",
       "260916           0           1         NaN          0              NaN   \n",
       "260917           0           1         NaN          0              NaN   \n",
       "260918           0           1         NaN          0              NaN   \n",
       "260919           0           1         NaN          0              NaN   \n",
       "\n",
       "       dismissal_kind fielder  \n",
       "0                 NaN     NaN  \n",
       "1                 NaN     NaN  \n",
       "2                 NaN     NaN  \n",
       "3                 NaN     NaN  \n",
       "4                 NaN     NaN  \n",
       "...               ...     ...  \n",
       "260915            NaN     NaN  \n",
       "260916            NaN     NaN  \n",
       "260917            NaN     NaN  \n",
       "260918            NaN     NaN  \n",
       "260919            NaN     NaN  \n",
       "\n",
       "[260920 rows x 17 columns]>"
      ]
     },
     "execution_count": 5,
     "metadata": {},
     "output_type": "execute_result"
    }
   ],
   "source": [
    "import pandas as pd\n",
    "from pathlib import Path\n",
    "\n",
    "# Exact file paths\n",
    "candidates = [\n",
    "    r\"c:\\Users\\Vishal\\OneDrive\\Desktop\\mini project\\deliveries (1).csv\",\n",
    "    r\"c:\\Users\\Vishal\\OneDrive\\Desktop\\mini project\\matches.csv\"\n",
    "]\n",
    "\n",
    "data_path = None\n",
    "for c in candidates:\n",
    "    p = Path(c)\n",
    "    if p.exists() and p.is_file() and p.suffix.lower() == '.csv':\n",
    "        data_path = str(p)\n",
    "        break\n",
    "\n",
    "if not data_path:\n",
    "    raise FileNotFoundError(\"⚠️ CSV file not found! Check your filename and path.\")\n",
    "\n",
    "print('Using data file:', data_path)\n",
    "\n",
    "df = pd.read_csv(data_path)\n",
    "print('Loaded rows:', len(df))\n",
    "df.head()\n",
    "df.tail\n"
   ]
  },
  {
   "cell_type": "code",
   "execution_count": 6,
   "id": "dc21777c",
   "metadata": {},
   "outputs": [
    {
     "name": "stdout",
     "output_type": "stream",
     "text": [
      "Using data file: deliveries (1).csv\n",
      "Loaded rows: 260920\n"
     ]
    },
    {
     "data": {
      "text/html": [
       "<div>\n",
       "<style scoped>\n",
       "    .dataframe tbody tr th:only-of-type {\n",
       "        vertical-align: middle;\n",
       "    }\n",
       "\n",
       "    .dataframe tbody tr th {\n",
       "        vertical-align: top;\n",
       "    }\n",
       "\n",
       "    .dataframe thead th {\n",
       "        text-align: right;\n",
       "    }\n",
       "</style>\n",
       "<table border=\"1\" class=\"dataframe\">\n",
       "  <thead>\n",
       "    <tr style=\"text-align: right;\">\n",
       "      <th></th>\n",
       "      <th>match_id</th>\n",
       "      <th>inning</th>\n",
       "      <th>batting_team</th>\n",
       "      <th>bowling_team</th>\n",
       "      <th>over</th>\n",
       "      <th>ball</th>\n",
       "      <th>batter</th>\n",
       "      <th>bowler</th>\n",
       "      <th>non_striker</th>\n",
       "      <th>batsman_runs</th>\n",
       "      <th>extra_runs</th>\n",
       "      <th>total_runs</th>\n",
       "      <th>extras_type</th>\n",
       "      <th>is_wicket</th>\n",
       "      <th>player_dismissed</th>\n",
       "      <th>dismissal_kind</th>\n",
       "      <th>fielder</th>\n",
       "    </tr>\n",
       "  </thead>\n",
       "  <tbody>\n",
       "    <tr>\n",
       "      <th>0</th>\n",
       "      <td>335982</td>\n",
       "      <td>1</td>\n",
       "      <td>Kolkata Knight Riders</td>\n",
       "      <td>Royal Challengers Bangalore</td>\n",
       "      <td>0</td>\n",
       "      <td>1</td>\n",
       "      <td>SC Ganguly</td>\n",
       "      <td>P Kumar</td>\n",
       "      <td>BB McCullum</td>\n",
       "      <td>0</td>\n",
       "      <td>1</td>\n",
       "      <td>1</td>\n",
       "      <td>legbyes</td>\n",
       "      <td>0</td>\n",
       "      <td>NaN</td>\n",
       "      <td>NaN</td>\n",
       "      <td>NaN</td>\n",
       "    </tr>\n",
       "    <tr>\n",
       "      <th>1</th>\n",
       "      <td>335982</td>\n",
       "      <td>1</td>\n",
       "      <td>Kolkata Knight Riders</td>\n",
       "      <td>Royal Challengers Bangalore</td>\n",
       "      <td>0</td>\n",
       "      <td>2</td>\n",
       "      <td>BB McCullum</td>\n",
       "      <td>P Kumar</td>\n",
       "      <td>SC Ganguly</td>\n",
       "      <td>0</td>\n",
       "      <td>0</td>\n",
       "      <td>0</td>\n",
       "      <td>NaN</td>\n",
       "      <td>0</td>\n",
       "      <td>NaN</td>\n",
       "      <td>NaN</td>\n",
       "      <td>NaN</td>\n",
       "    </tr>\n",
       "    <tr>\n",
       "      <th>2</th>\n",
       "      <td>335982</td>\n",
       "      <td>1</td>\n",
       "      <td>Kolkata Knight Riders</td>\n",
       "      <td>Royal Challengers Bangalore</td>\n",
       "      <td>0</td>\n",
       "      <td>3</td>\n",
       "      <td>BB McCullum</td>\n",
       "      <td>P Kumar</td>\n",
       "      <td>SC Ganguly</td>\n",
       "      <td>0</td>\n",
       "      <td>1</td>\n",
       "      <td>1</td>\n",
       "      <td>wides</td>\n",
       "      <td>0</td>\n",
       "      <td>NaN</td>\n",
       "      <td>NaN</td>\n",
       "      <td>NaN</td>\n",
       "    </tr>\n",
       "    <tr>\n",
       "      <th>3</th>\n",
       "      <td>335982</td>\n",
       "      <td>1</td>\n",
       "      <td>Kolkata Knight Riders</td>\n",
       "      <td>Royal Challengers Bangalore</td>\n",
       "      <td>0</td>\n",
       "      <td>4</td>\n",
       "      <td>BB McCullum</td>\n",
       "      <td>P Kumar</td>\n",
       "      <td>SC Ganguly</td>\n",
       "      <td>0</td>\n",
       "      <td>0</td>\n",
       "      <td>0</td>\n",
       "      <td>NaN</td>\n",
       "      <td>0</td>\n",
       "      <td>NaN</td>\n",
       "      <td>NaN</td>\n",
       "      <td>NaN</td>\n",
       "    </tr>\n",
       "    <tr>\n",
       "      <th>4</th>\n",
       "      <td>335982</td>\n",
       "      <td>1</td>\n",
       "      <td>Kolkata Knight Riders</td>\n",
       "      <td>Royal Challengers Bangalore</td>\n",
       "      <td>0</td>\n",
       "      <td>5</td>\n",
       "      <td>BB McCullum</td>\n",
       "      <td>P Kumar</td>\n",
       "      <td>SC Ganguly</td>\n",
       "      <td>0</td>\n",
       "      <td>0</td>\n",
       "      <td>0</td>\n",
       "      <td>NaN</td>\n",
       "      <td>0</td>\n",
       "      <td>NaN</td>\n",
       "      <td>NaN</td>\n",
       "      <td>NaN</td>\n",
       "    </tr>\n",
       "  </tbody>\n",
       "</table>\n",
       "</div>"
      ],
      "text/plain": [
       "   match_id  inning           batting_team                 bowling_team  over  \\\n",
       "0    335982       1  Kolkata Knight Riders  Royal Challengers Bangalore     0   \n",
       "1    335982       1  Kolkata Knight Riders  Royal Challengers Bangalore     0   \n",
       "2    335982       1  Kolkata Knight Riders  Royal Challengers Bangalore     0   \n",
       "3    335982       1  Kolkata Knight Riders  Royal Challengers Bangalore     0   \n",
       "4    335982       1  Kolkata Knight Riders  Royal Challengers Bangalore     0   \n",
       "\n",
       "   ball       batter   bowler  non_striker  batsman_runs  extra_runs  \\\n",
       "0     1   SC Ganguly  P Kumar  BB McCullum             0           1   \n",
       "1     2  BB McCullum  P Kumar   SC Ganguly             0           0   \n",
       "2     3  BB McCullum  P Kumar   SC Ganguly             0           1   \n",
       "3     4  BB McCullum  P Kumar   SC Ganguly             0           0   \n",
       "4     5  BB McCullum  P Kumar   SC Ganguly             0           0   \n",
       "\n",
       "   total_runs extras_type  is_wicket player_dismissed dismissal_kind fielder  \n",
       "0           1     legbyes          0              NaN            NaN     NaN  \n",
       "1           0         NaN          0              NaN            NaN     NaN  \n",
       "2           1       wides          0              NaN            NaN     NaN  \n",
       "3           0         NaN          0              NaN            NaN     NaN  \n",
       "4           0         NaN          0              NaN            NaN     NaN  "
      ]
     },
     "execution_count": 6,
     "metadata": {},
     "output_type": "execute_result"
    }
   ],
   "source": [
    "# Data setup — adjust `data_path` if your CSV sits elsewhere.\n",
    "import os\n",
    "import pandas as pd\n",
    "from pathlib import Path\n",
    "\n",
    "# Try to auto-detect the deliveries.csv file in common paths\n",
    "\n",
    "candidates = [\n",
    "\n",
    "\n",
    " \"deliveries (1).csv\",\n",
    "    \"matches.csv\"\n",
    "\n",
    "]\n",
    "data_path = None\n",
    "for c in candidates:\n",
    "    p = Path(c)\n",
    "    if p.exists() and p.is_file() and p.suffix.lower() == '.csv':\n",
    "        data_path = str(p)\n",
    "        break\n",
    "\n",
    "# Fallback: expect the user to set data_path manually\n",
    "if not data_path:\n",
    "    # If your file is in the same folder as the notebook, use 'deliveries.csv'\n",
    "    data_path = 'deliveries.csv'  # <<-- change this if needed\n",
    "\n",
    "print('Using data file:', data_path)\n",
    "df = pd.read_csv(data_path)\n",
    "print('Loaded rows:', len(df))\n",
    "df.head()"
   ]
  },
  {
   "cell_type": "markdown",
   "id": "b16df990",
   "metadata": {},
   "source": []
  },
  {
   "cell_type": "code",
   "execution_count": 7,
   "id": "d687dc53",
   "metadata": {},
   "outputs": [],
   "source": [
    "# Imports & plotting style (run once)\n",
    "import numpy as np\n",
    "import pandas as pd\n",
    "import matplotlib.pyplot as plt\n",
    "import seaborn as sns\n",
    "sns.set_theme(style='whitegrid')\n",
    "plt.rcParams['figure.dpi'] = 120\n",
    "%matplotlib inline"
   ]
  },
  {
   "cell_type": "markdown",
   "id": "a28a504b",
   "metadata": {},
   "source": [
    "## 1) Batter Boundary Dependency\n",
    "\n",
    "**Goal:** Show what percentage of each batter's runs come from boundaries (4s & 6s) to identify boundary-dependent players vs strike-rotators.\n"
   ]
  },
  {
   "cell_type": "code",
   "execution_count": 8,
   "id": "877ae9fa",
   "metadata": {},
   "outputs": [
    {
     "data": {
      "application/vnd.plotly.v1+json": {
       "config": {
        "plotlyServerURL": "https://plot.ly"
       },
       "data": [
        {
         "hovertemplate": "Batter=%{x}<br>% Runs from Boundaries=%{marker.color}<br>text=%{text}<extra></extra>",
         "legendgroup": "",
         "marker": {
          "color": {
           "bdata": "X/RZgIHjS0A6oWkH/HhNQMnIyMjIyE5AbAiYnBn5TkBaL2Cb01VNQF6ZwZkpRExAY1VAMpOhTkBFvuZI/fBSQGXw0gOncE5AxbFXT6k3TUCWFFc1fwZNQBNfgkJVS0tAgP/qlOdbTUApwJm2kOpNQKBrCSgqc0xAWtSGKwuIS0A6KvDF1Q9RQAhzHpe+/UlA6+qDelQjUECNvE9cDK1QQA==",
           "dtype": "f8"
          },
          "coloraxis": "coloraxis",
          "pattern": {
           "shape": ""
          }
         },
         "name": "",
         "orientation": "v",
         "showlegend": false,
         "text": [
          "55.8%",
          "58.9%",
          "61.6%",
          "61.9%",
          "58.7%",
          "56.5%",
          "61.3%",
          "75.8%",
          "60.9%",
          "58.4%",
          "58.1%",
          "54.6%",
          "58.7%",
          "59.8%",
          "56.9%",
          "55.1%",
          "68.2%",
          "52.0%",
          "64.6%",
          "66.7%"
         ],
         "textposition": "auto",
         "type": "bar",
         "x": [
          "V Kohli",
          "S Dhawan",
          "RG Sharma",
          "DA Warner",
          "SK Raina",
          "MS Dhoni",
          "AB de Villiers",
          "CH Gayle",
          "RV Uthappa",
          "KD Karthik",
          "KL Rahul",
          "AM Rahane",
          "F du Plessis",
          "SV Samson",
          "AT Rayudu",
          "G Gambhir",
          "SR Watson",
          "MK Pandey",
          "SA Yadav",
          "JC Buttler"
         ],
         "xaxis": "x",
         "y": {
          "bdata": "X/RZgIHjS0A6oWkH/HhNQMnIyMjIyE5AbAiYnBn5TkBaL2Cb01VNQF6ZwZkpRExAY1VAMpOhTkBFvuZI/fBSQGXw0gOncE5AxbFXT6k3TUCWFFc1fwZNQBNfgkJVS0tAgP/qlOdbTUApwJm2kOpNQKBrCSgqc0xAWtSGKwuIS0A6KvDF1Q9RQAhzHpe+/UlA6+qDelQjUECNvE9cDK1QQA==",
          "dtype": "f8"
         },
         "yaxis": "y"
        }
       ],
       "layout": {
        "barmode": "relative",
        "coloraxis": {
         "colorbar": {
          "title": {
           "text": "% Runs from Boundaries"
          }
         },
         "colorscale": [
          [
           0,
           "#440154"
          ],
          [
           0.1111111111111111,
           "#482878"
          ],
          [
           0.2222222222222222,
           "#3e4989"
          ],
          [
           0.3333333333333333,
           "#31688e"
          ],
          [
           0.4444444444444444,
           "#26828e"
          ],
          [
           0.5555555555555556,
           "#1f9e89"
          ],
          [
           0.6666666666666666,
           "#35b779"
          ],
          [
           0.7777777777777778,
           "#6ece58"
          ],
          [
           0.8888888888888888,
           "#b5de2b"
          ],
          [
           1,
           "#fde725"
          ]
         ],
         "showscale": false
        },
        "height": 500,
        "legend": {
         "tracegroupgap": 0
        },
        "template": {
         "data": {
          "bar": [
           {
            "error_x": {
             "color": "#f2f5fa"
            },
            "error_y": {
             "color": "#f2f5fa"
            },
            "marker": {
             "line": {
              "color": "rgb(17,17,17)",
              "width": 0.5
             },
             "pattern": {
              "fillmode": "overlay",
              "size": 10,
              "solidity": 0.2
             }
            },
            "type": "bar"
           }
          ],
          "barpolar": [
           {
            "marker": {
             "line": {
              "color": "rgb(17,17,17)",
              "width": 0.5
             },
             "pattern": {
              "fillmode": "overlay",
              "size": 10,
              "solidity": 0.2
             }
            },
            "type": "barpolar"
           }
          ],
          "carpet": [
           {
            "aaxis": {
             "endlinecolor": "#A2B1C6",
             "gridcolor": "#506784",
             "linecolor": "#506784",
             "minorgridcolor": "#506784",
             "startlinecolor": "#A2B1C6"
            },
            "baxis": {
             "endlinecolor": "#A2B1C6",
             "gridcolor": "#506784",
             "linecolor": "#506784",
             "minorgridcolor": "#506784",
             "startlinecolor": "#A2B1C6"
            },
            "type": "carpet"
           }
          ],
          "choropleth": [
           {
            "colorbar": {
             "outlinewidth": 0,
             "ticks": ""
            },
            "type": "choropleth"
           }
          ],
          "contour": [
           {
            "colorbar": {
             "outlinewidth": 0,
             "ticks": ""
            },
            "colorscale": [
             [
              0,
              "#0d0887"
             ],
             [
              0.1111111111111111,
              "#46039f"
             ],
             [
              0.2222222222222222,
              "#7201a8"
             ],
             [
              0.3333333333333333,
              "#9c179e"
             ],
             [
              0.4444444444444444,
              "#bd3786"
             ],
             [
              0.5555555555555556,
              "#d8576b"
             ],
             [
              0.6666666666666666,
              "#ed7953"
             ],
             [
              0.7777777777777778,
              "#fb9f3a"
             ],
             [
              0.8888888888888888,
              "#fdca26"
             ],
             [
              1,
              "#f0f921"
             ]
            ],
            "type": "contour"
           }
          ],
          "contourcarpet": [
           {
            "colorbar": {
             "outlinewidth": 0,
             "ticks": ""
            },
            "type": "contourcarpet"
           }
          ],
          "heatmap": [
           {
            "colorbar": {
             "outlinewidth": 0,
             "ticks": ""
            },
            "colorscale": [
             [
              0,
              "#0d0887"
             ],
             [
              0.1111111111111111,
              "#46039f"
             ],
             [
              0.2222222222222222,
              "#7201a8"
             ],
             [
              0.3333333333333333,
              "#9c179e"
             ],
             [
              0.4444444444444444,
              "#bd3786"
             ],
             [
              0.5555555555555556,
              "#d8576b"
             ],
             [
              0.6666666666666666,
              "#ed7953"
             ],
             [
              0.7777777777777778,
              "#fb9f3a"
             ],
             [
              0.8888888888888888,
              "#fdca26"
             ],
             [
              1,
              "#f0f921"
             ]
            ],
            "type": "heatmap"
           }
          ],
          "histogram": [
           {
            "marker": {
             "pattern": {
              "fillmode": "overlay",
              "size": 10,
              "solidity": 0.2
             }
            },
            "type": "histogram"
           }
          ],
          "histogram2d": [
           {
            "colorbar": {
             "outlinewidth": 0,
             "ticks": ""
            },
            "colorscale": [
             [
              0,
              "#0d0887"
             ],
             [
              0.1111111111111111,
              "#46039f"
             ],
             [
              0.2222222222222222,
              "#7201a8"
             ],
             [
              0.3333333333333333,
              "#9c179e"
             ],
             [
              0.4444444444444444,
              "#bd3786"
             ],
             [
              0.5555555555555556,
              "#d8576b"
             ],
             [
              0.6666666666666666,
              "#ed7953"
             ],
             [
              0.7777777777777778,
              "#fb9f3a"
             ],
             [
              0.8888888888888888,
              "#fdca26"
             ],
             [
              1,
              "#f0f921"
             ]
            ],
            "type": "histogram2d"
           }
          ],
          "histogram2dcontour": [
           {
            "colorbar": {
             "outlinewidth": 0,
             "ticks": ""
            },
            "colorscale": [
             [
              0,
              "#0d0887"
             ],
             [
              0.1111111111111111,
              "#46039f"
             ],
             [
              0.2222222222222222,
              "#7201a8"
             ],
             [
              0.3333333333333333,
              "#9c179e"
             ],
             [
              0.4444444444444444,
              "#bd3786"
             ],
             [
              0.5555555555555556,
              "#d8576b"
             ],
             [
              0.6666666666666666,
              "#ed7953"
             ],
             [
              0.7777777777777778,
              "#fb9f3a"
             ],
             [
              0.8888888888888888,
              "#fdca26"
             ],
             [
              1,
              "#f0f921"
             ]
            ],
            "type": "histogram2dcontour"
           }
          ],
          "mesh3d": [
           {
            "colorbar": {
             "outlinewidth": 0,
             "ticks": ""
            },
            "type": "mesh3d"
           }
          ],
          "parcoords": [
           {
            "line": {
             "colorbar": {
              "outlinewidth": 0,
              "ticks": ""
             }
            },
            "type": "parcoords"
           }
          ],
          "pie": [
           {
            "automargin": true,
            "type": "pie"
           }
          ],
          "scatter": [
           {
            "marker": {
             "line": {
              "color": "#283442"
             }
            },
            "type": "scatter"
           }
          ],
          "scatter3d": [
           {
            "line": {
             "colorbar": {
              "outlinewidth": 0,
              "ticks": ""
             }
            },
            "marker": {
             "colorbar": {
              "outlinewidth": 0,
              "ticks": ""
             }
            },
            "type": "scatter3d"
           }
          ],
          "scattercarpet": [
           {
            "marker": {
             "colorbar": {
              "outlinewidth": 0,
              "ticks": ""
             }
            },
            "type": "scattercarpet"
           }
          ],
          "scattergeo": [
           {
            "marker": {
             "colorbar": {
              "outlinewidth": 0,
              "ticks": ""
             }
            },
            "type": "scattergeo"
           }
          ],
          "scattergl": [
           {
            "marker": {
             "line": {
              "color": "#283442"
             }
            },
            "type": "scattergl"
           }
          ],
          "scattermap": [
           {
            "marker": {
             "colorbar": {
              "outlinewidth": 0,
              "ticks": ""
             }
            },
            "type": "scattermap"
           }
          ],
          "scattermapbox": [
           {
            "marker": {
             "colorbar": {
              "outlinewidth": 0,
              "ticks": ""
             }
            },
            "type": "scattermapbox"
           }
          ],
          "scatterpolar": [
           {
            "marker": {
             "colorbar": {
              "outlinewidth": 0,
              "ticks": ""
             }
            },
            "type": "scatterpolar"
           }
          ],
          "scatterpolargl": [
           {
            "marker": {
             "colorbar": {
              "outlinewidth": 0,
              "ticks": ""
             }
            },
            "type": "scatterpolargl"
           }
          ],
          "scatterternary": [
           {
            "marker": {
             "colorbar": {
              "outlinewidth": 0,
              "ticks": ""
             }
            },
            "type": "scatterternary"
           }
          ],
          "surface": [
           {
            "colorbar": {
             "outlinewidth": 0,
             "ticks": ""
            },
            "colorscale": [
             [
              0,
              "#0d0887"
             ],
             [
              0.1111111111111111,
              "#46039f"
             ],
             [
              0.2222222222222222,
              "#7201a8"
             ],
             [
              0.3333333333333333,
              "#9c179e"
             ],
             [
              0.4444444444444444,
              "#bd3786"
             ],
             [
              0.5555555555555556,
              "#d8576b"
             ],
             [
              0.6666666666666666,
              "#ed7953"
             ],
             [
              0.7777777777777778,
              "#fb9f3a"
             ],
             [
              0.8888888888888888,
              "#fdca26"
             ],
             [
              1,
              "#f0f921"
             ]
            ],
            "type": "surface"
           }
          ],
          "table": [
           {
            "cells": {
             "fill": {
              "color": "#506784"
             },
             "line": {
              "color": "rgb(17,17,17)"
             }
            },
            "header": {
             "fill": {
              "color": "#2a3f5f"
             },
             "line": {
              "color": "rgb(17,17,17)"
             }
            },
            "type": "table"
           }
          ]
         },
         "layout": {
          "annotationdefaults": {
           "arrowcolor": "#f2f5fa",
           "arrowhead": 0,
           "arrowwidth": 1
          },
          "autotypenumbers": "strict",
          "coloraxis": {
           "colorbar": {
            "outlinewidth": 0,
            "ticks": ""
           }
          },
          "colorscale": {
           "diverging": [
            [
             0,
             "#8e0152"
            ],
            [
             0.1,
             "#c51b7d"
            ],
            [
             0.2,
             "#de77ae"
            ],
            [
             0.3,
             "#f1b6da"
            ],
            [
             0.4,
             "#fde0ef"
            ],
            [
             0.5,
             "#f7f7f7"
            ],
            [
             0.6,
             "#e6f5d0"
            ],
            [
             0.7,
             "#b8e186"
            ],
            [
             0.8,
             "#7fbc41"
            ],
            [
             0.9,
             "#4d9221"
            ],
            [
             1,
             "#276419"
            ]
           ],
           "sequential": [
            [
             0,
             "#0d0887"
            ],
            [
             0.1111111111111111,
             "#46039f"
            ],
            [
             0.2222222222222222,
             "#7201a8"
            ],
            [
             0.3333333333333333,
             "#9c179e"
            ],
            [
             0.4444444444444444,
             "#bd3786"
            ],
            [
             0.5555555555555556,
             "#d8576b"
            ],
            [
             0.6666666666666666,
             "#ed7953"
            ],
            [
             0.7777777777777778,
             "#fb9f3a"
            ],
            [
             0.8888888888888888,
             "#fdca26"
            ],
            [
             1,
             "#f0f921"
            ]
           ],
           "sequentialminus": [
            [
             0,
             "#0d0887"
            ],
            [
             0.1111111111111111,
             "#46039f"
            ],
            [
             0.2222222222222222,
             "#7201a8"
            ],
            [
             0.3333333333333333,
             "#9c179e"
            ],
            [
             0.4444444444444444,
             "#bd3786"
            ],
            [
             0.5555555555555556,
             "#d8576b"
            ],
            [
             0.6666666666666666,
             "#ed7953"
            ],
            [
             0.7777777777777778,
             "#fb9f3a"
            ],
            [
             0.8888888888888888,
             "#fdca26"
            ],
            [
             1,
             "#f0f921"
            ]
           ]
          },
          "colorway": [
           "#636efa",
           "#EF553B",
           "#00cc96",
           "#ab63fa",
           "#FFA15A",
           "#19d3f3",
           "#FF6692",
           "#B6E880",
           "#FF97FF",
           "#FECB52"
          ],
          "font": {
           "color": "#f2f5fa"
          },
          "geo": {
           "bgcolor": "rgb(17,17,17)",
           "lakecolor": "rgb(17,17,17)",
           "landcolor": "rgb(17,17,17)",
           "showlakes": true,
           "showland": true,
           "subunitcolor": "#506784"
          },
          "hoverlabel": {
           "align": "left"
          },
          "hovermode": "closest",
          "mapbox": {
           "style": "dark"
          },
          "paper_bgcolor": "rgb(17,17,17)",
          "plot_bgcolor": "rgb(17,17,17)",
          "polar": {
           "angularaxis": {
            "gridcolor": "#506784",
            "linecolor": "#506784",
            "ticks": ""
           },
           "bgcolor": "rgb(17,17,17)",
           "radialaxis": {
            "gridcolor": "#506784",
            "linecolor": "#506784",
            "ticks": ""
           }
          },
          "scene": {
           "xaxis": {
            "backgroundcolor": "rgb(17,17,17)",
            "gridcolor": "#506784",
            "gridwidth": 2,
            "linecolor": "#506784",
            "showbackground": true,
            "ticks": "",
            "zerolinecolor": "#C8D4E3"
           },
           "yaxis": {
            "backgroundcolor": "rgb(17,17,17)",
            "gridcolor": "#506784",
            "gridwidth": 2,
            "linecolor": "#506784",
            "showbackground": true,
            "ticks": "",
            "zerolinecolor": "#C8D4E3"
           },
           "zaxis": {
            "backgroundcolor": "rgb(17,17,17)",
            "gridcolor": "#506784",
            "gridwidth": 2,
            "linecolor": "#506784",
            "showbackground": true,
            "ticks": "",
            "zerolinecolor": "#C8D4E3"
           }
          },
          "shapedefaults": {
           "line": {
            "color": "#f2f5fa"
           }
          },
          "sliderdefaults": {
           "bgcolor": "#C8D4E3",
           "bordercolor": "rgb(17,17,17)",
           "borderwidth": 1,
           "tickwidth": 0
          },
          "ternary": {
           "aaxis": {
            "gridcolor": "#506784",
            "linecolor": "#506784",
            "ticks": ""
           },
           "baxis": {
            "gridcolor": "#506784",
            "linecolor": "#506784",
            "ticks": ""
           },
           "bgcolor": "rgb(17,17,17)",
           "caxis": {
            "gridcolor": "#506784",
            "linecolor": "#506784",
            "ticks": ""
           }
          },
          "title": {
           "x": 0.05
          },
          "updatemenudefaults": {
           "bgcolor": "#506784",
           "borderwidth": 0
          },
          "xaxis": {
           "automargin": true,
           "gridcolor": "#283442",
           "linecolor": "#506784",
           "ticks": "",
           "title": {
            "standoff": 15
           },
           "zerolinecolor": "#283442",
           "zerolinewidth": 2
          },
          "yaxis": {
           "automargin": true,
           "gridcolor": "#283442",
           "linecolor": "#506784",
           "ticks": "",
           "title": {
            "standoff": 15
           },
           "zerolinecolor": "#283442",
           "zerolinewidth": 2
          }
         }
        },
        "title": {
         "text": "Top 20 Batters — % Runs from Boundaries"
        },
        "xaxis": {
         "anchor": "y",
         "domain": [
          0,
          1
         ],
         "tickangle": -45,
         "tickfont": {
          "size": 12
         },
         "title": {
          "text": "Batter"
         }
        },
        "yaxis": {
         "anchor": "x",
         "domain": [
          0,
          1
         ],
         "title": {
          "text": "% Runs from Boundaries"
         }
        }
       }
      }
     },
     "metadata": {},
     "output_type": "display_data"
    }
   ],
   "source": [
    "import pandas as pd\n",
    "import plotly.express as px\n",
    "\n",
    "# -------------------------\n",
    "# Calculate Boundary Dependency\n",
    "# -------------------------\n",
    "batter_runs = df.groupby('batter').agg(batsman_runs=('batsman_runs','sum')).reset_index()\n",
    "boundary_runs = df[df['batsman_runs'].isin([4,6])].groupby('batter').agg(boundary_runs=('batsman_runs','sum')).reset_index()\n",
    "batter = batter_runs.merge(boundary_runs, on='batter', how='left').fillna(0)\n",
    "batter['boundary_ratio'] = batter['boundary_runs'] / batter['batsman_runs'] * 100\n",
    "\n",
    "# Top 20 batters by total runs\n",
    "top = batter.sort_values('batsman_runs', ascending=False).head(20)\n",
    "\n",
    "# -------------------------\n",
    "# Plotly Express Bar Chart\n",
    "# -------------------------\n",
    "fig = px.bar(\n",
    "    top,\n",
    "    x='batter',\n",
    "    y='boundary_ratio',\n",
    "    text=top['boundary_ratio'].apply(lambda x: f\"{x:.1f}%\"),\n",
    "    color='boundary_ratio',\n",
    "    color_continuous_scale='Viridis',\n",
    "    title='Top 20 Batters — % Runs from Boundaries',\n",
    "    labels={'boundary_ratio': '% Runs from Boundaries', 'batter': 'Batter'},\n",
    "    template='plotly_dark',\n",
    "    height=500\n",
    ")\n",
    "\n",
    "# Rotate x-axis labels\n",
    "fig.update_layout(\n",
    "    xaxis_tickangle=-45,\n",
    "    xaxis_tickfont_size=12,\n",
    "    yaxis=dict(title='% Runs from Boundaries'),\n",
    "    coloraxis_showscale=False\n",
    ")\n",
    "\n",
    "# Show chart\n",
    "fig.show()\n"
   ]
  },
  {
   "cell_type": "code",
   "execution_count": 10,
   "id": "6066d3f8",
   "metadata": {},
   "outputs": [
    {
     "name": "stdout",
     "output_type": "stream",
     "text": [
      "Name: ipywidgets\n",
      "Version: 8.1.7\n",
      "Summary: Jupyter interactive widgets\n",
      "Home-page: http://jupyter.org\n",
      "Author: Jupyter Development Team\n",
      "Author-email: jupyter@googlegroups.com\n",
      "License: BSD 3-Clause License\n",
      "Location: C:\\Users\\Vishal\\AppData\\Roaming\\Python\\Python313\\site-packages\n",
      "Requires: comm, ipython, jupyterlab_widgets, traitlets, widgetsnbextension\n",
      "Required-by: \n",
      "Requirement already satisfied: ipywidgets in c:\\users\\vishal\\appdata\\local\\programs\\python\\python312\\lib\\site-packages (8.1.7)\n",
      "Requirement already satisfied: comm>=0.1.3 in c:\\users\\vishal\\appdata\\roaming\\python\\python312\\site-packages (from ipywidgets) (0.2.3)\n",
      "Requirement already satisfied: ipython>=6.1.0 in c:\\users\\vishal\\appdata\\roaming\\python\\python312\\site-packages (from ipywidgets) (9.5.0)\n",
      "Requirement already satisfied: traitlets>=4.3.1 in c:\\users\\vishal\\appdata\\roaming\\python\\python312\\site-packages (from ipywidgets) (5.14.3)\n",
      "Requirement already satisfied: widgetsnbextension~=4.0.14 in c:\\users\\vishal\\appdata\\local\\programs\\python\\python312\\lib\\site-packages (from ipywidgets) (4.0.14)\n",
      "Requirement already satisfied: jupyterlab_widgets~=3.0.15 in c:\\users\\vishal\\appdata\\local\\programs\\python\\python312\\lib\\site-packages (from ipywidgets) (3.0.15)\n",
      "Requirement already satisfied: colorama in c:\\users\\vishal\\appdata\\local\\programs\\python\\python312\\lib\\site-packages (from ipython>=6.1.0->ipywidgets) (0.4.6)\n",
      "Requirement already satisfied: decorator in c:\\users\\vishal\\appdata\\roaming\\python\\python312\\site-packages (from ipython>=6.1.0->ipywidgets) (5.2.1)\n",
      "Requirement already satisfied: ipython-pygments-lexers in c:\\users\\vishal\\appdata\\roaming\\python\\python312\\site-packages (from ipython>=6.1.0->ipywidgets) (1.1.1)\n",
      "Requirement already satisfied: jedi>=0.16 in c:\\users\\vishal\\appdata\\roaming\\python\\python312\\site-packages (from ipython>=6.1.0->ipywidgets) (0.19.2)\n",
      "Requirement already satisfied: matplotlib-inline in c:\\users\\vishal\\appdata\\roaming\\python\\python312\\site-packages (from ipython>=6.1.0->ipywidgets) (0.1.7)\n",
      "Requirement already satisfied: prompt_toolkit<3.1.0,>=3.0.41 in c:\\users\\vishal\\appdata\\roaming\\python\\python312\\site-packages (from ipython>=6.1.0->ipywidgets) (3.0.52)\n",
      "Requirement already satisfied: pygments>=2.4.0 in c:\\users\\vishal\\appdata\\roaming\\python\\python312\\site-packages (from ipython>=6.1.0->ipywidgets) (2.19.2)\n",
      "Requirement already satisfied: stack_data in c:\\users\\vishal\\appdata\\roaming\\python\\python312\\site-packages (from ipython>=6.1.0->ipywidgets) (0.6.3)\n",
      "Requirement already satisfied: parso<0.9.0,>=0.8.4 in c:\\users\\vishal\\appdata\\roaming\\python\\python312\\site-packages (from jedi>=0.16->ipython>=6.1.0->ipywidgets) (0.8.5)\n",
      "Requirement already satisfied: wcwidth in c:\\users\\vishal\\appdata\\roaming\\python\\python312\\site-packages (from prompt_toolkit<3.1.0,>=3.0.41->ipython>=6.1.0->ipywidgets) (0.2.14)\n",
      "Requirement already satisfied: executing>=1.2.0 in c:\\users\\vishal\\appdata\\roaming\\python\\python312\\site-packages (from stack_data->ipython>=6.1.0->ipywidgets) (2.2.1)\n",
      "Requirement already satisfied: asttokens>=2.1.0 in c:\\users\\vishal\\appdata\\roaming\\python\\python312\\site-packages (from stack_data->ipython>=6.1.0->ipywidgets) (3.0.0)\n",
      "Requirement already satisfied: pure-eval in c:\\users\\vishal\\appdata\\roaming\\python\\python312\\site-packages (from stack_data->ipython>=6.1.0->ipywidgets) (0.2.3)\n"
     ]
    },
    {
     "name": "stderr",
     "output_type": "stream",
     "text": [
      "\n",
      "[notice] A new release of pip is available: 25.0.1 -> 25.2\n",
      "[notice] To update, run: python.exe -m pip install --upgrade pip\n"
     ]
    }
   ],
   "source": [
    "! pip show ipywidgets\n",
    "\n",
    "import sys\n",
    "!{sys.executable} -m pip install ipywidgets\n",
    "\n"
   ]
  },
  {
   "cell_type": "code",
   "execution_count": 11,
   "id": "49338f92",
   "metadata": {},
   "outputs": [
    {
     "data": {
      "application/vnd.jupyter.widget-view+json": {
       "model_id": "dfe21be452034b3489689aad1f49506a",
       "version_major": 2,
       "version_minor": 0
      },
      "text/plain": [
       "interactive(children=(Dropdown(description='Batsman', options=('A Ashish Reddy', 'A Badoni', 'A Chandila', 'A …"
      ]
     },
     "metadata": {},
     "output_type": "display_data"
    },
    {
     "data": {
      "text/plain": [
       "<function __main__.plot_run_type_distribution(batsman_name)>"
      ]
     },
     "execution_count": 11,
     "metadata": {},
     "output_type": "execute_result"
    }
   ],
   "source": [
    "import pandas as pd\n",
    "import matplotlib.pyplot as plt\n",
    "import seaborn as sns\n",
    "from ipywidgets import interact, Dropdown\n",
    "\n",
    "# Load dataset\n",
    "df = pd.read_csv(r\"c:\\Users\\Vishal\\OneDrive\\Desktop\\mini project\\deliveries (1).csv\")\n",
    "\n",
    "# Create run type category including Dot balls\n",
    "df['run_type'] = df['batsman_runs'].apply(\n",
    "    lambda x: 'Dot' if x == 0 else\n",
    "              'Single' if x == 1 else\n",
    "              'Double' if x == 2 else\n",
    "              'Triple' if x == 3 else\n",
    "              'Four' if x == 4 else\n",
    "              'Six' if x == 6 else 'Other'\n",
    ")\n",
    "\n",
    "# Unique batsmen list\n",
    "batsmen = sorted(df['batter'].dropna().unique().tolist())\n",
    "\n",
    "def plot_run_type_distribution(batsman_name):\n",
    "    df_batsman = df[df['batter'] == batsman_name]\n",
    "    \n",
    "    if df_batsman.empty:\n",
    "        print(f\"❌ {batsman_name} ka data nahi mila\")\n",
    "        return\n",
    "\n",
    "    run_counts = df_batsman.groupby('run_type').size().reset_index(name='count')\n",
    "    run_counts = run_counts.set_index('run_type').reindex(['Dot', 'Single', 'Double', 'Triple', 'Four', 'Six'], fill_value=0)\n",
    "\n",
    "    plt.figure(figsize=(10, 6))\n",
    "    sns.barplot(x=run_counts.index, y=run_counts['count'], palette='plasma')\n",
    "\n",
    "    plt.title(f\"Run Type Distribution — {batsman_name}\", fontsize=16)\n",
    "    plt.xlabel(\"Run Type\", fontsize=12)\n",
    "    plt.ylabel(\"Count\", fontsize=12)\n",
    "    plt.grid(axis='y')\n",
    "    plt.show()\n",
    "\n",
    "# Interactive dropdown widget\n",
    "interact(plot_run_type_distribution, batsman_name=Dropdown(options=batsmen, description=\"Batsman\"))\n"
   ]
  },
  {
   "cell_type": "code",
   "execution_count": 12,
   "id": "cee0bb99",
   "metadata": {},
   "outputs": [
    {
     "data": {
      "application/vnd.jupyter.widget-view+json": {
       "model_id": "bbdc01a559b7422c8b182a670a3894b3",
       "version_major": 2,
       "version_minor": 0
      },
      "text/plain": [
       "interactive(children=(Dropdown(description='Batsman', options=('A Ashish Reddy', 'A Badoni', 'A Chandila', 'A …"
      ]
     },
     "metadata": {},
     "output_type": "display_data"
    },
    {
     "data": {
      "text/plain": [
       "<function __main__.plot_run_type_distribution(batsman_name)>"
      ]
     },
     "execution_count": 12,
     "metadata": {},
     "output_type": "execute_result"
    }
   ],
   "source": [
    "import pandas as pd\n",
    "import matplotlib.pyplot as plt\n",
    "import seaborn as sns\n",
    "from ipywidgets import interact, Dropdown\n",
    "\n",
    "# Load dataset\n",
    "df = pd.read_csv(r\"c:\\Users\\Vishal\\OneDrive\\Desktop\\mini project\\deliveries (1).csv\")\n",
    "\n",
    "# Create run type category including Dot balls\n",
    "df['run_type'] = df['batsman_runs'].apply(\n",
    "    lambda x: 'Dot' if x == 0 else\n",
    "              'Single' if x == 1 else\n",
    "              'Double' if x == 2 else\n",
    "              'Triple' if x == 3 else\n",
    "              'Four' if x == 4 else\n",
    "              'Six' if x == 6 else 'Other'\n",
    ")\n",
    "\n",
    "# Unique batsmen list\n",
    "batsmen = sorted(df['batter'].dropna().unique().tolist())\n",
    "\n",
    "def plot_run_type_distribution(batsman_name):\n",
    "    df_batsman = df[df['batter'] == batsman_name]\n",
    "    \n",
    "    if df_batsman.empty:\n",
    "        print(f\"❌ {batsman_name} ka data nahi mila\")\n",
    "        return\n",
    "\n",
    "    run_counts = df_batsman.groupby('run_type').size().reset_index(name='count')\n",
    "    run_counts = run_counts.set_index('run_type').reindex(['Dot', 'Single', 'Double', 'Triple', 'Four', 'Six'], fill_value=0)\n",
    "\n",
    "    plt.figure(figsize=(10, 6))\n",
    "    sns.barplot(x=run_counts.index, y=run_counts['count'], palette='plasma')\n",
    "\n",
    "    plt.title(f\"Run Type Distribution — {batsman_name}\", fontsize=16)\n",
    "    plt.xlabel(\"Run Type\", fontsize=12)\n",
    "    plt.ylabel(\"Count\", fontsize=12)\n",
    "    plt.grid(axis='y')\n",
    "    plt.show()\n",
    "\n",
    "# Interactive dropdown widget\n",
    "interact(plot_run_type_distribution, batsman_name=Dropdown(options=batsmen, description=\"Batsman\"))\n"
   ]
  },
  {
   "cell_type": "markdown",
   "id": "fdacb365",
   "metadata": {},
   "source": [
    "**Analysis:** Players with high boundary percentages (≥60%) are clear power hitters; those with low percentages rely on ones and twos. Use this to identify finishers vs accumulators.\n"
   ]
  },
  {
   "cell_type": "markdown",
   "id": "b402f1a6",
   "metadata": {},
   "source": [
    "## 2) Bowler Pressure Index\n",
    "\n",
    "**Goal:** Plot dot-ball percentage against wicket percentage to find bowlers who build pressure (high dot %) and also convert it to wickets.\n"
   ]
  },
  {
   "cell_type": "code",
   "execution_count": 13,
   "id": "69ac0e53",
   "metadata": {},
   "outputs": [
    {
     "data": {
      "application/vnd.plotly.v1+json": {
       "config": {
        "plotlyServerURL": "https://plot.ly"
       },
       "data": [
        {
         "hovertemplate": "<b>%{hovertext}</b><br><br>Dot Ball %=%{x}<br>Wicket %=%{marker.color}<br>balls=%{marker.size}<extra></extra>",
         "hovertext": [
          "GD McGrath",
          "IC Pandey",
          "DW Steyn",
          "BW Hilfenhaus",
          "MM Patel",
          "JC Archer",
          "DE Bollinger",
          "S Sreesanth",
          "RJ Harris",
          "M Morkel",
          "JR Hazlewood",
          "DP Nannes",
          "NM Coulter-Nile",
          "Mohsin Khan",
          "MG Johnson",
          "B Lee",
          "P Kumar",
          "TA Boult",
          "DL Chahar",
          "A Nehra",
          "B Kumar",
          "AD Mascarenhas",
          "I Sharma",
          "Navdeep Saini",
          "RP Singh",
          "DS Kulkarni",
          "IK Pathan",
          "Umran Malik",
          "AB Dinda",
          "WD Parnell"
         ],
         "legendgroup": "",
         "marker": {
          "color": {
           "bdata": "xOQKYnIFEUCEU0ueZjQQQKV9kAyoZxJAb/mWb/mWF0CBUUwG1bsXQJC1DB2w2xNAq6qqqqqqHEA2Y6tioSkSQFd5Jj7uuxVAi0FPZtO3FECL4YInsCYXQOLxBfCaDxZAjDrTuIFRF0DBGdciQU0VQODWzPPFShRAMlfKb2wzCkD+lVOvuvEOQAbt8kBaFhVAGo9YAjgZEkAnsY9izIQYQMSshQI6NhNAhBBCCCGEGEASDdT0MZ4PQID++eeffw5AADKhYj9YFUBrTKQHKmcTQCwWCXW6vRJA7E6grWDkF0DmsJ5rVKQUQN71fKWxGxVA",
           "dtype": "f8"
          },
          "coloraxis": "coloraxis",
          "size": {
           "bdata": "SQHVAeoIhgFmBdsDWAKzA2EDowZuArECfAP7ARUFlANNCnwJ0ga2B9wPNgF9CaoCUgdUB0EIBwI1BvYC",
           "dtype": "i2"
          },
          "sizemode": "area",
          "sizeref": 1.1277777777777778,
          "symbol": "circle"
         },
         "mode": "markers",
         "name": "",
         "orientation": "v",
         "showlegend": false,
         "type": "scatter",
         "x": {
          "bdata": "p+HuZZVAR0BTRf1w7ZlGQPH5TiCwU0ZA3/It3/ItRkDqWLBMi1hFQPWdjfrORkVAq6qqqqoqRUCtBenWBxFFQGji475bCkVAX+MpDvbVREAOCTNO59FEQMOSBUGhrkRABmVYrbegREBmwk1Sh5xEQP8wq7Kkj0RAV8pvbDNqREBtmzsCDWJEQDrpiecFTkRAkPQOxWBGRECo72zUdzZEQGdKr784GURAAAAAAAAAREA/xvODTPJDQPHDDz/88ENAx098EcDZQ0ConN3Cr8ZDQNwn9wg2wkNAf0l9buC/Q0Cq8RRGubpDQKGWE7lqhkNA",
          "dtype": "f8"
         },
         "xaxis": "x",
         "y": {
          "bdata": "xOQKYnIFEUCEU0ueZjQQQKV9kAyoZxJAb/mWb/mWF0CBUUwG1bsXQJC1DB2w2xNAq6qqqqqqHEA2Y6tioSkSQFd5Jj7uuxVAi0FPZtO3FECL4YInsCYXQOLxBfCaDxZAjDrTuIFRF0DBGdciQU0VQODWzPPFShRAMlfKb2wzCkD+lVOvuvEOQAbt8kBaFhVAGo9YAjgZEkAnsY9izIQYQMSshQI6NhNAhBBCCCGEGEASDdT0MZ4PQID++eeffw5AADKhYj9YFUBrTKQHKmcTQCwWCXW6vRJA7E6grWDkF0DmsJ5rVKQUQN71fKWxGxVA",
          "dtype": "f8"
         },
         "yaxis": "y"
        }
       ],
       "layout": {
        "coloraxis": {
         "colorbar": {
          "title": {
           "text": "Wicket %"
          }
         },
         "colorscale": [
          [
           0,
           "#440154"
          ],
          [
           0.1111111111111111,
           "#482878"
          ],
          [
           0.2222222222222222,
           "#3e4989"
          ],
          [
           0.3333333333333333,
           "#31688e"
          ],
          [
           0.4444444444444444,
           "#26828e"
          ],
          [
           0.5555555555555556,
           "#1f9e89"
          ],
          [
           0.6666666666666666,
           "#35b779"
          ],
          [
           0.7777777777777778,
           "#6ece58"
          ],
          [
           0.8888888888888888,
           "#b5de2b"
          ],
          [
           1,
           "#fde725"
          ]
         ]
        },
        "legend": {
         "itemsizing": "constant",
         "tracegroupgap": 0
        },
        "template": {
         "data": {
          "bar": [
           {
            "error_x": {
             "color": "#f2f5fa"
            },
            "error_y": {
             "color": "#f2f5fa"
            },
            "marker": {
             "line": {
              "color": "rgb(17,17,17)",
              "width": 0.5
             },
             "pattern": {
              "fillmode": "overlay",
              "size": 10,
              "solidity": 0.2
             }
            },
            "type": "bar"
           }
          ],
          "barpolar": [
           {
            "marker": {
             "line": {
              "color": "rgb(17,17,17)",
              "width": 0.5
             },
             "pattern": {
              "fillmode": "overlay",
              "size": 10,
              "solidity": 0.2
             }
            },
            "type": "barpolar"
           }
          ],
          "carpet": [
           {
            "aaxis": {
             "endlinecolor": "#A2B1C6",
             "gridcolor": "#506784",
             "linecolor": "#506784",
             "minorgridcolor": "#506784",
             "startlinecolor": "#A2B1C6"
            },
            "baxis": {
             "endlinecolor": "#A2B1C6",
             "gridcolor": "#506784",
             "linecolor": "#506784",
             "minorgridcolor": "#506784",
             "startlinecolor": "#A2B1C6"
            },
            "type": "carpet"
           }
          ],
          "choropleth": [
           {
            "colorbar": {
             "outlinewidth": 0,
             "ticks": ""
            },
            "type": "choropleth"
           }
          ],
          "contour": [
           {
            "colorbar": {
             "outlinewidth": 0,
             "ticks": ""
            },
            "colorscale": [
             [
              0,
              "#0d0887"
             ],
             [
              0.1111111111111111,
              "#46039f"
             ],
             [
              0.2222222222222222,
              "#7201a8"
             ],
             [
              0.3333333333333333,
              "#9c179e"
             ],
             [
              0.4444444444444444,
              "#bd3786"
             ],
             [
              0.5555555555555556,
              "#d8576b"
             ],
             [
              0.6666666666666666,
              "#ed7953"
             ],
             [
              0.7777777777777778,
              "#fb9f3a"
             ],
             [
              0.8888888888888888,
              "#fdca26"
             ],
             [
              1,
              "#f0f921"
             ]
            ],
            "type": "contour"
           }
          ],
          "contourcarpet": [
           {
            "colorbar": {
             "outlinewidth": 0,
             "ticks": ""
            },
            "type": "contourcarpet"
           }
          ],
          "heatmap": [
           {
            "colorbar": {
             "outlinewidth": 0,
             "ticks": ""
            },
            "colorscale": [
             [
              0,
              "#0d0887"
             ],
             [
              0.1111111111111111,
              "#46039f"
             ],
             [
              0.2222222222222222,
              "#7201a8"
             ],
             [
              0.3333333333333333,
              "#9c179e"
             ],
             [
              0.4444444444444444,
              "#bd3786"
             ],
             [
              0.5555555555555556,
              "#d8576b"
             ],
             [
              0.6666666666666666,
              "#ed7953"
             ],
             [
              0.7777777777777778,
              "#fb9f3a"
             ],
             [
              0.8888888888888888,
              "#fdca26"
             ],
             [
              1,
              "#f0f921"
             ]
            ],
            "type": "heatmap"
           }
          ],
          "histogram": [
           {
            "marker": {
             "pattern": {
              "fillmode": "overlay",
              "size": 10,
              "solidity": 0.2
             }
            },
            "type": "histogram"
           }
          ],
          "histogram2d": [
           {
            "colorbar": {
             "outlinewidth": 0,
             "ticks": ""
            },
            "colorscale": [
             [
              0,
              "#0d0887"
             ],
             [
              0.1111111111111111,
              "#46039f"
             ],
             [
              0.2222222222222222,
              "#7201a8"
             ],
             [
              0.3333333333333333,
              "#9c179e"
             ],
             [
              0.4444444444444444,
              "#bd3786"
             ],
             [
              0.5555555555555556,
              "#d8576b"
             ],
             [
              0.6666666666666666,
              "#ed7953"
             ],
             [
              0.7777777777777778,
              "#fb9f3a"
             ],
             [
              0.8888888888888888,
              "#fdca26"
             ],
             [
              1,
              "#f0f921"
             ]
            ],
            "type": "histogram2d"
           }
          ],
          "histogram2dcontour": [
           {
            "colorbar": {
             "outlinewidth": 0,
             "ticks": ""
            },
            "colorscale": [
             [
              0,
              "#0d0887"
             ],
             [
              0.1111111111111111,
              "#46039f"
             ],
             [
              0.2222222222222222,
              "#7201a8"
             ],
             [
              0.3333333333333333,
              "#9c179e"
             ],
             [
              0.4444444444444444,
              "#bd3786"
             ],
             [
              0.5555555555555556,
              "#d8576b"
             ],
             [
              0.6666666666666666,
              "#ed7953"
             ],
             [
              0.7777777777777778,
              "#fb9f3a"
             ],
             [
              0.8888888888888888,
              "#fdca26"
             ],
             [
              1,
              "#f0f921"
             ]
            ],
            "type": "histogram2dcontour"
           }
          ],
          "mesh3d": [
           {
            "colorbar": {
             "outlinewidth": 0,
             "ticks": ""
            },
            "type": "mesh3d"
           }
          ],
          "parcoords": [
           {
            "line": {
             "colorbar": {
              "outlinewidth": 0,
              "ticks": ""
             }
            },
            "type": "parcoords"
           }
          ],
          "pie": [
           {
            "automargin": true,
            "type": "pie"
           }
          ],
          "scatter": [
           {
            "marker": {
             "line": {
              "color": "#283442"
             }
            },
            "type": "scatter"
           }
          ],
          "scatter3d": [
           {
            "line": {
             "colorbar": {
              "outlinewidth": 0,
              "ticks": ""
             }
            },
            "marker": {
             "colorbar": {
              "outlinewidth": 0,
              "ticks": ""
             }
            },
            "type": "scatter3d"
           }
          ],
          "scattercarpet": [
           {
            "marker": {
             "colorbar": {
              "outlinewidth": 0,
              "ticks": ""
             }
            },
            "type": "scattercarpet"
           }
          ],
          "scattergeo": [
           {
            "marker": {
             "colorbar": {
              "outlinewidth": 0,
              "ticks": ""
             }
            },
            "type": "scattergeo"
           }
          ],
          "scattergl": [
           {
            "marker": {
             "line": {
              "color": "#283442"
             }
            },
            "type": "scattergl"
           }
          ],
          "scattermap": [
           {
            "marker": {
             "colorbar": {
              "outlinewidth": 0,
              "ticks": ""
             }
            },
            "type": "scattermap"
           }
          ],
          "scattermapbox": [
           {
            "marker": {
             "colorbar": {
              "outlinewidth": 0,
              "ticks": ""
             }
            },
            "type": "scattermapbox"
           }
          ],
          "scatterpolar": [
           {
            "marker": {
             "colorbar": {
              "outlinewidth": 0,
              "ticks": ""
             }
            },
            "type": "scatterpolar"
           }
          ],
          "scatterpolargl": [
           {
            "marker": {
             "colorbar": {
              "outlinewidth": 0,
              "ticks": ""
             }
            },
            "type": "scatterpolargl"
           }
          ],
          "scatterternary": [
           {
            "marker": {
             "colorbar": {
              "outlinewidth": 0,
              "ticks": ""
             }
            },
            "type": "scatterternary"
           }
          ],
          "surface": [
           {
            "colorbar": {
             "outlinewidth": 0,
             "ticks": ""
            },
            "colorscale": [
             [
              0,
              "#0d0887"
             ],
             [
              0.1111111111111111,
              "#46039f"
             ],
             [
              0.2222222222222222,
              "#7201a8"
             ],
             [
              0.3333333333333333,
              "#9c179e"
             ],
             [
              0.4444444444444444,
              "#bd3786"
             ],
             [
              0.5555555555555556,
              "#d8576b"
             ],
             [
              0.6666666666666666,
              "#ed7953"
             ],
             [
              0.7777777777777778,
              "#fb9f3a"
             ],
             [
              0.8888888888888888,
              "#fdca26"
             ],
             [
              1,
              "#f0f921"
             ]
            ],
            "type": "surface"
           }
          ],
          "table": [
           {
            "cells": {
             "fill": {
              "color": "#506784"
             },
             "line": {
              "color": "rgb(17,17,17)"
             }
            },
            "header": {
             "fill": {
              "color": "#2a3f5f"
             },
             "line": {
              "color": "rgb(17,17,17)"
             }
            },
            "type": "table"
           }
          ]
         },
         "layout": {
          "annotationdefaults": {
           "arrowcolor": "#f2f5fa",
           "arrowhead": 0,
           "arrowwidth": 1
          },
          "autotypenumbers": "strict",
          "coloraxis": {
           "colorbar": {
            "outlinewidth": 0,
            "ticks": ""
           }
          },
          "colorscale": {
           "diverging": [
            [
             0,
             "#8e0152"
            ],
            [
             0.1,
             "#c51b7d"
            ],
            [
             0.2,
             "#de77ae"
            ],
            [
             0.3,
             "#f1b6da"
            ],
            [
             0.4,
             "#fde0ef"
            ],
            [
             0.5,
             "#f7f7f7"
            ],
            [
             0.6,
             "#e6f5d0"
            ],
            [
             0.7,
             "#b8e186"
            ],
            [
             0.8,
             "#7fbc41"
            ],
            [
             0.9,
             "#4d9221"
            ],
            [
             1,
             "#276419"
            ]
           ],
           "sequential": [
            [
             0,
             "#0d0887"
            ],
            [
             0.1111111111111111,
             "#46039f"
            ],
            [
             0.2222222222222222,
             "#7201a8"
            ],
            [
             0.3333333333333333,
             "#9c179e"
            ],
            [
             0.4444444444444444,
             "#bd3786"
            ],
            [
             0.5555555555555556,
             "#d8576b"
            ],
            [
             0.6666666666666666,
             "#ed7953"
            ],
            [
             0.7777777777777778,
             "#fb9f3a"
            ],
            [
             0.8888888888888888,
             "#fdca26"
            ],
            [
             1,
             "#f0f921"
            ]
           ],
           "sequentialminus": [
            [
             0,
             "#0d0887"
            ],
            [
             0.1111111111111111,
             "#46039f"
            ],
            [
             0.2222222222222222,
             "#7201a8"
            ],
            [
             0.3333333333333333,
             "#9c179e"
            ],
            [
             0.4444444444444444,
             "#bd3786"
            ],
            [
             0.5555555555555556,
             "#d8576b"
            ],
            [
             0.6666666666666666,
             "#ed7953"
            ],
            [
             0.7777777777777778,
             "#fb9f3a"
            ],
            [
             0.8888888888888888,
             "#fdca26"
            ],
            [
             1,
             "#f0f921"
            ]
           ]
          },
          "colorway": [
           "#636efa",
           "#EF553B",
           "#00cc96",
           "#ab63fa",
           "#FFA15A",
           "#19d3f3",
           "#FF6692",
           "#B6E880",
           "#FF97FF",
           "#FECB52"
          ],
          "font": {
           "color": "#f2f5fa"
          },
          "geo": {
           "bgcolor": "rgb(17,17,17)",
           "lakecolor": "rgb(17,17,17)",
           "landcolor": "rgb(17,17,17)",
           "showlakes": true,
           "showland": true,
           "subunitcolor": "#506784"
          },
          "hoverlabel": {
           "align": "left"
          },
          "hovermode": "closest",
          "mapbox": {
           "style": "dark"
          },
          "paper_bgcolor": "rgb(17,17,17)",
          "plot_bgcolor": "rgb(17,17,17)",
          "polar": {
           "angularaxis": {
            "gridcolor": "#506784",
            "linecolor": "#506784",
            "ticks": ""
           },
           "bgcolor": "rgb(17,17,17)",
           "radialaxis": {
            "gridcolor": "#506784",
            "linecolor": "#506784",
            "ticks": ""
           }
          },
          "scene": {
           "xaxis": {
            "backgroundcolor": "rgb(17,17,17)",
            "gridcolor": "#506784",
            "gridwidth": 2,
            "linecolor": "#506784",
            "showbackground": true,
            "ticks": "",
            "zerolinecolor": "#C8D4E3"
           },
           "yaxis": {
            "backgroundcolor": "rgb(17,17,17)",
            "gridcolor": "#506784",
            "gridwidth": 2,
            "linecolor": "#506784",
            "showbackground": true,
            "ticks": "",
            "zerolinecolor": "#C8D4E3"
           },
           "zaxis": {
            "backgroundcolor": "rgb(17,17,17)",
            "gridcolor": "#506784",
            "gridwidth": 2,
            "linecolor": "#506784",
            "showbackground": true,
            "ticks": "",
            "zerolinecolor": "#C8D4E3"
           }
          },
          "shapedefaults": {
           "line": {
            "color": "#f2f5fa"
           }
          },
          "sliderdefaults": {
           "bgcolor": "#C8D4E3",
           "bordercolor": "rgb(17,17,17)",
           "borderwidth": 1,
           "tickwidth": 0
          },
          "ternary": {
           "aaxis": {
            "gridcolor": "#506784",
            "linecolor": "#506784",
            "ticks": ""
           },
           "baxis": {
            "gridcolor": "#506784",
            "linecolor": "#506784",
            "ticks": ""
           },
           "bgcolor": "rgb(17,17,17)",
           "caxis": {
            "gridcolor": "#506784",
            "linecolor": "#506784",
            "ticks": ""
           }
          },
          "title": {
           "x": 0.05
          },
          "updatemenudefaults": {
           "bgcolor": "#506784",
           "borderwidth": 0
          },
          "xaxis": {
           "automargin": true,
           "gridcolor": "#283442",
           "linecolor": "#506784",
           "ticks": "",
           "title": {
            "standoff": 15
           },
           "zerolinecolor": "#283442",
           "zerolinewidth": 2
          },
          "yaxis": {
           "automargin": true,
           "gridcolor": "#283442",
           "linecolor": "#506784",
           "ticks": "",
           "title": {
            "standoff": 15
           },
           "zerolinecolor": "#283442",
           "zerolinewidth": 2
          }
         }
        },
        "title": {
         "text": "Bowler Pressure Index — Dot % vs Wicket % (bubble size ~ balls bowled)"
        },
        "xaxis": {
         "anchor": "y",
         "domain": [
          0,
          1
         ],
         "title": {
          "text": "Dot Ball Percentage"
         }
        },
        "yaxis": {
         "anchor": "x",
         "domain": [
          0,
          1
         ],
         "title": {
          "text": "Wicket Percentage"
         }
        }
       }
      }
     },
     "metadata": {},
     "output_type": "display_data"
    }
   ],
   "source": [
    "import pandas as pd\n",
    "import plotly.express as px\n",
    "\n",
    "# -------------------------\n",
    "# Bowler Pressure Index\n",
    "# -------------------------\n",
    "df['is_dot'] = df['total_runs'] == 0\n",
    "\n",
    "bowler_stats = df.groupby('bowler').agg(\n",
    "    balls=('ball','count'),\n",
    "    dots=('is_dot','sum'),\n",
    "    wickets=('is_wicket','sum')\n",
    ").reset_index()\n",
    "\n",
    "bowler_stats['dot_pct'] = bowler_stats['dots'] / bowler_stats['balls'] * 100\n",
    "bowler_stats['wicket_pct'] = bowler_stats['wickets'] / bowler_stats['balls'] * 100\n",
    "\n",
    "# Filter regular bowlers\n",
    "regular = bowler_stats[bowler_stats['balls'] >= 300].sort_values('dot_pct', ascending=False).head(30)\n",
    "\n",
    "# -------------------------\n",
    "# Interactive Scatter Plot\n",
    "# -------------------------\n",
    "fig = px.scatter(\n",
    "    regular,\n",
    "    x='dot_pct',\n",
    "    y='wicket_pct',\n",
    "    size='balls',                     # size of bubble ~ balls bowled\n",
    "    color='wicket_pct',               # color = wicket percentage\n",
    "    hover_name='bowler',              # shows bowler name on hover\n",
    "    size_max=60,\n",
    "    color_continuous_scale='Viridis',\n",
    "    title='Bowler Pressure Index — Dot % vs Wicket % (bubble size ~ balls bowled)',\n",
    "    labels={'dot_pct':'Dot Ball %', 'wicket_pct':'Wicket %'}\n",
    ")\n",
    "\n",
    "fig.update_layout(\n",
    "    xaxis=dict(title='Dot Ball Percentage'),\n",
    "    yaxis=dict(title='Wicket Percentage'),\n",
    "    template='plotly_dark'\n",
    ")\n",
    "\n",
    "fig.show()\n"
   ]
  },
  {
   "cell_type": "markdown",
   "id": "21e20568",
   "metadata": {},
   "source": [
    "**Analysis:** Bowlers in the top-right quadrant (high dot % & high wicket %) are the most effective — they choke scoring and take breakthroughs.\n"
   ]
  },
  {
   "cell_type": "markdown",
   "id": "91e152b5",
   "metadata": {},
   "source": [
    "## 3) Batting Momentum by Overs (Heatmap)\n",
    "\n",
    "**Goal:** Heatmap of average runs per over (1–20) for each team to reveal when teams score most.\n"
   ]
  },
  {
   "cell_type": "code",
   "execution_count": 14,
   "id": "99bbe60c",
   "metadata": {},
   "outputs": [
    {
     "data": {
      "application/vnd.plotly.v1+json": {
       "config": {
        "plotlyServerURL": "https://plot.ly"
       },
       "data": [
        {
         "coloraxis": "coloraxis",
         "hovertemplate": "Over: %{x}<br>Team: %{y}<br>Runs per Over: %{z}<extra></extra>",
         "name": "0",
         "type": "heatmap",
         "x": {
          "bdata": "AAECAwQFBgcICQoLDA0ODxAREhM=",
          "dtype": "i1"
         },
         "xaxis": "x",
         "y": [
          "Chennai Super Kings",
          "Deccan Chargers",
          "Delhi Capitals",
          "Delhi Daredevils",
          "Gujarat Lions",
          "Gujarat Titans",
          "Kings XI Punjab",
          "Kochi Tuskers Kerala",
          "Kolkata Knight Riders",
          "Lucknow Super Giants",
          "Mumbai Indians",
          "Pune Warriors",
          "Punjab Kings",
          "Rajasthan Royals",
          "Rising Pune Supergiant",
          "Rising Pune Supergiants",
          "Royal Challengers Bangalore",
          "Royal Challengers Bengaluru",
          "Sunrisers Hyderabad"
         ],
         "yaxis": "y",
         "z": {
          "bdata": "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",
          "dtype": "f8",
          "shape": "19, 20"
         }
        }
       ],
       "layout": {
        "coloraxis": {
         "colorbar": {
          "title": {
           "text": "Runs per Over"
          }
         },
         "colorscale": [
          [
           0,
           "rgb(255,255,204)"
          ],
          [
           0.125,
           "rgb(255,237,160)"
          ],
          [
           0.25,
           "rgb(254,217,118)"
          ],
          [
           0.375,
           "rgb(254,178,76)"
          ],
          [
           0.5,
           "rgb(253,141,60)"
          ],
          [
           0.625,
           "rgb(252,78,42)"
          ],
          [
           0.75,
           "rgb(227,26,28)"
          ],
          [
           0.875,
           "rgb(189,0,38)"
          ],
          [
           1,
           "rgb(128,0,38)"
          ]
         ]
        },
        "template": {
         "data": {
          "bar": [
           {
            "error_x": {
             "color": "#f2f5fa"
            },
            "error_y": {
             "color": "#f2f5fa"
            },
            "marker": {
             "line": {
              "color": "rgb(17,17,17)",
              "width": 0.5
             },
             "pattern": {
              "fillmode": "overlay",
              "size": 10,
              "solidity": 0.2
             }
            },
            "type": "bar"
           }
          ],
          "barpolar": [
           {
            "marker": {
             "line": {
              "color": "rgb(17,17,17)",
              "width": 0.5
             },
             "pattern": {
              "fillmode": "overlay",
              "size": 10,
              "solidity": 0.2
             }
            },
            "type": "barpolar"
           }
          ],
          "carpet": [
           {
            "aaxis": {
             "endlinecolor": "#A2B1C6",
             "gridcolor": "#506784",
             "linecolor": "#506784",
             "minorgridcolor": "#506784",
             "startlinecolor": "#A2B1C6"
            },
            "baxis": {
             "endlinecolor": "#A2B1C6",
             "gridcolor": "#506784",
             "linecolor": "#506784",
             "minorgridcolor": "#506784",
             "startlinecolor": "#A2B1C6"
            },
            "type": "carpet"
           }
          ],
          "choropleth": [
           {
            "colorbar": {
             "outlinewidth": 0,
             "ticks": ""
            },
            "type": "choropleth"
           }
          ],
          "contour": [
           {
            "colorbar": {
             "outlinewidth": 0,
             "ticks": ""
            },
            "colorscale": [
             [
              0,
              "#0d0887"
             ],
             [
              0.1111111111111111,
              "#46039f"
             ],
             [
              0.2222222222222222,
              "#7201a8"
             ],
             [
              0.3333333333333333,
              "#9c179e"
             ],
             [
              0.4444444444444444,
              "#bd3786"
             ],
             [
              0.5555555555555556,
              "#d8576b"
             ],
             [
              0.6666666666666666,
              "#ed7953"
             ],
             [
              0.7777777777777778,
              "#fb9f3a"
             ],
             [
              0.8888888888888888,
              "#fdca26"
             ],
             [
              1,
              "#f0f921"
             ]
            ],
            "type": "contour"
           }
          ],
          "contourcarpet": [
           {
            "colorbar": {
             "outlinewidth": 0,
             "ticks": ""
            },
            "type": "contourcarpet"
           }
          ],
          "heatmap": [
           {
            "colorbar": {
             "outlinewidth": 0,
             "ticks": ""
            },
            "colorscale": [
             [
              0,
              "#0d0887"
             ],
             [
              0.1111111111111111,
              "#46039f"
             ],
             [
              0.2222222222222222,
              "#7201a8"
             ],
             [
              0.3333333333333333,
              "#9c179e"
             ],
             [
              0.4444444444444444,
              "#bd3786"
             ],
             [
              0.5555555555555556,
              "#d8576b"
             ],
             [
              0.6666666666666666,
              "#ed7953"
             ],
             [
              0.7777777777777778,
              "#fb9f3a"
             ],
             [
              0.8888888888888888,
              "#fdca26"
             ],
             [
              1,
              "#f0f921"
             ]
            ],
            "type": "heatmap"
           }
          ],
          "histogram": [
           {
            "marker": {
             "pattern": {
              "fillmode": "overlay",
              "size": 10,
              "solidity": 0.2
             }
            },
            "type": "histogram"
           }
          ],
          "histogram2d": [
           {
            "colorbar": {
             "outlinewidth": 0,
             "ticks": ""
            },
            "colorscale": [
             [
              0,
              "#0d0887"
             ],
             [
              0.1111111111111111,
              "#46039f"
             ],
             [
              0.2222222222222222,
              "#7201a8"
             ],
             [
              0.3333333333333333,
              "#9c179e"
             ],
             [
              0.4444444444444444,
              "#bd3786"
             ],
             [
              0.5555555555555556,
              "#d8576b"
             ],
             [
              0.6666666666666666,
              "#ed7953"
             ],
             [
              0.7777777777777778,
              "#fb9f3a"
             ],
             [
              0.8888888888888888,
              "#fdca26"
             ],
             [
              1,
              "#f0f921"
             ]
            ],
            "type": "histogram2d"
           }
          ],
          "histogram2dcontour": [
           {
            "colorbar": {
             "outlinewidth": 0,
             "ticks": ""
            },
            "colorscale": [
             [
              0,
              "#0d0887"
             ],
             [
              0.1111111111111111,
              "#46039f"
             ],
             [
              0.2222222222222222,
              "#7201a8"
             ],
             [
              0.3333333333333333,
              "#9c179e"
             ],
             [
              0.4444444444444444,
              "#bd3786"
             ],
             [
              0.5555555555555556,
              "#d8576b"
             ],
             [
              0.6666666666666666,
              "#ed7953"
             ],
             [
              0.7777777777777778,
              "#fb9f3a"
             ],
             [
              0.8888888888888888,
              "#fdca26"
             ],
             [
              1,
              "#f0f921"
             ]
            ],
            "type": "histogram2dcontour"
           }
          ],
          "mesh3d": [
           {
            "colorbar": {
             "outlinewidth": 0,
             "ticks": ""
            },
            "type": "mesh3d"
           }
          ],
          "parcoords": [
           {
            "line": {
             "colorbar": {
              "outlinewidth": 0,
              "ticks": ""
             }
            },
            "type": "parcoords"
           }
          ],
          "pie": [
           {
            "automargin": true,
            "type": "pie"
           }
          ],
          "scatter": [
           {
            "marker": {
             "line": {
              "color": "#283442"
             }
            },
            "type": "scatter"
           }
          ],
          "scatter3d": [
           {
            "line": {
             "colorbar": {
              "outlinewidth": 0,
              "ticks": ""
             }
            },
            "marker": {
             "colorbar": {
              "outlinewidth": 0,
              "ticks": ""
             }
            },
            "type": "scatter3d"
           }
          ],
          "scattercarpet": [
           {
            "marker": {
             "colorbar": {
              "outlinewidth": 0,
              "ticks": ""
             }
            },
            "type": "scattercarpet"
           }
          ],
          "scattergeo": [
           {
            "marker": {
             "colorbar": {
              "outlinewidth": 0,
              "ticks": ""
             }
            },
            "type": "scattergeo"
           }
          ],
          "scattergl": [
           {
            "marker": {
             "line": {
              "color": "#283442"
             }
            },
            "type": "scattergl"
           }
          ],
          "scattermap": [
           {
            "marker": {
             "colorbar": {
              "outlinewidth": 0,
              "ticks": ""
             }
            },
            "type": "scattermap"
           }
          ],
          "scattermapbox": [
           {
            "marker": {
             "colorbar": {
              "outlinewidth": 0,
              "ticks": ""
             }
            },
            "type": "scattermapbox"
           }
          ],
          "scatterpolar": [
           {
            "marker": {
             "colorbar": {
              "outlinewidth": 0,
              "ticks": ""
             }
            },
            "type": "scatterpolar"
           }
          ],
          "scatterpolargl": [
           {
            "marker": {
             "colorbar": {
              "outlinewidth": 0,
              "ticks": ""
             }
            },
            "type": "scatterpolargl"
           }
          ],
          "scatterternary": [
           {
            "marker": {
             "colorbar": {
              "outlinewidth": 0,
              "ticks": ""
             }
            },
            "type": "scatterternary"
           }
          ],
          "surface": [
           {
            "colorbar": {
             "outlinewidth": 0,
             "ticks": ""
            },
            "colorscale": [
             [
              0,
              "#0d0887"
             ],
             [
              0.1111111111111111,
              "#46039f"
             ],
             [
              0.2222222222222222,
              "#7201a8"
             ],
             [
              0.3333333333333333,
              "#9c179e"
             ],
             [
              0.4444444444444444,
              "#bd3786"
             ],
             [
              0.5555555555555556,
              "#d8576b"
             ],
             [
              0.6666666666666666,
              "#ed7953"
             ],
             [
              0.7777777777777778,
              "#fb9f3a"
             ],
             [
              0.8888888888888888,
              "#fdca26"
             ],
             [
              1,
              "#f0f921"
             ]
            ],
            "type": "surface"
           }
          ],
          "table": [
           {
            "cells": {
             "fill": {
              "color": "#506784"
             },
             "line": {
              "color": "rgb(17,17,17)"
             }
            },
            "header": {
             "fill": {
              "color": "#2a3f5f"
             },
             "line": {
              "color": "rgb(17,17,17)"
             }
            },
            "type": "table"
           }
          ]
         },
         "layout": {
          "annotationdefaults": {
           "arrowcolor": "#f2f5fa",
           "arrowhead": 0,
           "arrowwidth": 1
          },
          "autotypenumbers": "strict",
          "coloraxis": {
           "colorbar": {
            "outlinewidth": 0,
            "ticks": ""
           }
          },
          "colorscale": {
           "diverging": [
            [
             0,
             "#8e0152"
            ],
            [
             0.1,
             "#c51b7d"
            ],
            [
             0.2,
             "#de77ae"
            ],
            [
             0.3,
             "#f1b6da"
            ],
            [
             0.4,
             "#fde0ef"
            ],
            [
             0.5,
             "#f7f7f7"
            ],
            [
             0.6,
             "#e6f5d0"
            ],
            [
             0.7,
             "#b8e186"
            ],
            [
             0.8,
             "#7fbc41"
            ],
            [
             0.9,
             "#4d9221"
            ],
            [
             1,
             "#276419"
            ]
           ],
           "sequential": [
            [
             0,
             "#0d0887"
            ],
            [
             0.1111111111111111,
             "#46039f"
            ],
            [
             0.2222222222222222,
             "#7201a8"
            ],
            [
             0.3333333333333333,
             "#9c179e"
            ],
            [
             0.4444444444444444,
             "#bd3786"
            ],
            [
             0.5555555555555556,
             "#d8576b"
            ],
            [
             0.6666666666666666,
             "#ed7953"
            ],
            [
             0.7777777777777778,
             "#fb9f3a"
            ],
            [
             0.8888888888888888,
             "#fdca26"
            ],
            [
             1,
             "#f0f921"
            ]
           ],
           "sequentialminus": [
            [
             0,
             "#0d0887"
            ],
            [
             0.1111111111111111,
             "#46039f"
            ],
            [
             0.2222222222222222,
             "#7201a8"
            ],
            [
             0.3333333333333333,
             "#9c179e"
            ],
            [
             0.4444444444444444,
             "#bd3786"
            ],
            [
             0.5555555555555556,
             "#d8576b"
            ],
            [
             0.6666666666666666,
             "#ed7953"
            ],
            [
             0.7777777777777778,
             "#fb9f3a"
            ],
            [
             0.8888888888888888,
             "#fdca26"
            ],
            [
             1,
             "#f0f921"
            ]
           ]
          },
          "colorway": [
           "#636efa",
           "#EF553B",
           "#00cc96",
           "#ab63fa",
           "#FFA15A",
           "#19d3f3",
           "#FF6692",
           "#B6E880",
           "#FF97FF",
           "#FECB52"
          ],
          "font": {
           "color": "#f2f5fa"
          },
          "geo": {
           "bgcolor": "rgb(17,17,17)",
           "lakecolor": "rgb(17,17,17)",
           "landcolor": "rgb(17,17,17)",
           "showlakes": true,
           "showland": true,
           "subunitcolor": "#506784"
          },
          "hoverlabel": {
           "align": "left"
          },
          "hovermode": "closest",
          "mapbox": {
           "style": "dark"
          },
          "paper_bgcolor": "rgb(17,17,17)",
          "plot_bgcolor": "rgb(17,17,17)",
          "polar": {
           "angularaxis": {
            "gridcolor": "#506784",
            "linecolor": "#506784",
            "ticks": ""
           },
           "bgcolor": "rgb(17,17,17)",
           "radialaxis": {
            "gridcolor": "#506784",
            "linecolor": "#506784",
            "ticks": ""
           }
          },
          "scene": {
           "xaxis": {
            "backgroundcolor": "rgb(17,17,17)",
            "gridcolor": "#506784",
            "gridwidth": 2,
            "linecolor": "#506784",
            "showbackground": true,
            "ticks": "",
            "zerolinecolor": "#C8D4E3"
           },
           "yaxis": {
            "backgroundcolor": "rgb(17,17,17)",
            "gridcolor": "#506784",
            "gridwidth": 2,
            "linecolor": "#506784",
            "showbackground": true,
            "ticks": "",
            "zerolinecolor": "#C8D4E3"
           },
           "zaxis": {
            "backgroundcolor": "rgb(17,17,17)",
            "gridcolor": "#506784",
            "gridwidth": 2,
            "linecolor": "#506784",
            "showbackground": true,
            "ticks": "",
            "zerolinecolor": "#C8D4E3"
           }
          },
          "shapedefaults": {
           "line": {
            "color": "#f2f5fa"
           }
          },
          "sliderdefaults": {
           "bgcolor": "#C8D4E3",
           "bordercolor": "rgb(17,17,17)",
           "borderwidth": 1,
           "tickwidth": 0
          },
          "ternary": {
           "aaxis": {
            "gridcolor": "#506784",
            "linecolor": "#506784",
            "ticks": ""
           },
           "baxis": {
            "gridcolor": "#506784",
            "linecolor": "#506784",
            "ticks": ""
           },
           "bgcolor": "rgb(17,17,17)",
           "caxis": {
            "gridcolor": "#506784",
            "linecolor": "#506784",
            "ticks": ""
           }
          },
          "title": {
           "x": 0.05
          },
          "updatemenudefaults": {
           "bgcolor": "#506784",
           "borderwidth": 0
          },
          "xaxis": {
           "automargin": true,
           "gridcolor": "#283442",
           "linecolor": "#506784",
           "ticks": "",
           "title": {
            "standoff": 15
           },
           "zerolinecolor": "#283442",
           "zerolinewidth": 2
          },
          "yaxis": {
           "automargin": true,
           "gridcolor": "#283442",
           "linecolor": "#506784",
           "ticks": "",
           "title": {
            "standoff": 15
           },
           "zerolinecolor": "#283442",
           "zerolinewidth": 2
          }
         }
        },
        "title": {
         "text": "Batting Momentum Heatmap — Average Runs per Over by Team"
        },
        "xaxis": {
         "anchor": "y",
         "domain": [
          0,
          1
         ],
         "title": {
          "text": "Over (1-20)"
         }
        },
        "yaxis": {
         "anchor": "x",
         "autorange": "reversed",
         "domain": [
          0,
          1
         ],
         "title": {
          "text": "Team"
         }
        }
       }
      }
     },
     "metadata": {},
     "output_type": "display_data"
    }
   ],
   "source": [
    "import pandas as pd\n",
    "import plotly.express as px\n",
    "\n",
    "# -------------------------\n",
    "# Batting Momentum Heatmap\n",
    "# -------------------------\n",
    "df['over'] = df['over'].astype(int)\n",
    "\n",
    "# Calculate runs per over per team\n",
    "team_over = df.groupby(['batting_team','over']).agg(\n",
    "    runs=('total_runs','sum'),\n",
    "    balls=('ball','count')\n",
    ").reset_index()\n",
    "\n",
    "# Normalize to 6-ball over\n",
    "team_over['runs_per_over'] = team_over['runs'] / team_over['balls'] * 6\n",
    "\n",
    "# Pivot for heatmap\n",
    "pivot = team_over.pivot(index='batting_team', columns='over', values='runs_per_over').fillna(0)\n",
    "\n",
    "# -------------------------\n",
    "# Interactive Heatmap with Plotly\n",
    "# -------------------------\n",
    "fig = px.imshow(\n",
    "    pivot,\n",
    "    labels=dict(x=\"Over\", y=\"Team\", color=\"Runs per Over\"),\n",
    "    x=pivot.columns,\n",
    "    y=pivot.index,\n",
    "    color_continuous_scale='YlOrRd',\n",
    "    aspect=\"auto\",\n",
    "    title=\"Batting Momentum Heatmap — Average Runs per Over by Team\"\n",
    ")\n",
    "\n",
    "fig.update_layout(\n",
    "    xaxis=dict(title='Over (1-20)'),\n",
    "    yaxis=dict(title='Team'),\n",
    "    template='plotly_dark'\n",
    ")\n",
    "\n",
    "fig.show()\n"
   ]
  },
  {
   "cell_type": "markdown",
   "id": "2e75dc38",
   "metadata": {},
   "source": [
    "**Analysis:** Look for teams with bright bands in powerplay (overs 1–6) or death overs (16–20). This helps understand team strategies.\n"
   ]
  },
  {
   "cell_type": "markdown",
   "id": "ba9158d6",
   "metadata": {},
   "source": [
    "## 4) Dismissal Pattern of Star Players\n",
    "\n",
    "**Goal:** For selected star players, show how they are dismissed (caught, bowled, lbw, etc.).\n"
   ]
  },
  {
   "cell_type": "code",
   "execution_count": 15,
   "id": "54df8567",
   "metadata": {},
   "outputs": [
    {
     "data": {
      "application/vnd.jupyter.widget-view+json": {
       "model_id": "1d21d5039e1b4d499de39a724e2e6c89",
       "version_major": 2,
       "version_minor": 0
      },
      "text/plain": [
       "interactive(children=(SelectMultiple(description='Players', index=(0,), options=('SC Ganguly', 'RT Ponting', '…"
      ]
     },
     "metadata": {},
     "output_type": "display_data"
    },
    {
     "data": {
      "text/plain": [
       "<function __main__.dismissal_pattern_multi(selected_players)>"
      ]
     },
     "execution_count": 15,
     "metadata": {},
     "output_type": "execute_result"
    }
   ],
   "source": [
    "import pandas as pd\n",
    "import plotly.express as px\n",
    "from plotly.subplots import make_subplots\n",
    "import plotly.graph_objects as go\n",
    "from ipywidgets import interact, SelectMultiple\n",
    "\n",
    "# -------------------------\n",
    "# Unique players in dataset\n",
    "# -------------------------\n",
    "players = df['player_dismissed'].dropna().unique().tolist()\n",
    "\n",
    "# Precompute dismissal counts\n",
    "dismissals = df.groupby(['player_dismissed','dismissal_kind']).size().reset_index(name='count')\n",
    "\n",
    "# -------------------------\n",
    "# Function to plot multiple players\n",
    "# -------------------------\n",
    "def dismissal_pattern_multi(selected_players):\n",
    "    if not selected_players:\n",
    "        print(\"Select at least one player\")\n",
    "        return\n",
    "    \n",
    "    n = len(selected_players)\n",
    "    fig = make_subplots(\n",
    "        rows=1, cols=n,\n",
    "        specs=[[{'type':'domain'}]*n],\n",
    "        subplot_titles=selected_players\n",
    "    )\n",
    "    \n",
    "    for i, player in enumerate(selected_players):\n",
    "        sub = dismissals[dismissals['player_dismissed'] == player]\n",
    "        if sub.empty:\n",
    "            continue\n",
    "        fig.add_trace(\n",
    "            go.Pie(\n",
    "                labels=sub['dismissal_kind'],\n",
    "                values=sub['count'],\n",
    "                name=player,\n",
    "                hole=0.3,\n",
    "                textinfo='percent+label'\n",
    "            ),\n",
    "            row=1, col=i+1\n",
    "        )\n",
    "    \n",
    "    fig.update_layout(\n",
    "        title_text=\"Dismissal Patterns — Multiple Players\",\n",
    "        template='plotly_dark',\n",
    "        showlegend=False\n",
    "    )\n",
    "    \n",
    "    fig.show()\n",
    "\n",
    "# -------------------------\n",
    "# Interactive Widget: Multiple Selection\n",
    "# -------------------------\n",
    "interact(\n",
    "    dismissal_pattern_multi,\n",
    "    selected_players=SelectMultiple(\n",
    "        options=players,\n",
    "        value=[players[0]],\n",
    "        description='Players',\n",
    "        rows=10\n",
    "    )\n",
    ")\n",
    "\n"
   ]
  },
  {
   "cell_type": "markdown",
   "id": "36c612c3",
   "metadata": {},
   "source": [
    "**Analysis:** This reveals common weaknesses (e.g., more caught vs bowled) which can be used for targeted bowling strategies.\n"
   ]
  },
  {
   "cell_type": "markdown",
   "id": "691afff5",
   "metadata": {},
   "source": [
    "## 5) Match-Turning Overs\n",
    "\n",
    "**Goal:** Identify overs across matches where runs >= 15 or wickets >=2 — potential turning overs. Plot frequency and examples.\n"
   ]
  },
  {
   "cell_type": "code",
   "execution_count": 16,
   "id": "e19f0af3",
   "metadata": {},
   "outputs": [
    {
     "data": {
      "application/vnd.plotly.v1+json": {
       "config": {
        "plotlyServerURL": "https://plot.ly"
       },
       "data": [
        {
         "hovertemplate": "Over=%{x}<br>Number of Turning Overs=%{marker.color}<extra></extra>",
         "legendgroup": "",
         "marker": {
          "color": {
           "bdata": "iwFKApsC1QLYAsMC1QEtAmgCYQJZApsCfwKuAtYC7wIPAy4D/AIFAw==",
           "dtype": "i2"
          },
          "coloraxis": "coloraxis",
          "pattern": {
           "shape": ""
          }
         },
         "name": "",
         "orientation": "v",
         "showlegend": false,
         "text": {
          "bdata": "AAAAAACweEAAAAAAAFCCQAAAAAAA2IRAAAAAAACohkAAAAAAAMCGQAAAAAAAGIZAAAAAAABQfUAAAAAAAGiBQAAAAAAAQINAAAAAAAAIg0AAAAAAAMiCQAAAAAAA2IRAAAAAAAD4g0AAAAAAAHCFQAAAAAAAsIZAAAAAAAB4h0AAAAAAAHiIQAAAAAAAcIlAAAAAAADgh0AAAAAAACiIQA==",
          "dtype": "f8"
         },
         "textposition": "outside",
         "type": "bar",
         "x": {
          "bdata": "AAECAwQFBgcICQoLDA0ODxAREhM=",
          "dtype": "i1"
         },
         "xaxis": "x",
         "y": {
          "bdata": "iwFKApsC1QLYAsMC1QEtAmgCYQJZApsCfwKuAtYC7wIPAy4D/AIFAw==",
          "dtype": "i2"
         },
         "yaxis": "y"
        }
       ],
       "layout": {
        "barmode": "relative",
        "coloraxis": {
         "colorbar": {
          "title": {
           "text": "Number of Turning Overs"
          }
         },
         "colorscale": [
          [
           0,
           "#440154"
          ],
          [
           0.1111111111111111,
           "#482878"
          ],
          [
           0.2222222222222222,
           "#3e4989"
          ],
          [
           0.3333333333333333,
           "#31688e"
          ],
          [
           0.4444444444444444,
           "#26828e"
          ],
          [
           0.5555555555555556,
           "#1f9e89"
          ],
          [
           0.6666666666666666,
           "#35b779"
          ],
          [
           0.7777777777777778,
           "#6ece58"
          ],
          [
           0.8888888888888888,
           "#b5de2b"
          ],
          [
           1,
           "#fde725"
          ]
         ]
        },
        "height": 450,
        "legend": {
         "tracegroupgap": 0
        },
        "template": {
         "data": {
          "bar": [
           {
            "error_x": {
             "color": "#f2f5fa"
            },
            "error_y": {
             "color": "#f2f5fa"
            },
            "marker": {
             "line": {
              "color": "rgb(17,17,17)",
              "width": 0.5
             },
             "pattern": {
              "fillmode": "overlay",
              "size": 10,
              "solidity": 0.2
             }
            },
            "type": "bar"
           }
          ],
          "barpolar": [
           {
            "marker": {
             "line": {
              "color": "rgb(17,17,17)",
              "width": 0.5
             },
             "pattern": {
              "fillmode": "overlay",
              "size": 10,
              "solidity": 0.2
             }
            },
            "type": "barpolar"
           }
          ],
          "carpet": [
           {
            "aaxis": {
             "endlinecolor": "#A2B1C6",
             "gridcolor": "#506784",
             "linecolor": "#506784",
             "minorgridcolor": "#506784",
             "startlinecolor": "#A2B1C6"
            },
            "baxis": {
             "endlinecolor": "#A2B1C6",
             "gridcolor": "#506784",
             "linecolor": "#506784",
             "minorgridcolor": "#506784",
             "startlinecolor": "#A2B1C6"
            },
            "type": "carpet"
           }
          ],
          "choropleth": [
           {
            "colorbar": {
             "outlinewidth": 0,
             "ticks": ""
            },
            "type": "choropleth"
           }
          ],
          "contour": [
           {
            "colorbar": {
             "outlinewidth": 0,
             "ticks": ""
            },
            "colorscale": [
             [
              0,
              "#0d0887"
             ],
             [
              0.1111111111111111,
              "#46039f"
             ],
             [
              0.2222222222222222,
              "#7201a8"
             ],
             [
              0.3333333333333333,
              "#9c179e"
             ],
             [
              0.4444444444444444,
              "#bd3786"
             ],
             [
              0.5555555555555556,
              "#d8576b"
             ],
             [
              0.6666666666666666,
              "#ed7953"
             ],
             [
              0.7777777777777778,
              "#fb9f3a"
             ],
             [
              0.8888888888888888,
              "#fdca26"
             ],
             [
              1,
              "#f0f921"
             ]
            ],
            "type": "contour"
           }
          ],
          "contourcarpet": [
           {
            "colorbar": {
             "outlinewidth": 0,
             "ticks": ""
            },
            "type": "contourcarpet"
           }
          ],
          "heatmap": [
           {
            "colorbar": {
             "outlinewidth": 0,
             "ticks": ""
            },
            "colorscale": [
             [
              0,
              "#0d0887"
             ],
             [
              0.1111111111111111,
              "#46039f"
             ],
             [
              0.2222222222222222,
              "#7201a8"
             ],
             [
              0.3333333333333333,
              "#9c179e"
             ],
             [
              0.4444444444444444,
              "#bd3786"
             ],
             [
              0.5555555555555556,
              "#d8576b"
             ],
             [
              0.6666666666666666,
              "#ed7953"
             ],
             [
              0.7777777777777778,
              "#fb9f3a"
             ],
             [
              0.8888888888888888,
              "#fdca26"
             ],
             [
              1,
              "#f0f921"
             ]
            ],
            "type": "heatmap"
           }
          ],
          "histogram": [
           {
            "marker": {
             "pattern": {
              "fillmode": "overlay",
              "size": 10,
              "solidity": 0.2
             }
            },
            "type": "histogram"
           }
          ],
          "histogram2d": [
           {
            "colorbar": {
             "outlinewidth": 0,
             "ticks": ""
            },
            "colorscale": [
             [
              0,
              "#0d0887"
             ],
             [
              0.1111111111111111,
              "#46039f"
             ],
             [
              0.2222222222222222,
              "#7201a8"
             ],
             [
              0.3333333333333333,
              "#9c179e"
             ],
             [
              0.4444444444444444,
              "#bd3786"
             ],
             [
              0.5555555555555556,
              "#d8576b"
             ],
             [
              0.6666666666666666,
              "#ed7953"
             ],
             [
              0.7777777777777778,
              "#fb9f3a"
             ],
             [
              0.8888888888888888,
              "#fdca26"
             ],
             [
              1,
              "#f0f921"
             ]
            ],
            "type": "histogram2d"
           }
          ],
          "histogram2dcontour": [
           {
            "colorbar": {
             "outlinewidth": 0,
             "ticks": ""
            },
            "colorscale": [
             [
              0,
              "#0d0887"
             ],
             [
              0.1111111111111111,
              "#46039f"
             ],
             [
              0.2222222222222222,
              "#7201a8"
             ],
             [
              0.3333333333333333,
              "#9c179e"
             ],
             [
              0.4444444444444444,
              "#bd3786"
             ],
             [
              0.5555555555555556,
              "#d8576b"
             ],
             [
              0.6666666666666666,
              "#ed7953"
             ],
             [
              0.7777777777777778,
              "#fb9f3a"
             ],
             [
              0.8888888888888888,
              "#fdca26"
             ],
             [
              1,
              "#f0f921"
             ]
            ],
            "type": "histogram2dcontour"
           }
          ],
          "mesh3d": [
           {
            "colorbar": {
             "outlinewidth": 0,
             "ticks": ""
            },
            "type": "mesh3d"
           }
          ],
          "parcoords": [
           {
            "line": {
             "colorbar": {
              "outlinewidth": 0,
              "ticks": ""
             }
            },
            "type": "parcoords"
           }
          ],
          "pie": [
           {
            "automargin": true,
            "type": "pie"
           }
          ],
          "scatter": [
           {
            "marker": {
             "line": {
              "color": "#283442"
             }
            },
            "type": "scatter"
           }
          ],
          "scatter3d": [
           {
            "line": {
             "colorbar": {
              "outlinewidth": 0,
              "ticks": ""
             }
            },
            "marker": {
             "colorbar": {
              "outlinewidth": 0,
              "ticks": ""
             }
            },
            "type": "scatter3d"
           }
          ],
          "scattercarpet": [
           {
            "marker": {
             "colorbar": {
              "outlinewidth": 0,
              "ticks": ""
             }
            },
            "type": "scattercarpet"
           }
          ],
          "scattergeo": [
           {
            "marker": {
             "colorbar": {
              "outlinewidth": 0,
              "ticks": ""
             }
            },
            "type": "scattergeo"
           }
          ],
          "scattergl": [
           {
            "marker": {
             "line": {
              "color": "#283442"
             }
            },
            "type": "scattergl"
           }
          ],
          "scattermap": [
           {
            "marker": {
             "colorbar": {
              "outlinewidth": 0,
              "ticks": ""
             }
            },
            "type": "scattermap"
           }
          ],
          "scattermapbox": [
           {
            "marker": {
             "colorbar": {
              "outlinewidth": 0,
              "ticks": ""
             }
            },
            "type": "scattermapbox"
           }
          ],
          "scatterpolar": [
           {
            "marker": {
             "colorbar": {
              "outlinewidth": 0,
              "ticks": ""
             }
            },
            "type": "scatterpolar"
           }
          ],
          "scatterpolargl": [
           {
            "marker": {
             "colorbar": {
              "outlinewidth": 0,
              "ticks": ""
             }
            },
            "type": "scatterpolargl"
           }
          ],
          "scatterternary": [
           {
            "marker": {
             "colorbar": {
              "outlinewidth": 0,
              "ticks": ""
             }
            },
            "type": "scatterternary"
           }
          ],
          "surface": [
           {
            "colorbar": {
             "outlinewidth": 0,
             "ticks": ""
            },
            "colorscale": [
             [
              0,
              "#0d0887"
             ],
             [
              0.1111111111111111,
              "#46039f"
             ],
             [
              0.2222222222222222,
              "#7201a8"
             ],
             [
              0.3333333333333333,
              "#9c179e"
             ],
             [
              0.4444444444444444,
              "#bd3786"
             ],
             [
              0.5555555555555556,
              "#d8576b"
             ],
             [
              0.6666666666666666,
              "#ed7953"
             ],
             [
              0.7777777777777778,
              "#fb9f3a"
             ],
             [
              0.8888888888888888,
              "#fdca26"
             ],
             [
              1,
              "#f0f921"
             ]
            ],
            "type": "surface"
           }
          ],
          "table": [
           {
            "cells": {
             "fill": {
              "color": "#506784"
             },
             "line": {
              "color": "rgb(17,17,17)"
             }
            },
            "header": {
             "fill": {
              "color": "#2a3f5f"
             },
             "line": {
              "color": "rgb(17,17,17)"
             }
            },
            "type": "table"
           }
          ]
         },
         "layout": {
          "annotationdefaults": {
           "arrowcolor": "#f2f5fa",
           "arrowhead": 0,
           "arrowwidth": 1
          },
          "autotypenumbers": "strict",
          "coloraxis": {
           "colorbar": {
            "outlinewidth": 0,
            "ticks": ""
           }
          },
          "colorscale": {
           "diverging": [
            [
             0,
             "#8e0152"
            ],
            [
             0.1,
             "#c51b7d"
            ],
            [
             0.2,
             "#de77ae"
            ],
            [
             0.3,
             "#f1b6da"
            ],
            [
             0.4,
             "#fde0ef"
            ],
            [
             0.5,
             "#f7f7f7"
            ],
            [
             0.6,
             "#e6f5d0"
            ],
            [
             0.7,
             "#b8e186"
            ],
            [
             0.8,
             "#7fbc41"
            ],
            [
             0.9,
             "#4d9221"
            ],
            [
             1,
             "#276419"
            ]
           ],
           "sequential": [
            [
             0,
             "#0d0887"
            ],
            [
             0.1111111111111111,
             "#46039f"
            ],
            [
             0.2222222222222222,
             "#7201a8"
            ],
            [
             0.3333333333333333,
             "#9c179e"
            ],
            [
             0.4444444444444444,
             "#bd3786"
            ],
            [
             0.5555555555555556,
             "#d8576b"
            ],
            [
             0.6666666666666666,
             "#ed7953"
            ],
            [
             0.7777777777777778,
             "#fb9f3a"
            ],
            [
             0.8888888888888888,
             "#fdca26"
            ],
            [
             1,
             "#f0f921"
            ]
           ],
           "sequentialminus": [
            [
             0,
             "#0d0887"
            ],
            [
             0.1111111111111111,
             "#46039f"
            ],
            [
             0.2222222222222222,
             "#7201a8"
            ],
            [
             0.3333333333333333,
             "#9c179e"
            ],
            [
             0.4444444444444444,
             "#bd3786"
            ],
            [
             0.5555555555555556,
             "#d8576b"
            ],
            [
             0.6666666666666666,
             "#ed7953"
            ],
            [
             0.7777777777777778,
             "#fb9f3a"
            ],
            [
             0.8888888888888888,
             "#fdca26"
            ],
            [
             1,
             "#f0f921"
            ]
           ]
          },
          "colorway": [
           "#636efa",
           "#EF553B",
           "#00cc96",
           "#ab63fa",
           "#FFA15A",
           "#19d3f3",
           "#FF6692",
           "#B6E880",
           "#FF97FF",
           "#FECB52"
          ],
          "font": {
           "color": "#f2f5fa"
          },
          "geo": {
           "bgcolor": "rgb(17,17,17)",
           "lakecolor": "rgb(17,17,17)",
           "landcolor": "rgb(17,17,17)",
           "showlakes": true,
           "showland": true,
           "subunitcolor": "#506784"
          },
          "hoverlabel": {
           "align": "left"
          },
          "hovermode": "closest",
          "mapbox": {
           "style": "dark"
          },
          "paper_bgcolor": "rgb(17,17,17)",
          "plot_bgcolor": "rgb(17,17,17)",
          "polar": {
           "angularaxis": {
            "gridcolor": "#506784",
            "linecolor": "#506784",
            "ticks": ""
           },
           "bgcolor": "rgb(17,17,17)",
           "radialaxis": {
            "gridcolor": "#506784",
            "linecolor": "#506784",
            "ticks": ""
           }
          },
          "scene": {
           "xaxis": {
            "backgroundcolor": "rgb(17,17,17)",
            "gridcolor": "#506784",
            "gridwidth": 2,
            "linecolor": "#506784",
            "showbackground": true,
            "ticks": "",
            "zerolinecolor": "#C8D4E3"
           },
           "yaxis": {
            "backgroundcolor": "rgb(17,17,17)",
            "gridcolor": "#506784",
            "gridwidth": 2,
            "linecolor": "#506784",
            "showbackground": true,
            "ticks": "",
            "zerolinecolor": "#C8D4E3"
           },
           "zaxis": {
            "backgroundcolor": "rgb(17,17,17)",
            "gridcolor": "#506784",
            "gridwidth": 2,
            "linecolor": "#506784",
            "showbackground": true,
            "ticks": "",
            "zerolinecolor": "#C8D4E3"
           }
          },
          "shapedefaults": {
           "line": {
            "color": "#f2f5fa"
           }
          },
          "sliderdefaults": {
           "bgcolor": "#C8D4E3",
           "bordercolor": "rgb(17,17,17)",
           "borderwidth": 1,
           "tickwidth": 0
          },
          "ternary": {
           "aaxis": {
            "gridcolor": "#506784",
            "linecolor": "#506784",
            "ticks": ""
           },
           "baxis": {
            "gridcolor": "#506784",
            "linecolor": "#506784",
            "ticks": ""
           },
           "bgcolor": "rgb(17,17,17)",
           "caxis": {
            "gridcolor": "#506784",
            "linecolor": "#506784",
            "ticks": ""
           }
          },
          "title": {
           "x": 0.05
          },
          "updatemenudefaults": {
           "bgcolor": "#506784",
           "borderwidth": 0
          },
          "xaxis": {
           "automargin": true,
           "gridcolor": "#283442",
           "linecolor": "#506784",
           "ticks": "",
           "title": {
            "standoff": 15
           },
           "zerolinecolor": "#283442",
           "zerolinewidth": 2
          },
          "yaxis": {
           "automargin": true,
           "gridcolor": "#283442",
           "linecolor": "#506784",
           "ticks": "",
           "title": {
            "standoff": 15
           },
           "zerolinecolor": "#283442",
           "zerolinewidth": 2
          }
         }
        },
        "title": {
         "text": "Which Overs Turn Matches Most Often (runs>=15 or wickets>=2)"
        },
        "xaxis": {
         "anchor": "y",
         "domain": [
          0,
          1
         ],
         "dtick": 1,
         "title": {
          "text": "Over"
         }
        },
        "yaxis": {
         "anchor": "x",
         "domain": [
          0,
          1
         ],
         "title": {
          "text": "Count of Turning Overs"
         }
        }
       }
      }
     },
     "metadata": {},
     "output_type": "display_data"
    }
   ],
   "source": [
    "import pandas as pd\n",
    "import plotly.express as px\n",
    "\n",
    "# -------------------------\n",
    "# Match-turning Overs\n",
    "# -------------------------\n",
    "# Aggregate runs and wickets per over per match\n",
    "over_match = df.groupby(['match_id','over']).agg(\n",
    "    runs=('total_runs','sum'),\n",
    "    wickets=('is_wicket','sum')\n",
    ").reset_index()\n",
    "\n",
    "# Define turning overs: high impact\n",
    "turning = over_match[(over_match['runs'] >= 15) | (over_match['wickets'] >= 2)]\n",
    "\n",
    "# Count frequency of turning overs\n",
    "freq = turning.groupby('over').size().reset_index(name='count')\n",
    "\n",
    "# -------------------------\n",
    "# Interactive Bar Chart\n",
    "# -------------------------\n",
    "fig = px.bar(\n",
    "    freq,\n",
    "    x='over',\n",
    "    y='count',\n",
    "    text='count',\n",
    "    labels={'over':'Over', 'count':'Number of Turning Overs'},\n",
    "    title='Which Overs Turn Matches Most Often (runs>=15 or wickets>=2)',\n",
    "    color='count',\n",
    "    color_continuous_scale='Viridis',\n",
    "    height=450\n",
    ")\n",
    "\n",
    "# Add labels on top of bars\n",
    "fig.update_traces(textposition='outside')\n",
    "\n",
    "# Style layout\n",
    "fig.update_layout(\n",
    "    template='plotly_dark',\n",
    "    xaxis=dict(dtick=1),\n",
    "    yaxis=dict(title='Count of Turning Overs'),\n",
    ")\n",
    "\n",
    "fig.show()\n"
   ]
  },
  {
   "cell_type": "markdown",
   "id": "538a0b67",
   "metadata": {},
   "source": [
    "**Analysis:** Peaks show overs that change momentum — teams and captains can plan bowling/batting changes around these.\n"
   ]
  },
  {
   "cell_type": "code",
   "execution_count": 17,
   "id": "8e4a3b37",
   "metadata": {},
   "outputs": [
    {
     "data": {
      "application/vnd.jupyter.widget-view+json": {
       "model_id": "a799c8889e0440fda287fd26ec655b7e",
       "version_major": 2,
       "version_minor": 0
      },
      "text/plain": [
       "interactive(children=(Dropdown(description='Batsman', options=('A Ashish Reddy', 'A Badoni', 'A Chandila', 'A …"
      ]
     },
     "metadata": {},
     "output_type": "display_data"
    },
    {
     "data": {
      "text/plain": [
       "<function __main__.plot_run_type_distribution(batsman_name)>"
      ]
     },
     "execution_count": 17,
     "metadata": {},
     "output_type": "execute_result"
    }
   ],
   "source": [
    "import pandas as pd\n",
    "import matplotlib.pyplot as plt\n",
    "import seaborn as sns\n",
    "from ipywidgets import interact, Dropdown\n",
    "\n",
    "# Load dataset\n",
    "df = pd.read_csv(r\"c:\\Users\\Vishal\\OneDrive\\Desktop\\mini project\\deliveries (1).csv\")\n",
    "\n",
    "# Create run type category including Dot balls\n",
    "df['run_type'] = df['batsman_runs'].apply(\n",
    "    lambda x: 'Dot' if x == 0 else\n",
    "              'Single' if x == 1 else\n",
    "              'Double' if x == 2 else\n",
    "              'Triple' if x == 3 else\n",
    "              'Four' if x == 4 else\n",
    "              'Six' if x == 6 else 'Other'\n",
    ")\n",
    "\n",
    "# Unique batsmen list\n",
    "batsmen = sorted(df['batter'].dropna().unique().tolist())\n",
    "\n",
    "def plot_run_type_distribution(batsman_name):\n",
    "    df_batsman = df[df['batter'] == batsman_name]\n",
    "    \n",
    "    if df_batsman.empty:\n",
    "        print(f\"❌ {batsman_name} ka data nahi mila\")\n",
    "        return\n",
    "\n",
    "    run_counts = df_batsman.groupby('run_type').size().reset_index(name='count')\n",
    "    run_counts = run_counts.set_index('run_type').reindex(['Dot', 'Single', 'Double', 'Triple', 'Four', 'Six'], fill_value=0)\n",
    "\n",
    "    plt.figure(figsize=(10, 6))\n",
    "    sns.barplot(x=run_counts.index, y=run_counts['count'], palette='plasma')\n",
    "\n",
    "    plt.title(f\"Run Type Distribution — {batsman_name}\", fontsize=16)\n",
    "    plt.xlabel(\"Run Type\", fontsize=12)\n",
    "    plt.ylabel(\"Count\", fontsize=12)\n",
    "    plt.grid(axis='y')\n",
    "    plt.show()\n",
    "\n",
    "# Interactive dropdown widget\n",
    "interact(plot_run_type_distribution, batsman_name=Dropdown(options=batsmen, description=\"Batsman\"))\n"
   ]
  },
  {
   "cell_type": "markdown",
   "id": "f97bd40d",
   "metadata": {},
   "source": [
    "## 6) Bowler vs Batter Rivalries\n",
    "\n",
    "**Goal:** Head-to-head runs and dismissals between top batters and top bowlers.\n"
   ]
  },
  {
   "cell_type": "code",
   "execution_count": 18,
   "id": "3eac3860",
   "metadata": {},
   "outputs": [
    {
     "data": {
      "application/vnd.plotly.v1+json": {
       "config": {
        "plotlyServerURL": "https://plot.ly"
       },
       "data": [
        {
         "alignmentgroup": "True",
         "hovertemplate": "Bowler=B Kumar<br>Batter=%{x}<br>Runs Scored=%{text}<extra></extra>",
         "legendgroup": "B Kumar",
         "marker": {
          "color": "rgb(229, 134, 6)",
          "pattern": {
           "shape": ""
          }
         },
         "name": "B Kumar",
         "offsetgroup": "B Kumar",
         "orientation": "v",
         "showlegend": true,
         "text": {
          "bdata": "AAAAAAAAM0AAAAAAAEBVQAAAAAAAQFZAAAAAAADAU0AAAAAAACBgQA==",
          "dtype": "f8"
         },
         "textposition": "outside",
         "type": "bar",
         "x": [
          "DA Warner",
          "RG Sharma",
          "S Dhawan",
          "SK Raina",
          "V Kohli"
         ],
         "xaxis": "x",
         "y": {
          "bdata": "EwBVAFkATwCBAA==",
          "dtype": "i2"
         },
         "yaxis": "y"
        },
        {
         "alignmentgroup": "True",
         "hovertemplate": "Bowler=PP Chawla<br>Batter=%{x}<br>Runs Scored=%{text}<extra></extra>",
         "legendgroup": "PP Chawla",
         "marker": {
          "color": "rgb(93, 105, 177)",
          "pattern": {
           "shape": ""
          }
         },
         "name": "PP Chawla",
         "offsetgroup": "PP Chawla",
         "orientation": "v",
         "showlegend": true,
         "text": {
          "bdata": "AAAAAADAXEAAAAAAAEBiQAAAAAAAQFpAAAAAAADgZUAAAAAAAIBhQA==",
          "dtype": "f8"
         },
         "textposition": "outside",
         "type": "bar",
         "x": [
          "DA Warner",
          "RG Sharma",
          "S Dhawan",
          "SK Raina",
          "V Kohli"
         ],
         "xaxis": "x",
         "y": {
          "bdata": "cwCSAGkArwCMAA==",
          "dtype": "i2"
         },
         "yaxis": "y"
        },
        {
         "alignmentgroup": "True",
         "hovertemplate": "Bowler=R Ashwin<br>Batter=%{x}<br>Runs Scored=%{text}<extra></extra>",
         "legendgroup": "R Ashwin",
         "marker": {
          "color": "rgb(82, 188, 163)",
          "pattern": {
           "shape": ""
          }
         },
         "name": "R Ashwin",
         "offsetgroup": "R Ashwin",
         "orientation": "v",
         "showlegend": true,
         "text": {
          "bdata": "AAAAAACAXkAAAAAAAEBaQAAAAAAAgFNAAAAAAAAAS0AAAAAAAGBmQA==",
          "dtype": "f8"
         },
         "textposition": "outside",
         "type": "bar",
         "x": [
          "DA Warner",
          "RG Sharma",
          "S Dhawan",
          "SK Raina",
          "V Kohli"
         ],
         "xaxis": "x",
         "y": {
          "bdata": "egBpAE4ANgCzAA==",
          "dtype": "i2"
         },
         "yaxis": "y"
        },
        {
         "alignmentgroup": "True",
         "hovertemplate": "Bowler=RA Jadeja<br>Batter=%{x}<br>Runs Scored=%{text}<extra></extra>",
         "legendgroup": "RA Jadeja",
         "marker": {
          "color": "rgb(153, 201, 69)",
          "pattern": {
           "shape": ""
          }
         },
         "name": "RA Jadeja",
         "offsetgroup": "RA Jadeja",
         "orientation": "v",
         "showlegend": true,
         "text": {
          "bdata": "AAAAAAAAXUAAAAAAAEBXQAAAAAAAwF1AAAAAAACgY0A=",
          "dtype": "f8"
         },
         "textposition": "outside",
         "type": "bar",
         "x": [
          "DA Warner",
          "RG Sharma",
          "S Dhawan",
          "V Kohli"
         ],
         "xaxis": "x",
         "y": {
          "bdata": "dABdAHcAnQA=",
          "dtype": "i2"
         },
         "yaxis": "y"
        },
        {
         "alignmentgroup": "True",
         "hovertemplate": "Bowler=SP Narine<br>Batter=%{x}<br>Runs Scored=%{text}<extra></extra>",
         "legendgroup": "SP Narine",
         "marker": {
          "color": "rgb(204, 97, 176)",
          "pattern": {
           "shape": ""
          }
         },
         "name": "SP Narine",
         "offsetgroup": "SP Narine",
         "orientation": "v",
         "showlegend": true,
         "text": {
          "bdata": "AAAAAABgaEAAAAAAAOBhQAAAAAAAQFpAAAAAAACAXUAAAAAAAMBfQA==",
          "dtype": "f8"
         },
         "textposition": "outside",
         "type": "bar",
         "x": [
          "DA Warner",
          "RG Sharma",
          "S Dhawan",
          "SK Raina",
          "V Kohli"
         ],
         "xaxis": "x",
         "y": {
          "bdata": "wwCPAGkAdgB/AA==",
          "dtype": "i2"
         },
         "yaxis": "y"
        }
       ],
       "layout": {
        "barmode": "group",
        "height": 500,
        "legend": {
         "title": {
          "text": "Bowler"
         },
         "tracegroupgap": 0
        },
        "template": {
         "data": {
          "bar": [
           {
            "error_x": {
             "color": "#f2f5fa"
            },
            "error_y": {
             "color": "#f2f5fa"
            },
            "marker": {
             "line": {
              "color": "rgb(17,17,17)",
              "width": 0.5
             },
             "pattern": {
              "fillmode": "overlay",
              "size": 10,
              "solidity": 0.2
             }
            },
            "type": "bar"
           }
          ],
          "barpolar": [
           {
            "marker": {
             "line": {
              "color": "rgb(17,17,17)",
              "width": 0.5
             },
             "pattern": {
              "fillmode": "overlay",
              "size": 10,
              "solidity": 0.2
             }
            },
            "type": "barpolar"
           }
          ],
          "carpet": [
           {
            "aaxis": {
             "endlinecolor": "#A2B1C6",
             "gridcolor": "#506784",
             "linecolor": "#506784",
             "minorgridcolor": "#506784",
             "startlinecolor": "#A2B1C6"
            },
            "baxis": {
             "endlinecolor": "#A2B1C6",
             "gridcolor": "#506784",
             "linecolor": "#506784",
             "minorgridcolor": "#506784",
             "startlinecolor": "#A2B1C6"
            },
            "type": "carpet"
           }
          ],
          "choropleth": [
           {
            "colorbar": {
             "outlinewidth": 0,
             "ticks": ""
            },
            "type": "choropleth"
           }
          ],
          "contour": [
           {
            "colorbar": {
             "outlinewidth": 0,
             "ticks": ""
            },
            "colorscale": [
             [
              0,
              "#0d0887"
             ],
             [
              0.1111111111111111,
              "#46039f"
             ],
             [
              0.2222222222222222,
              "#7201a8"
             ],
             [
              0.3333333333333333,
              "#9c179e"
             ],
             [
              0.4444444444444444,
              "#bd3786"
             ],
             [
              0.5555555555555556,
              "#d8576b"
             ],
             [
              0.6666666666666666,
              "#ed7953"
             ],
             [
              0.7777777777777778,
              "#fb9f3a"
             ],
             [
              0.8888888888888888,
              "#fdca26"
             ],
             [
              1,
              "#f0f921"
             ]
            ],
            "type": "contour"
           }
          ],
          "contourcarpet": [
           {
            "colorbar": {
             "outlinewidth": 0,
             "ticks": ""
            },
            "type": "contourcarpet"
           }
          ],
          "heatmap": [
           {
            "colorbar": {
             "outlinewidth": 0,
             "ticks": ""
            },
            "colorscale": [
             [
              0,
              "#0d0887"
             ],
             [
              0.1111111111111111,
              "#46039f"
             ],
             [
              0.2222222222222222,
              "#7201a8"
             ],
             [
              0.3333333333333333,
              "#9c179e"
             ],
             [
              0.4444444444444444,
              "#bd3786"
             ],
             [
              0.5555555555555556,
              "#d8576b"
             ],
             [
              0.6666666666666666,
              "#ed7953"
             ],
             [
              0.7777777777777778,
              "#fb9f3a"
             ],
             [
              0.8888888888888888,
              "#fdca26"
             ],
             [
              1,
              "#f0f921"
             ]
            ],
            "type": "heatmap"
           }
          ],
          "histogram": [
           {
            "marker": {
             "pattern": {
              "fillmode": "overlay",
              "size": 10,
              "solidity": 0.2
             }
            },
            "type": "histogram"
           }
          ],
          "histogram2d": [
           {
            "colorbar": {
             "outlinewidth": 0,
             "ticks": ""
            },
            "colorscale": [
             [
              0,
              "#0d0887"
             ],
             [
              0.1111111111111111,
              "#46039f"
             ],
             [
              0.2222222222222222,
              "#7201a8"
             ],
             [
              0.3333333333333333,
              "#9c179e"
             ],
             [
              0.4444444444444444,
              "#bd3786"
             ],
             [
              0.5555555555555556,
              "#d8576b"
             ],
             [
              0.6666666666666666,
              "#ed7953"
             ],
             [
              0.7777777777777778,
              "#fb9f3a"
             ],
             [
              0.8888888888888888,
              "#fdca26"
             ],
             [
              1,
              "#f0f921"
             ]
            ],
            "type": "histogram2d"
           }
          ],
          "histogram2dcontour": [
           {
            "colorbar": {
             "outlinewidth": 0,
             "ticks": ""
            },
            "colorscale": [
             [
              0,
              "#0d0887"
             ],
             [
              0.1111111111111111,
              "#46039f"
             ],
             [
              0.2222222222222222,
              "#7201a8"
             ],
             [
              0.3333333333333333,
              "#9c179e"
             ],
             [
              0.4444444444444444,
              "#bd3786"
             ],
             [
              0.5555555555555556,
              "#d8576b"
             ],
             [
              0.6666666666666666,
              "#ed7953"
             ],
             [
              0.7777777777777778,
              "#fb9f3a"
             ],
             [
              0.8888888888888888,
              "#fdca26"
             ],
             [
              1,
              "#f0f921"
             ]
            ],
            "type": "histogram2dcontour"
           }
          ],
          "mesh3d": [
           {
            "colorbar": {
             "outlinewidth": 0,
             "ticks": ""
            },
            "type": "mesh3d"
           }
          ],
          "parcoords": [
           {
            "line": {
             "colorbar": {
              "outlinewidth": 0,
              "ticks": ""
             }
            },
            "type": "parcoords"
           }
          ],
          "pie": [
           {
            "automargin": true,
            "type": "pie"
           }
          ],
          "scatter": [
           {
            "marker": {
             "line": {
              "color": "#283442"
             }
            },
            "type": "scatter"
           }
          ],
          "scatter3d": [
           {
            "line": {
             "colorbar": {
              "outlinewidth": 0,
              "ticks": ""
             }
            },
            "marker": {
             "colorbar": {
              "outlinewidth": 0,
              "ticks": ""
             }
            },
            "type": "scatter3d"
           }
          ],
          "scattercarpet": [
           {
            "marker": {
             "colorbar": {
              "outlinewidth": 0,
              "ticks": ""
             }
            },
            "type": "scattercarpet"
           }
          ],
          "scattergeo": [
           {
            "marker": {
             "colorbar": {
              "outlinewidth": 0,
              "ticks": ""
             }
            },
            "type": "scattergeo"
           }
          ],
          "scattergl": [
           {
            "marker": {
             "line": {
              "color": "#283442"
             }
            },
            "type": "scattergl"
           }
          ],
          "scattermap": [
           {
            "marker": {
             "colorbar": {
              "outlinewidth": 0,
              "ticks": ""
             }
            },
            "type": "scattermap"
           }
          ],
          "scattermapbox": [
           {
            "marker": {
             "colorbar": {
              "outlinewidth": 0,
              "ticks": ""
             }
            },
            "type": "scattermapbox"
           }
          ],
          "scatterpolar": [
           {
            "marker": {
             "colorbar": {
              "outlinewidth": 0,
              "ticks": ""
             }
            },
            "type": "scatterpolar"
           }
          ],
          "scatterpolargl": [
           {
            "marker": {
             "colorbar": {
              "outlinewidth": 0,
              "ticks": ""
             }
            },
            "type": "scatterpolargl"
           }
          ],
          "scatterternary": [
           {
            "marker": {
             "colorbar": {
              "outlinewidth": 0,
              "ticks": ""
             }
            },
            "type": "scatterternary"
           }
          ],
          "surface": [
           {
            "colorbar": {
             "outlinewidth": 0,
             "ticks": ""
            },
            "colorscale": [
             [
              0,
              "#0d0887"
             ],
             [
              0.1111111111111111,
              "#46039f"
             ],
             [
              0.2222222222222222,
              "#7201a8"
             ],
             [
              0.3333333333333333,
              "#9c179e"
             ],
             [
              0.4444444444444444,
              "#bd3786"
             ],
             [
              0.5555555555555556,
              "#d8576b"
             ],
             [
              0.6666666666666666,
              "#ed7953"
             ],
             [
              0.7777777777777778,
              "#fb9f3a"
             ],
             [
              0.8888888888888888,
              "#fdca26"
             ],
             [
              1,
              "#f0f921"
             ]
            ],
            "type": "surface"
           }
          ],
          "table": [
           {
            "cells": {
             "fill": {
              "color": "#506784"
             },
             "line": {
              "color": "rgb(17,17,17)"
             }
            },
            "header": {
             "fill": {
              "color": "#2a3f5f"
             },
             "line": {
              "color": "rgb(17,17,17)"
             }
            },
            "type": "table"
           }
          ]
         },
         "layout": {
          "annotationdefaults": {
           "arrowcolor": "#f2f5fa",
           "arrowhead": 0,
           "arrowwidth": 1
          },
          "autotypenumbers": "strict",
          "coloraxis": {
           "colorbar": {
            "outlinewidth": 0,
            "ticks": ""
           }
          },
          "colorscale": {
           "diverging": [
            [
             0,
             "#8e0152"
            ],
            [
             0.1,
             "#c51b7d"
            ],
            [
             0.2,
             "#de77ae"
            ],
            [
             0.3,
             "#f1b6da"
            ],
            [
             0.4,
             "#fde0ef"
            ],
            [
             0.5,
             "#f7f7f7"
            ],
            [
             0.6,
             "#e6f5d0"
            ],
            [
             0.7,
             "#b8e186"
            ],
            [
             0.8,
             "#7fbc41"
            ],
            [
             0.9,
             "#4d9221"
            ],
            [
             1,
             "#276419"
            ]
           ],
           "sequential": [
            [
             0,
             "#0d0887"
            ],
            [
             0.1111111111111111,
             "#46039f"
            ],
            [
             0.2222222222222222,
             "#7201a8"
            ],
            [
             0.3333333333333333,
             "#9c179e"
            ],
            [
             0.4444444444444444,
             "#bd3786"
            ],
            [
             0.5555555555555556,
             "#d8576b"
            ],
            [
             0.6666666666666666,
             "#ed7953"
            ],
            [
             0.7777777777777778,
             "#fb9f3a"
            ],
            [
             0.8888888888888888,
             "#fdca26"
            ],
            [
             1,
             "#f0f921"
            ]
           ],
           "sequentialminus": [
            [
             0,
             "#0d0887"
            ],
            [
             0.1111111111111111,
             "#46039f"
            ],
            [
             0.2222222222222222,
             "#7201a8"
            ],
            [
             0.3333333333333333,
             "#9c179e"
            ],
            [
             0.4444444444444444,
             "#bd3786"
            ],
            [
             0.5555555555555556,
             "#d8576b"
            ],
            [
             0.6666666666666666,
             "#ed7953"
            ],
            [
             0.7777777777777778,
             "#fb9f3a"
            ],
            [
             0.8888888888888888,
             "#fdca26"
            ],
            [
             1,
             "#f0f921"
            ]
           ]
          },
          "colorway": [
           "#636efa",
           "#EF553B",
           "#00cc96",
           "#ab63fa",
           "#FFA15A",
           "#19d3f3",
           "#FF6692",
           "#B6E880",
           "#FF97FF",
           "#FECB52"
          ],
          "font": {
           "color": "#f2f5fa"
          },
          "geo": {
           "bgcolor": "rgb(17,17,17)",
           "lakecolor": "rgb(17,17,17)",
           "landcolor": "rgb(17,17,17)",
           "showlakes": true,
           "showland": true,
           "subunitcolor": "#506784"
          },
          "hoverlabel": {
           "align": "left"
          },
          "hovermode": "closest",
          "mapbox": {
           "style": "dark"
          },
          "paper_bgcolor": "rgb(17,17,17)",
          "plot_bgcolor": "rgb(17,17,17)",
          "polar": {
           "angularaxis": {
            "gridcolor": "#506784",
            "linecolor": "#506784",
            "ticks": ""
           },
           "bgcolor": "rgb(17,17,17)",
           "radialaxis": {
            "gridcolor": "#506784",
            "linecolor": "#506784",
            "ticks": ""
           }
          },
          "scene": {
           "xaxis": {
            "backgroundcolor": "rgb(17,17,17)",
            "gridcolor": "#506784",
            "gridwidth": 2,
            "linecolor": "#506784",
            "showbackground": true,
            "ticks": "",
            "zerolinecolor": "#C8D4E3"
           },
           "yaxis": {
            "backgroundcolor": "rgb(17,17,17)",
            "gridcolor": "#506784",
            "gridwidth": 2,
            "linecolor": "#506784",
            "showbackground": true,
            "ticks": "",
            "zerolinecolor": "#C8D4E3"
           },
           "zaxis": {
            "backgroundcolor": "rgb(17,17,17)",
            "gridcolor": "#506784",
            "gridwidth": 2,
            "linecolor": "#506784",
            "showbackground": true,
            "ticks": "",
            "zerolinecolor": "#C8D4E3"
           }
          },
          "shapedefaults": {
           "line": {
            "color": "#f2f5fa"
           }
          },
          "sliderdefaults": {
           "bgcolor": "#C8D4E3",
           "bordercolor": "rgb(17,17,17)",
           "borderwidth": 1,
           "tickwidth": 0
          },
          "ternary": {
           "aaxis": {
            "gridcolor": "#506784",
            "linecolor": "#506784",
            "ticks": ""
           },
           "baxis": {
            "gridcolor": "#506784",
            "linecolor": "#506784",
            "ticks": ""
           },
           "bgcolor": "rgb(17,17,17)",
           "caxis": {
            "gridcolor": "#506784",
            "linecolor": "#506784",
            "ticks": ""
           }
          },
          "title": {
           "x": 0.05
          },
          "updatemenudefaults": {
           "bgcolor": "#506784",
           "borderwidth": 0
          },
          "xaxis": {
           "automargin": true,
           "gridcolor": "#283442",
           "linecolor": "#506784",
           "ticks": "",
           "title": {
            "standoff": 15
           },
           "zerolinecolor": "#283442",
           "zerolinewidth": 2
          },
          "yaxis": {
           "automargin": true,
           "gridcolor": "#283442",
           "linecolor": "#506784",
           "ticks": "",
           "title": {
            "standoff": 15
           },
           "zerolinecolor": "#283442",
           "zerolinewidth": 2
          }
         }
        },
        "title": {
         "text": "Batter vs Bowler Rivalries — Runs Scored"
        },
        "xaxis": {
         "anchor": "y",
         "domain": [
          0,
          1
         ],
         "tickangle": -30,
         "title": {
          "text": "Batter"
         }
        },
        "yaxis": {
         "anchor": "x",
         "domain": [
          0,
          1
         ],
         "title": {
          "text": "Runs Scored"
         }
        }
       }
      }
     },
     "metadata": {},
     "output_type": "display_data"
    }
   ],
   "source": [
    "import pandas as pd\n",
    "import plotly.express as px\n",
    "\n",
    "# -------------------------\n",
    "# Load dataset\n",
    "# -------------------------\n",
    "df = pd.read_csv(r\"c:\\Users\\Vishal\\OneDrive\\Desktop\\mini project\\deliveries (1).csv\")\n",
    "\n",
    "# -------------------------\n",
    "# Top 5 batsmen by total runs\n",
    "# -------------------------\n",
    "top_bats = (\n",
    "    df.groupby('batter')\n",
    "      .agg(runs=('batsman_runs', 'sum'))\n",
    "      .reset_index()\n",
    "      .sort_values('runs', ascending=False)\n",
    "      .head(5)['batter']\n",
    "      .tolist()\n",
    ")\n",
    "\n",
    "# Top 5 bowlers by balls bowled\n",
    "top_bows = (\n",
    "    df.groupby('bowler')\n",
    "      .agg(balls=('ball', 'count'))\n",
    "      .reset_index()\n",
    "      .sort_values('balls', ascending=False)\n",
    "      .head(5)['bowler']\n",
    "      .tolist()\n",
    ")\n",
    "\n",
    "# Filter dataset for top pairs\n",
    "pairs = df[df['batter'].isin(top_bats) & df['bowler'].isin(top_bows)]\n",
    "\n",
    "# Aggregate runs per batter-bowler pair\n",
    "pair_stats = (\n",
    "    pairs.groupby(['batter','bowler'])\n",
    "         .agg(runs=('batsman_runs','sum'))\n",
    "         .reset_index()\n",
    ")\n",
    "\n",
    "# -------------------------\n",
    "# Interactive Grouped Bar Chart\n",
    "# -------------------------\n",
    "fig = px.bar(\n",
    "    pair_stats,\n",
    "    x='batter',\n",
    "    y='runs',\n",
    "    color='bowler',\n",
    "    text='runs',\n",
    "    barmode='group',\n",
    "    labels={'batter':'Batter', 'runs':'Runs Scored', 'bowler':'Bowler'},\n",
    "    title='Batter vs Bowler Rivalries — Runs Scored',\n",
    "    color_discrete_sequence=px.colors.qualitative.Vivid,\n",
    "    height=500\n",
    ")\n",
    "\n",
    "# Add text on bars\n",
    "fig.update_traces(textposition='outside')\n",
    "\n",
    "# Style layout\n",
    "fig.update_layout(\n",
    "    template='plotly_dark',\n",
    "    xaxis_tickangle=-30,\n",
    "    xaxis=dict(title='Batter'),\n",
    "    yaxis=dict(title='Runs Scored'),\n",
    "    legend_title='Bowler',\n",
    ")\n",
    "\n",
    "fig.show()\n",
    "\n"
   ]
  },
  {
   "cell_type": "markdown",
   "id": "dc982b94",
   "metadata": {},
   "source": [
    "**Analysis:** Darker cells mean a batter has scored heavily off a bowler; use dismissals to identify favorable bowlers in match-ups.\n"
   ]
  },
  {
   "cell_type": "markdown",
   "id": "b0cdc4ad",
   "metadata": {},
   "source": [
    "## 7) Extras Contribution\n",
    "\n",
    "**Goal:** Show how many runs come from extras (wides, no-balls, legbyes, etc.) per team.\n"
   ]
  },
  {
   "cell_type": "code",
   "execution_count": 19,
   "id": "8c7ef447",
   "metadata": {},
   "outputs": [
    {
     "data": {
      "application/vnd.plotly.v1+json": {
       "config": {
        "plotlyServerURL": "https://plot.ly"
       },
       "data": [
        {
         "hovertemplate": "variable=byes<br>Team=%{x}<br>Runs from Extras=%{y}<extra></extra>",
         "legendgroup": "byes",
         "marker": {
          "color": "rgb(102, 197, 204)",
          "pattern": {
           "shape": ""
          }
         },
         "name": "byes",
         "orientation": "v",
         "showlegend": true,
         "textposition": "auto",
         "texttemplate": "%{y}",
         "type": "bar",
         "x": [
          "Mumbai Indians",
          "Kolkata Knight Riders",
          "Chennai Super Kings",
          "Royal Challengers Bangalore",
          "Rajasthan Royals",
          "Kings XI Punjab",
          "Sunrisers Hyderabad",
          "Delhi Daredevils",
          "Delhi Capitals",
          "Deccan Chargers",
          "Punjab Kings",
          "Lucknow Super Giants",
          "Gujarat Titans",
          "Pune Warriors",
          "Gujarat Lions",
          "Kochi Tuskers Kerala",
          "Royal Challengers Bengaluru",
          "Rising Pune Supergiants",
          "Rising Pune Supergiant"
         ],
         "xaxis": "x",
         "y": {
          "bdata": "AAAAAABgY0AAAAAAAOBlQAAAAAAAwF5AAAAAAACAYEAAAAAAAEBbQAAAAAAAIGRAAAAAAADAXEAAAAAAAMBUQAAAAAAAgEVAAAAAAAAASUAAAAAAAAA4QAAAAAAAADNAAAAAAAAANUAAAAAAAAAzQAAAAAAAACBAAAAAAAAAHEAAAAAAAAAoQAAAAAAAABhAAAAAAAAAIEA=",
          "dtype": "f8"
         },
         "yaxis": "y"
        },
        {
         "hovertemplate": "variable=legbyes<br>Team=%{x}<br>Runs from Extras=%{y}<extra></extra>",
         "legendgroup": "legbyes",
         "marker": {
          "color": "rgb(246, 207, 113)",
          "pattern": {
           "shape": ""
          }
         },
         "name": "legbyes",
         "orientation": "v",
         "showlegend": true,
         "textposition": "auto",
         "texttemplate": "%{y}",
         "type": "bar",
         "x": [
          "Mumbai Indians",
          "Kolkata Knight Riders",
          "Chennai Super Kings",
          "Royal Challengers Bangalore",
          "Rajasthan Royals",
          "Kings XI Punjab",
          "Sunrisers Hyderabad",
          "Delhi Daredevils",
          "Delhi Capitals",
          "Deccan Chargers",
          "Punjab Kings",
          "Lucknow Super Giants",
          "Gujarat Titans",
          "Pune Warriors",
          "Gujarat Lions",
          "Kochi Tuskers Kerala",
          "Royal Challengers Bengaluru",
          "Rising Pune Supergiants",
          "Rising Pune Supergiant"
         ],
         "xaxis": "x",
         "y": {
          "bdata": "AAAAAADYhEAAAAAAAPiDQAAAAAAAqIFAAAAAAAAYgkAAAAAAAHB9QAAAAAAAwH9AAAAAAACgd0AAAAAAAHB4QAAAAAAAwGdAAAAAAAAAaUAAAAAAAEBeQAAAAAAAgFtAAAAAAAAAXEAAAAAAAIBaQAAAAAAAgFJAAAAAAAAAQkAAAAAAAABBQAAAAAAAADxAAAAAAACAQEA=",
          "dtype": "f8"
         },
         "yaxis": "y"
        },
        {
         "hovertemplate": "variable=noballs<br>Team=%{x}<br>Runs from Extras=%{y}<extra></extra>",
         "legendgroup": "noballs",
         "marker": {
          "color": "rgb(248, 156, 116)",
          "pattern": {
           "shape": ""
          }
         },
         "name": "noballs",
         "orientation": "v",
         "showlegend": true,
         "textposition": "auto",
         "texttemplate": "%{y}",
         "type": "bar",
         "x": [
          "Mumbai Indians",
          "Kolkata Knight Riders",
          "Chennai Super Kings",
          "Royal Challengers Bangalore",
          "Rajasthan Royals",
          "Kings XI Punjab",
          "Sunrisers Hyderabad",
          "Delhi Daredevils",
          "Delhi Capitals",
          "Deccan Chargers",
          "Punjab Kings",
          "Lucknow Super Giants",
          "Gujarat Titans",
          "Pune Warriors",
          "Gujarat Lions",
          "Kochi Tuskers Kerala",
          "Royal Challengers Bengaluru",
          "Rising Pune Supergiants",
          "Rising Pune Supergiant"
         ],
         "xaxis": "x",
         "y": {
          "bdata": "AAAAAABAX0AAAAAAAABfQAAAAAAAYGBAAAAAAACAX0AAAAAAAMBeQAAAAAAAAFFAAAAAAADAVkAAAAAAAEBSQAAAAAAAAEdAAAAAAACASEAAAAAAAIBDQAAAAAAAADNAAAAAAAAAPEAAAAAAAAA4QAAAAAAAADFAAAAAAAAAJkAAAAAAAAAAQAAAAAAAABxAAAAAAAAA8D8=",
          "dtype": "f8"
         },
         "yaxis": "y"
        },
        {
         "hovertemplate": "variable=penalty<br>Team=%{x}<br>Runs from Extras=%{y}<extra></extra>",
         "legendgroup": "penalty",
         "marker": {
          "color": "rgb(220, 176, 242)",
          "pattern": {
           "shape": ""
          }
         },
         "name": "penalty",
         "orientation": "v",
         "showlegend": true,
         "textposition": "auto",
         "texttemplate": "%{y}",
         "type": "bar",
         "x": [
          "Mumbai Indians",
          "Kolkata Knight Riders",
          "Chennai Super Kings",
          "Royal Challengers Bangalore",
          "Rajasthan Royals",
          "Kings XI Punjab",
          "Sunrisers Hyderabad",
          "Delhi Daredevils",
          "Delhi Capitals",
          "Deccan Chargers",
          "Punjab Kings",
          "Lucknow Super Giants",
          "Gujarat Titans",
          "Pune Warriors",
          "Gujarat Lions",
          "Kochi Tuskers Kerala",
          "Royal Challengers Bengaluru",
          "Rising Pune Supergiants",
          "Rising Pune Supergiant"
         ],
         "xaxis": "x",
         "y": {
          "bdata": "AAAAAAAAAAAAAAAAAAAAAAAAAAAAAAAAAAAAAAAAAAAAAAAAAAAAAAAAAAAAAAAAAAAAAAAAAAAAAAAAAAAoQAAAAAAAAAAAAAAAAAAAAAAAAAAAAAAAAAAAAAAAAAAAAAAAAAAAAAAAAAAAAAAAAAAAAAAAAAAAAAAAAAAAAAAAAAAAAAAAAAAAAAAAAAAAAAAAAAAAAAA=",
          "dtype": "f8"
         },
         "yaxis": "y"
        },
        {
         "hovertemplate": "variable=wides<br>Team=%{x}<br>Runs from Extras=%{y}<extra></extra>",
         "legendgroup": "wides",
         "marker": {
          "color": "rgb(135, 197, 95)",
          "pattern": {
           "shape": ""
          }
         },
         "name": "wides",
         "orientation": "v",
         "showlegend": true,
         "textposition": "auto",
         "texttemplate": "%{y}",
         "type": "bar",
         "x": [
          "Mumbai Indians",
          "Kolkata Knight Riders",
          "Chennai Super Kings",
          "Royal Challengers Bangalore",
          "Rajasthan Royals",
          "Kings XI Punjab",
          "Sunrisers Hyderabad",
          "Delhi Daredevils",
          "Delhi Capitals",
          "Deccan Chargers",
          "Punjab Kings",
          "Lucknow Super Giants",
          "Gujarat Titans",
          "Pune Warriors",
          "Gujarat Lions",
          "Kochi Tuskers Kerala",
          "Royal Challengers Bengaluru",
          "Rising Pune Supergiants",
          "Rising Pune Supergiant"
         ],
         "xaxis": "x",
         "y": {
          "bdata": "AAAAAAAMlEAAAAAAAHCTQAAAAAAAvJBAAAAAAABUkEAAAAAAAFCOQAAAAAAAkIhAAAAAAABwikAAAAAAAFiGQAAAAAAAgHhAAAAAAABwcUAAAAAAAGBzQAAAAAAAkHFAAAAAAADgbUAAAAAAACBlQAAAAAAAwGBAAAAAAABAVkAAAAAAAEBXQAAAAAAAAE5AAAAAAAAATUA=",
          "dtype": "f8"
         },
         "yaxis": "y"
        }
       ],
       "layout": {
        "barmode": "relative",
        "height": 500,
        "legend": {
         "title": {
          "text": "Extras Type"
         },
         "tracegroupgap": 0
        },
        "template": {
         "data": {
          "bar": [
           {
            "error_x": {
             "color": "#f2f5fa"
            },
            "error_y": {
             "color": "#f2f5fa"
            },
            "marker": {
             "line": {
              "color": "rgb(17,17,17)",
              "width": 0.5
             },
             "pattern": {
              "fillmode": "overlay",
              "size": 10,
              "solidity": 0.2
             }
            },
            "type": "bar"
           }
          ],
          "barpolar": [
           {
            "marker": {
             "line": {
              "color": "rgb(17,17,17)",
              "width": 0.5
             },
             "pattern": {
              "fillmode": "overlay",
              "size": 10,
              "solidity": 0.2
             }
            },
            "type": "barpolar"
           }
          ],
          "carpet": [
           {
            "aaxis": {
             "endlinecolor": "#A2B1C6",
             "gridcolor": "#506784",
             "linecolor": "#506784",
             "minorgridcolor": "#506784",
             "startlinecolor": "#A2B1C6"
            },
            "baxis": {
             "endlinecolor": "#A2B1C6",
             "gridcolor": "#506784",
             "linecolor": "#506784",
             "minorgridcolor": "#506784",
             "startlinecolor": "#A2B1C6"
            },
            "type": "carpet"
           }
          ],
          "choropleth": [
           {
            "colorbar": {
             "outlinewidth": 0,
             "ticks": ""
            },
            "type": "choropleth"
           }
          ],
          "contour": [
           {
            "colorbar": {
             "outlinewidth": 0,
             "ticks": ""
            },
            "colorscale": [
             [
              0,
              "#0d0887"
             ],
             [
              0.1111111111111111,
              "#46039f"
             ],
             [
              0.2222222222222222,
              "#7201a8"
             ],
             [
              0.3333333333333333,
              "#9c179e"
             ],
             [
              0.4444444444444444,
              "#bd3786"
             ],
             [
              0.5555555555555556,
              "#d8576b"
             ],
             [
              0.6666666666666666,
              "#ed7953"
             ],
             [
              0.7777777777777778,
              "#fb9f3a"
             ],
             [
              0.8888888888888888,
              "#fdca26"
             ],
             [
              1,
              "#f0f921"
             ]
            ],
            "type": "contour"
           }
          ],
          "contourcarpet": [
           {
            "colorbar": {
             "outlinewidth": 0,
             "ticks": ""
            },
            "type": "contourcarpet"
           }
          ],
          "heatmap": [
           {
            "colorbar": {
             "outlinewidth": 0,
             "ticks": ""
            },
            "colorscale": [
             [
              0,
              "#0d0887"
             ],
             [
              0.1111111111111111,
              "#46039f"
             ],
             [
              0.2222222222222222,
              "#7201a8"
             ],
             [
              0.3333333333333333,
              "#9c179e"
             ],
             [
              0.4444444444444444,
              "#bd3786"
             ],
             [
              0.5555555555555556,
              "#d8576b"
             ],
             [
              0.6666666666666666,
              "#ed7953"
             ],
             [
              0.7777777777777778,
              "#fb9f3a"
             ],
             [
              0.8888888888888888,
              "#fdca26"
             ],
             [
              1,
              "#f0f921"
             ]
            ],
            "type": "heatmap"
           }
          ],
          "histogram": [
           {
            "marker": {
             "pattern": {
              "fillmode": "overlay",
              "size": 10,
              "solidity": 0.2
             }
            },
            "type": "histogram"
           }
          ],
          "histogram2d": [
           {
            "colorbar": {
             "outlinewidth": 0,
             "ticks": ""
            },
            "colorscale": [
             [
              0,
              "#0d0887"
             ],
             [
              0.1111111111111111,
              "#46039f"
             ],
             [
              0.2222222222222222,
              "#7201a8"
             ],
             [
              0.3333333333333333,
              "#9c179e"
             ],
             [
              0.4444444444444444,
              "#bd3786"
             ],
             [
              0.5555555555555556,
              "#d8576b"
             ],
             [
              0.6666666666666666,
              "#ed7953"
             ],
             [
              0.7777777777777778,
              "#fb9f3a"
             ],
             [
              0.8888888888888888,
              "#fdca26"
             ],
             [
              1,
              "#f0f921"
             ]
            ],
            "type": "histogram2d"
           }
          ],
          "histogram2dcontour": [
           {
            "colorbar": {
             "outlinewidth": 0,
             "ticks": ""
            },
            "colorscale": [
             [
              0,
              "#0d0887"
             ],
             [
              0.1111111111111111,
              "#46039f"
             ],
             [
              0.2222222222222222,
              "#7201a8"
             ],
             [
              0.3333333333333333,
              "#9c179e"
             ],
             [
              0.4444444444444444,
              "#bd3786"
             ],
             [
              0.5555555555555556,
              "#d8576b"
             ],
             [
              0.6666666666666666,
              "#ed7953"
             ],
             [
              0.7777777777777778,
              "#fb9f3a"
             ],
             [
              0.8888888888888888,
              "#fdca26"
             ],
             [
              1,
              "#f0f921"
             ]
            ],
            "type": "histogram2dcontour"
           }
          ],
          "mesh3d": [
           {
            "colorbar": {
             "outlinewidth": 0,
             "ticks": ""
            },
            "type": "mesh3d"
           }
          ],
          "parcoords": [
           {
            "line": {
             "colorbar": {
              "outlinewidth": 0,
              "ticks": ""
             }
            },
            "type": "parcoords"
           }
          ],
          "pie": [
           {
            "automargin": true,
            "type": "pie"
           }
          ],
          "scatter": [
           {
            "marker": {
             "line": {
              "color": "#283442"
             }
            },
            "type": "scatter"
           }
          ],
          "scatter3d": [
           {
            "line": {
             "colorbar": {
              "outlinewidth": 0,
              "ticks": ""
             }
            },
            "marker": {
             "colorbar": {
              "outlinewidth": 0,
              "ticks": ""
             }
            },
            "type": "scatter3d"
           }
          ],
          "scattercarpet": [
           {
            "marker": {
             "colorbar": {
              "outlinewidth": 0,
              "ticks": ""
             }
            },
            "type": "scattercarpet"
           }
          ],
          "scattergeo": [
           {
            "marker": {
             "colorbar": {
              "outlinewidth": 0,
              "ticks": ""
             }
            },
            "type": "scattergeo"
           }
          ],
          "scattergl": [
           {
            "marker": {
             "line": {
              "color": "#283442"
             }
            },
            "type": "scattergl"
           }
          ],
          "scattermap": [
           {
            "marker": {
             "colorbar": {
              "outlinewidth": 0,
              "ticks": ""
             }
            },
            "type": "scattermap"
           }
          ],
          "scattermapbox": [
           {
            "marker": {
             "colorbar": {
              "outlinewidth": 0,
              "ticks": ""
             }
            },
            "type": "scattermapbox"
           }
          ],
          "scatterpolar": [
           {
            "marker": {
             "colorbar": {
              "outlinewidth": 0,
              "ticks": ""
             }
            },
            "type": "scatterpolar"
           }
          ],
          "scatterpolargl": [
           {
            "marker": {
             "colorbar": {
              "outlinewidth": 0,
              "ticks": ""
             }
            },
            "type": "scatterpolargl"
           }
          ],
          "scatterternary": [
           {
            "marker": {
             "colorbar": {
              "outlinewidth": 0,
              "ticks": ""
             }
            },
            "type": "scatterternary"
           }
          ],
          "surface": [
           {
            "colorbar": {
             "outlinewidth": 0,
             "ticks": ""
            },
            "colorscale": [
             [
              0,
              "#0d0887"
             ],
             [
              0.1111111111111111,
              "#46039f"
             ],
             [
              0.2222222222222222,
              "#7201a8"
             ],
             [
              0.3333333333333333,
              "#9c179e"
             ],
             [
              0.4444444444444444,
              "#bd3786"
             ],
             [
              0.5555555555555556,
              "#d8576b"
             ],
             [
              0.6666666666666666,
              "#ed7953"
             ],
             [
              0.7777777777777778,
              "#fb9f3a"
             ],
             [
              0.8888888888888888,
              "#fdca26"
             ],
             [
              1,
              "#f0f921"
             ]
            ],
            "type": "surface"
           }
          ],
          "table": [
           {
            "cells": {
             "fill": {
              "color": "#506784"
             },
             "line": {
              "color": "rgb(17,17,17)"
             }
            },
            "header": {
             "fill": {
              "color": "#2a3f5f"
             },
             "line": {
              "color": "rgb(17,17,17)"
             }
            },
            "type": "table"
           }
          ]
         },
         "layout": {
          "annotationdefaults": {
           "arrowcolor": "#f2f5fa",
           "arrowhead": 0,
           "arrowwidth": 1
          },
          "autotypenumbers": "strict",
          "coloraxis": {
           "colorbar": {
            "outlinewidth": 0,
            "ticks": ""
           }
          },
          "colorscale": {
           "diverging": [
            [
             0,
             "#8e0152"
            ],
            [
             0.1,
             "#c51b7d"
            ],
            [
             0.2,
             "#de77ae"
            ],
            [
             0.3,
             "#f1b6da"
            ],
            [
             0.4,
             "#fde0ef"
            ],
            [
             0.5,
             "#f7f7f7"
            ],
            [
             0.6,
             "#e6f5d0"
            ],
            [
             0.7,
             "#b8e186"
            ],
            [
             0.8,
             "#7fbc41"
            ],
            [
             0.9,
             "#4d9221"
            ],
            [
             1,
             "#276419"
            ]
           ],
           "sequential": [
            [
             0,
             "#0d0887"
            ],
            [
             0.1111111111111111,
             "#46039f"
            ],
            [
             0.2222222222222222,
             "#7201a8"
            ],
            [
             0.3333333333333333,
             "#9c179e"
            ],
            [
             0.4444444444444444,
             "#bd3786"
            ],
            [
             0.5555555555555556,
             "#d8576b"
            ],
            [
             0.6666666666666666,
             "#ed7953"
            ],
            [
             0.7777777777777778,
             "#fb9f3a"
            ],
            [
             0.8888888888888888,
             "#fdca26"
            ],
            [
             1,
             "#f0f921"
            ]
           ],
           "sequentialminus": [
            [
             0,
             "#0d0887"
            ],
            [
             0.1111111111111111,
             "#46039f"
            ],
            [
             0.2222222222222222,
             "#7201a8"
            ],
            [
             0.3333333333333333,
             "#9c179e"
            ],
            [
             0.4444444444444444,
             "#bd3786"
            ],
            [
             0.5555555555555556,
             "#d8576b"
            ],
            [
             0.6666666666666666,
             "#ed7953"
            ],
            [
             0.7777777777777778,
             "#fb9f3a"
            ],
            [
             0.8888888888888888,
             "#fdca26"
            ],
            [
             1,
             "#f0f921"
            ]
           ]
          },
          "colorway": [
           "#636efa",
           "#EF553B",
           "#00cc96",
           "#ab63fa",
           "#FFA15A",
           "#19d3f3",
           "#FF6692",
           "#B6E880",
           "#FF97FF",
           "#FECB52"
          ],
          "font": {
           "color": "#f2f5fa"
          },
          "geo": {
           "bgcolor": "rgb(17,17,17)",
           "lakecolor": "rgb(17,17,17)",
           "landcolor": "rgb(17,17,17)",
           "showlakes": true,
           "showland": true,
           "subunitcolor": "#506784"
          },
          "hoverlabel": {
           "align": "left"
          },
          "hovermode": "closest",
          "mapbox": {
           "style": "dark"
          },
          "paper_bgcolor": "rgb(17,17,17)",
          "plot_bgcolor": "rgb(17,17,17)",
          "polar": {
           "angularaxis": {
            "gridcolor": "#506784",
            "linecolor": "#506784",
            "ticks": ""
           },
           "bgcolor": "rgb(17,17,17)",
           "radialaxis": {
            "gridcolor": "#506784",
            "linecolor": "#506784",
            "ticks": ""
           }
          },
          "scene": {
           "xaxis": {
            "backgroundcolor": "rgb(17,17,17)",
            "gridcolor": "#506784",
            "gridwidth": 2,
            "linecolor": "#506784",
            "showbackground": true,
            "ticks": "",
            "zerolinecolor": "#C8D4E3"
           },
           "yaxis": {
            "backgroundcolor": "rgb(17,17,17)",
            "gridcolor": "#506784",
            "gridwidth": 2,
            "linecolor": "#506784",
            "showbackground": true,
            "ticks": "",
            "zerolinecolor": "#C8D4E3"
           },
           "zaxis": {
            "backgroundcolor": "rgb(17,17,17)",
            "gridcolor": "#506784",
            "gridwidth": 2,
            "linecolor": "#506784",
            "showbackground": true,
            "ticks": "",
            "zerolinecolor": "#C8D4E3"
           }
          },
          "shapedefaults": {
           "line": {
            "color": "#f2f5fa"
           }
          },
          "sliderdefaults": {
           "bgcolor": "#C8D4E3",
           "bordercolor": "rgb(17,17,17)",
           "borderwidth": 1,
           "tickwidth": 0
          },
          "ternary": {
           "aaxis": {
            "gridcolor": "#506784",
            "linecolor": "#506784",
            "ticks": ""
           },
           "baxis": {
            "gridcolor": "#506784",
            "linecolor": "#506784",
            "ticks": ""
           },
           "bgcolor": "rgb(17,17,17)",
           "caxis": {
            "gridcolor": "#506784",
            "linecolor": "#506784",
            "ticks": ""
           }
          },
          "title": {
           "x": 0.05
          },
          "updatemenudefaults": {
           "bgcolor": "#506784",
           "borderwidth": 0
          },
          "xaxis": {
           "automargin": true,
           "gridcolor": "#283442",
           "linecolor": "#506784",
           "ticks": "",
           "title": {
            "standoff": 15
           },
           "zerolinecolor": "#283442",
           "zerolinewidth": 2
          },
          "yaxis": {
           "automargin": true,
           "gridcolor": "#283442",
           "linecolor": "#506784",
           "ticks": "",
           "title": {
            "standoff": 15
           },
           "zerolinecolor": "#283442",
           "zerolinewidth": 2
          }
         }
        },
        "title": {
         "text": "Extras by Team (Stacked by Type)"
        },
        "xaxis": {
         "anchor": "y",
         "domain": [
          0,
          1
         ],
         "tickangle": -30,
         "title": {
          "text": "Team"
         }
        },
        "yaxis": {
         "anchor": "x",
         "domain": [
          0,
          1
         ],
         "title": {
          "text": "Runs from Extras"
         }
        }
       }
      }
     },
     "metadata": {},
     "output_type": "display_data"
    }
   ],
   "source": [
    "import pandas as pd\n",
    "import plotly.express as px\n",
    "\n",
    "# -------------------------\n",
    "# Extras contribution\n",
    "# -------------------------\n",
    "extras = df[df['extra_runs'] > 0].groupby(['batting_team', 'extras_type']).agg(\n",
    "    extras=('extra_runs', 'sum')\n",
    ").reset_index()\n",
    "\n",
    "# Pivot table\n",
    "pivot = extras.pivot(index='batting_team', columns='extras_type', values='extras').fillna(0)\n",
    "pivot['total_extras'] = pivot.sum(axis=1)\n",
    "pivot = pivot.sort_values('total_extras', ascending=False)\n",
    "pivot_plot = pivot.drop(columns='total_extras')\n",
    "\n",
    "# Reset index for plotting\n",
    "pivot_plot_reset = pivot_plot.reset_index()\n",
    "\n",
    "# -------------------------\n",
    "# Interactive Stacked Bar Chart\n",
    "# -------------------------\n",
    "fig = px.bar(\n",
    "    pivot_plot_reset,\n",
    "    x='batting_team',\n",
    "    y=pivot_plot.columns,\n",
    "    title='Extras by Team (Stacked by Type)',\n",
    "    labels={'value':'Runs from Extras', 'batting_team':'Team'},\n",
    "    text_auto=True,\n",
    "    color_discrete_sequence=px.colors.qualitative.Pastel,\n",
    "    height=500\n",
    ")\n",
    "\n",
    "# Style layout\n",
    "fig.update_layout(\n",
    "    template='plotly_dark',\n",
    "    xaxis_tickangle=-30,\n",
    "    yaxis_title='Runs from Extras',\n",
    "    legend_title='Extras Type',\n",
    ")\n",
    "\n",
    "fig.show()\n"
   ]
  },
  {
   "cell_type": "markdown",
   "id": "a8ba4116",
   "metadata": {},
   "source": [
    "**Analysis:** Teams that concede many wides/no-balls give free runs and extra deliveries — a discipline issue to fix.\n"
   ]
  },
  {
   "cell_type": "markdown",
   "id": "dca8b492",
   "metadata": {},
   "source": [
    "## 8) Wicket Timing Distribution\n",
    "\n",
    "**Goal:** Histogram of overs when wickets most frequently fall (powerplay, middle, death).\n"
   ]
  },
  {
   "cell_type": "code",
   "execution_count": 20,
   "id": "60fd1036",
   "metadata": {},
   "outputs": [
    {
     "data": {
      "application/vnd.plotly.v1+json": {
       "config": {
        "plotlyServerURL": "https://plot.ly"
       },
       "data": [
        {
         "marker": {
          "color": "crimson"
         },
         "name": "Wickets per Over",
         "text": {
          "bdata": "AAAAAADwfEAAAAAAAHB/QAAAAAAAqIBAAAAAAAAggUAAAAAAAACCQAAAAAAA4IBAAAAAAADAe0AAAAAAAIB9QAAAAAAAyIBAAAAAAAAgf0AAAAAAAMCBQAAAAAAAuIFAAAAAAABIgkAAAAAAAMiDQAAAAAAAuIVAAAAAAAAAh0AAAAAAAFiIQAAAAAAAgI5AAAAAAADojkAAAAAAAHCUQA==",
          "dtype": "f8"
         },
         "textposition": "outside",
         "type": "bar",
         "x": {
          "bdata": "AAECAwQFBgcICQoLDA0ODxAREhM=",
          "dtype": "i1"
         },
         "y": {
          "bdata": "zwH3ARUCJAJAAhwCvAHYARkC8gE4AjcCSQJ5ArcC4AILA9AD3QMcBQ==",
          "dtype": "i2"
         }
        },
        {
         "line": {
          "color": "yellow",
          "width": 3
         },
         "marker": {
          "size": 8,
          "symbol": "diamond"
         },
         "mode": "lines+markers+text",
         "name": "Cumulative Wickets",
         "text": {
          "bdata": "AAAAAADwfEAAAAAAADCOQAAAAAAAbJdAAAAAAAD8n0AAAAAAAH6kQAAAAAAAtqhAAAAAAAAurEAAAAAAAN6vQAAAAAAACLJAAAAAAAD6s0AAAAAAADK2QAAAAAAAabhAAAAAAACyukAAAAAAACu9QAAAAAAA4r9AAAAAAABhwUAAAAAAgObCQAAAAACAzsRAAAAAAAC9xkAAAAAAAEvJQA==",
          "dtype": "f8"
         },
         "textposition": "top center",
         "type": "scatter",
         "x": {
          "bdata": "AAECAwQFBgcICQoLDA0ODxAREhM=",
          "dtype": "i1"
         },
         "y": {
          "bdata": "zwHGA9sF/wc/ClsMFw7vDwgS+hMyFmkYshorHeIfwiLNJZ0pei2WMg==",
          "dtype": "i2"
         }
        }
       ],
       "layout": {
        "height": 450,
        "legend": {
         "x": 0.8,
         "y": 1.15
        },
        "template": {
         "data": {
          "bar": [
           {
            "error_x": {
             "color": "#f2f5fa"
            },
            "error_y": {
             "color": "#f2f5fa"
            },
            "marker": {
             "line": {
              "color": "rgb(17,17,17)",
              "width": 0.5
             },
             "pattern": {
              "fillmode": "overlay",
              "size": 10,
              "solidity": 0.2
             }
            },
            "type": "bar"
           }
          ],
          "barpolar": [
           {
            "marker": {
             "line": {
              "color": "rgb(17,17,17)",
              "width": 0.5
             },
             "pattern": {
              "fillmode": "overlay",
              "size": 10,
              "solidity": 0.2
             }
            },
            "type": "barpolar"
           }
          ],
          "carpet": [
           {
            "aaxis": {
             "endlinecolor": "#A2B1C6",
             "gridcolor": "#506784",
             "linecolor": "#506784",
             "minorgridcolor": "#506784",
             "startlinecolor": "#A2B1C6"
            },
            "baxis": {
             "endlinecolor": "#A2B1C6",
             "gridcolor": "#506784",
             "linecolor": "#506784",
             "minorgridcolor": "#506784",
             "startlinecolor": "#A2B1C6"
            },
            "type": "carpet"
           }
          ],
          "choropleth": [
           {
            "colorbar": {
             "outlinewidth": 0,
             "ticks": ""
            },
            "type": "choropleth"
           }
          ],
          "contour": [
           {
            "colorbar": {
             "outlinewidth": 0,
             "ticks": ""
            },
            "colorscale": [
             [
              0,
              "#0d0887"
             ],
             [
              0.1111111111111111,
              "#46039f"
             ],
             [
              0.2222222222222222,
              "#7201a8"
             ],
             [
              0.3333333333333333,
              "#9c179e"
             ],
             [
              0.4444444444444444,
              "#bd3786"
             ],
             [
              0.5555555555555556,
              "#d8576b"
             ],
             [
              0.6666666666666666,
              "#ed7953"
             ],
             [
              0.7777777777777778,
              "#fb9f3a"
             ],
             [
              0.8888888888888888,
              "#fdca26"
             ],
             [
              1,
              "#f0f921"
             ]
            ],
            "type": "contour"
           }
          ],
          "contourcarpet": [
           {
            "colorbar": {
             "outlinewidth": 0,
             "ticks": ""
            },
            "type": "contourcarpet"
           }
          ],
          "heatmap": [
           {
            "colorbar": {
             "outlinewidth": 0,
             "ticks": ""
            },
            "colorscale": [
             [
              0,
              "#0d0887"
             ],
             [
              0.1111111111111111,
              "#46039f"
             ],
             [
              0.2222222222222222,
              "#7201a8"
             ],
             [
              0.3333333333333333,
              "#9c179e"
             ],
             [
              0.4444444444444444,
              "#bd3786"
             ],
             [
              0.5555555555555556,
              "#d8576b"
             ],
             [
              0.6666666666666666,
              "#ed7953"
             ],
             [
              0.7777777777777778,
              "#fb9f3a"
             ],
             [
              0.8888888888888888,
              "#fdca26"
             ],
             [
              1,
              "#f0f921"
             ]
            ],
            "type": "heatmap"
           }
          ],
          "histogram": [
           {
            "marker": {
             "pattern": {
              "fillmode": "overlay",
              "size": 10,
              "solidity": 0.2
             }
            },
            "type": "histogram"
           }
          ],
          "histogram2d": [
           {
            "colorbar": {
             "outlinewidth": 0,
             "ticks": ""
            },
            "colorscale": [
             [
              0,
              "#0d0887"
             ],
             [
              0.1111111111111111,
              "#46039f"
             ],
             [
              0.2222222222222222,
              "#7201a8"
             ],
             [
              0.3333333333333333,
              "#9c179e"
             ],
             [
              0.4444444444444444,
              "#bd3786"
             ],
             [
              0.5555555555555556,
              "#d8576b"
             ],
             [
              0.6666666666666666,
              "#ed7953"
             ],
             [
              0.7777777777777778,
              "#fb9f3a"
             ],
             [
              0.8888888888888888,
              "#fdca26"
             ],
             [
              1,
              "#f0f921"
             ]
            ],
            "type": "histogram2d"
           }
          ],
          "histogram2dcontour": [
           {
            "colorbar": {
             "outlinewidth": 0,
             "ticks": ""
            },
            "colorscale": [
             [
              0,
              "#0d0887"
             ],
             [
              0.1111111111111111,
              "#46039f"
             ],
             [
              0.2222222222222222,
              "#7201a8"
             ],
             [
              0.3333333333333333,
              "#9c179e"
             ],
             [
              0.4444444444444444,
              "#bd3786"
             ],
             [
              0.5555555555555556,
              "#d8576b"
             ],
             [
              0.6666666666666666,
              "#ed7953"
             ],
             [
              0.7777777777777778,
              "#fb9f3a"
             ],
             [
              0.8888888888888888,
              "#fdca26"
             ],
             [
              1,
              "#f0f921"
             ]
            ],
            "type": "histogram2dcontour"
           }
          ],
          "mesh3d": [
           {
            "colorbar": {
             "outlinewidth": 0,
             "ticks": ""
            },
            "type": "mesh3d"
           }
          ],
          "parcoords": [
           {
            "line": {
             "colorbar": {
              "outlinewidth": 0,
              "ticks": ""
             }
            },
            "type": "parcoords"
           }
          ],
          "pie": [
           {
            "automargin": true,
            "type": "pie"
           }
          ],
          "scatter": [
           {
            "marker": {
             "line": {
              "color": "#283442"
             }
            },
            "type": "scatter"
           }
          ],
          "scatter3d": [
           {
            "line": {
             "colorbar": {
              "outlinewidth": 0,
              "ticks": ""
             }
            },
            "marker": {
             "colorbar": {
              "outlinewidth": 0,
              "ticks": ""
             }
            },
            "type": "scatter3d"
           }
          ],
          "scattercarpet": [
           {
            "marker": {
             "colorbar": {
              "outlinewidth": 0,
              "ticks": ""
             }
            },
            "type": "scattercarpet"
           }
          ],
          "scattergeo": [
           {
            "marker": {
             "colorbar": {
              "outlinewidth": 0,
              "ticks": ""
             }
            },
            "type": "scattergeo"
           }
          ],
          "scattergl": [
           {
            "marker": {
             "line": {
              "color": "#283442"
             }
            },
            "type": "scattergl"
           }
          ],
          "scattermap": [
           {
            "marker": {
             "colorbar": {
              "outlinewidth": 0,
              "ticks": ""
             }
            },
            "type": "scattermap"
           }
          ],
          "scattermapbox": [
           {
            "marker": {
             "colorbar": {
              "outlinewidth": 0,
              "ticks": ""
             }
            },
            "type": "scattermapbox"
           }
          ],
          "scatterpolar": [
           {
            "marker": {
             "colorbar": {
              "outlinewidth": 0,
              "ticks": ""
             }
            },
            "type": "scatterpolar"
           }
          ],
          "scatterpolargl": [
           {
            "marker": {
             "colorbar": {
              "outlinewidth": 0,
              "ticks": ""
             }
            },
            "type": "scatterpolargl"
           }
          ],
          "scatterternary": [
           {
            "marker": {
             "colorbar": {
              "outlinewidth": 0,
              "ticks": ""
             }
            },
            "type": "scatterternary"
           }
          ],
          "surface": [
           {
            "colorbar": {
             "outlinewidth": 0,
             "ticks": ""
            },
            "colorscale": [
             [
              0,
              "#0d0887"
             ],
             [
              0.1111111111111111,
              "#46039f"
             ],
             [
              0.2222222222222222,
              "#7201a8"
             ],
             [
              0.3333333333333333,
              "#9c179e"
             ],
             [
              0.4444444444444444,
              "#bd3786"
             ],
             [
              0.5555555555555556,
              "#d8576b"
             ],
             [
              0.6666666666666666,
              "#ed7953"
             ],
             [
              0.7777777777777778,
              "#fb9f3a"
             ],
             [
              0.8888888888888888,
              "#fdca26"
             ],
             [
              1,
              "#f0f921"
             ]
            ],
            "type": "surface"
           }
          ],
          "table": [
           {
            "cells": {
             "fill": {
              "color": "#506784"
             },
             "line": {
              "color": "rgb(17,17,17)"
             }
            },
            "header": {
             "fill": {
              "color": "#2a3f5f"
             },
             "line": {
              "color": "rgb(17,17,17)"
             }
            },
            "type": "table"
           }
          ]
         },
         "layout": {
          "annotationdefaults": {
           "arrowcolor": "#f2f5fa",
           "arrowhead": 0,
           "arrowwidth": 1
          },
          "autotypenumbers": "strict",
          "coloraxis": {
           "colorbar": {
            "outlinewidth": 0,
            "ticks": ""
           }
          },
          "colorscale": {
           "diverging": [
            [
             0,
             "#8e0152"
            ],
            [
             0.1,
             "#c51b7d"
            ],
            [
             0.2,
             "#de77ae"
            ],
            [
             0.3,
             "#f1b6da"
            ],
            [
             0.4,
             "#fde0ef"
            ],
            [
             0.5,
             "#f7f7f7"
            ],
            [
             0.6,
             "#e6f5d0"
            ],
            [
             0.7,
             "#b8e186"
            ],
            [
             0.8,
             "#7fbc41"
            ],
            [
             0.9,
             "#4d9221"
            ],
            [
             1,
             "#276419"
            ]
           ],
           "sequential": [
            [
             0,
             "#0d0887"
            ],
            [
             0.1111111111111111,
             "#46039f"
            ],
            [
             0.2222222222222222,
             "#7201a8"
            ],
            [
             0.3333333333333333,
             "#9c179e"
            ],
            [
             0.4444444444444444,
             "#bd3786"
            ],
            [
             0.5555555555555556,
             "#d8576b"
            ],
            [
             0.6666666666666666,
             "#ed7953"
            ],
            [
             0.7777777777777778,
             "#fb9f3a"
            ],
            [
             0.8888888888888888,
             "#fdca26"
            ],
            [
             1,
             "#f0f921"
            ]
           ],
           "sequentialminus": [
            [
             0,
             "#0d0887"
            ],
            [
             0.1111111111111111,
             "#46039f"
            ],
            [
             0.2222222222222222,
             "#7201a8"
            ],
            [
             0.3333333333333333,
             "#9c179e"
            ],
            [
             0.4444444444444444,
             "#bd3786"
            ],
            [
             0.5555555555555556,
             "#d8576b"
            ],
            [
             0.6666666666666666,
             "#ed7953"
            ],
            [
             0.7777777777777778,
             "#fb9f3a"
            ],
            [
             0.8888888888888888,
             "#fdca26"
            ],
            [
             1,
             "#f0f921"
            ]
           ]
          },
          "colorway": [
           "#636efa",
           "#EF553B",
           "#00cc96",
           "#ab63fa",
           "#FFA15A",
           "#19d3f3",
           "#FF6692",
           "#B6E880",
           "#FF97FF",
           "#FECB52"
          ],
          "font": {
           "color": "#f2f5fa"
          },
          "geo": {
           "bgcolor": "rgb(17,17,17)",
           "lakecolor": "rgb(17,17,17)",
           "landcolor": "rgb(17,17,17)",
           "showlakes": true,
           "showland": true,
           "subunitcolor": "#506784"
          },
          "hoverlabel": {
           "align": "left"
          },
          "hovermode": "closest",
          "mapbox": {
           "style": "dark"
          },
          "paper_bgcolor": "rgb(17,17,17)",
          "plot_bgcolor": "rgb(17,17,17)",
          "polar": {
           "angularaxis": {
            "gridcolor": "#506784",
            "linecolor": "#506784",
            "ticks": ""
           },
           "bgcolor": "rgb(17,17,17)",
           "radialaxis": {
            "gridcolor": "#506784",
            "linecolor": "#506784",
            "ticks": ""
           }
          },
          "scene": {
           "xaxis": {
            "backgroundcolor": "rgb(17,17,17)",
            "gridcolor": "#506784",
            "gridwidth": 2,
            "linecolor": "#506784",
            "showbackground": true,
            "ticks": "",
            "zerolinecolor": "#C8D4E3"
           },
           "yaxis": {
            "backgroundcolor": "rgb(17,17,17)",
            "gridcolor": "#506784",
            "gridwidth": 2,
            "linecolor": "#506784",
            "showbackground": true,
            "ticks": "",
            "zerolinecolor": "#C8D4E3"
           },
           "zaxis": {
            "backgroundcolor": "rgb(17,17,17)",
            "gridcolor": "#506784",
            "gridwidth": 2,
            "linecolor": "#506784",
            "showbackground": true,
            "ticks": "",
            "zerolinecolor": "#C8D4E3"
           }
          },
          "shapedefaults": {
           "line": {
            "color": "#f2f5fa"
           }
          },
          "sliderdefaults": {
           "bgcolor": "#C8D4E3",
           "bordercolor": "rgb(17,17,17)",
           "borderwidth": 1,
           "tickwidth": 0
          },
          "ternary": {
           "aaxis": {
            "gridcolor": "#506784",
            "linecolor": "#506784",
            "ticks": ""
           },
           "baxis": {
            "gridcolor": "#506784",
            "linecolor": "#506784",
            "ticks": ""
           },
           "bgcolor": "rgb(17,17,17)",
           "caxis": {
            "gridcolor": "#506784",
            "linecolor": "#506784",
            "ticks": ""
           }
          },
          "title": {
           "x": 0.05
          },
          "updatemenudefaults": {
           "bgcolor": "#506784",
           "borderwidth": 0
          },
          "xaxis": {
           "automargin": true,
           "gridcolor": "#283442",
           "linecolor": "#506784",
           "ticks": "",
           "title": {
            "standoff": 15
           },
           "zerolinecolor": "#283442",
           "zerolinewidth": 2
          },
          "yaxis": {
           "automargin": true,
           "gridcolor": "#283442",
           "linecolor": "#506784",
           "ticks": "",
           "title": {
            "standoff": 15
           },
           "zerolinecolor": "#283442",
           "zerolinewidth": 2
          }
         }
        },
        "title": {
         "text": "Wicket Timing — Distribution & Cumulative Trend"
        },
        "xaxis": {
         "dtick": 1,
         "title": {
          "text": "Over"
         }
        },
        "yaxis": {
         "title": {
          "text": "Wickets"
         }
        }
       }
      }
     },
     "metadata": {},
     "output_type": "display_data"
    }
   ],
   "source": [
    "import pandas as pd\n",
    "import plotly.graph_objects as go\n",
    "\n",
    "# -------------------------\n",
    "# Wickets Timing\n",
    "# -------------------------\n",
    "wickets = df[df['is_wicket']==1]\n",
    "\n",
    "# Count wickets per over\n",
    "wicket_counts = wickets.groupby('over').size().reset_index(name='wickets')\n",
    "\n",
    "# Compute cumulative wickets\n",
    "wicket_counts['cumulative'] = wicket_counts['wickets'].cumsum()\n",
    "\n",
    "# -------------------------\n",
    "# Combined Bar + Line Plot\n",
    "# -------------------------\n",
    "fig = go.Figure()\n",
    "\n",
    "# Bar: Wickets per over\n",
    "fig.add_trace(go.Bar(\n",
    "    x=wicket_counts['over'],\n",
    "    y=wicket_counts['wickets'],\n",
    "    name='Wickets per Over',\n",
    "    marker_color='crimson',\n",
    "    text=wicket_counts['wickets'],\n",
    "    textposition='outside'\n",
    "))\n",
    "\n",
    "# Line: Cumulative wickets\n",
    "fig.add_trace(go.Scatter(\n",
    "    x=wicket_counts['over'],\n",
    "    y=wicket_counts['cumulative'],\n",
    "    name='Cumulative Wickets',\n",
    "    mode='lines+markers+text',\n",
    "    line=dict(color='yellow', width=3),\n",
    "    marker=dict(size=8, symbol='diamond'),\n",
    "    text=wicket_counts['cumulative'],\n",
    "    textposition='top center'\n",
    "))\n",
    "\n",
    "# Layout\n",
    "fig.update_layout(\n",
    "    title='Wicket Timing — Distribution & Cumulative Trend',\n",
    "    xaxis=dict(title='Over', dtick=1),\n",
    "    yaxis=dict(title='Wickets'),\n",
    "    template='plotly_dark',\n",
    "    legend=dict(x=0.8, y=1.15),\n",
    "    height=450\n",
    ")\n",
    "\n",
    "fig.show()\n"
   ]
  },
  {
   "cell_type": "code",
   "execution_count": 21,
   "id": "b699e450",
   "metadata": {},
   "outputs": [
    {
     "data": {
      "application/vnd.plotly.v1+json": {
       "config": {
        "plotlyServerURL": "https://plot.ly"
       },
       "data": [
        {
         "customdata": {
          "bdata": "zwH3ARUCJAJAAhwCvAHYARkC8gE4AjcCSQJ5ArcC4AILA9AD3QMcBQ==",
          "dtype": "i2",
          "shape": "20, 1"
         },
         "hovertemplate": "over=%{x}<br>wickets=%{marker.color}<extra></extra>",
         "legendgroup": "",
         "marker": {
          "color": {
           "bdata": "zwH3ARUCJAJAAhwCvAHYARkC8gE4AjcCSQJ5ArcC4AILA9AD3QMcBQ==",
           "dtype": "i2"
          },
          "coloraxis": "coloraxis",
          "size": {
           "bdata": "zwH3ARUCJAJAAhwCvAHYARkC8gE4AjcCSQJ5ArcC4AILA9AD3QMcBQ==",
           "dtype": "i2"
          },
          "sizemode": "area",
          "sizeref": 0.8175,
          "symbol": "circle"
         },
         "mode": "markers",
         "name": "",
         "orientation": "v",
         "showlegend": false,
         "type": "scatter",
         "x": {
          "bdata": "AAECAwQFBgcICQoLDA0ODxAREhM=",
          "dtype": "i1"
         },
         "xaxis": "x",
         "y": {
          "bdata": "7FFfHnf4xz+V9S4aEJv3P+rM49GP7QJAlmXMugZlCkCGiNys4U8QQP1lhoPeTxRAVWSdIr0dGEB7W5Vwe7sdQF2SZKzimSBAFNSUPkS1IkAgzoEGRQUkQJ0aFwNM+CZAoAj+9RrVKEBhBiDbWzYqQDLAvxSMLixAacITmfMuLkBVyelo8SYwQPIcADgrQzFAd15w+Uk3MkB6ZRj/RiUzQA==",
          "dtype": "f8"
         },
         "yaxis": "y"
        }
       ],
       "layout": {
        "coloraxis": {
         "colorbar": {
          "title": {
           "text": "wickets"
          }
         },
         "colorscale": [
          [
           0,
           "#440154"
          ],
          [
           0.1111111111111111,
           "#482878"
          ],
          [
           0.2222222222222222,
           "#3e4989"
          ],
          [
           0.3333333333333333,
           "#31688e"
          ],
          [
           0.4444444444444444,
           "#26828e"
          ],
          [
           0.5555555555555556,
           "#1f9e89"
          ],
          [
           0.6666666666666666,
           "#35b779"
          ],
          [
           0.7777777777777778,
           "#6ece58"
          ],
          [
           0.8888888888888888,
           "#b5de2b"
          ],
          [
           1,
           "#fde725"
          ]
         ]
        },
        "height": 500,
        "legend": {
         "itemsizing": "constant",
         "tracegroupgap": 0
        },
        "template": {
         "data": {
          "bar": [
           {
            "error_x": {
             "color": "#f2f5fa"
            },
            "error_y": {
             "color": "#f2f5fa"
            },
            "marker": {
             "line": {
              "color": "rgb(17,17,17)",
              "width": 0.5
             },
             "pattern": {
              "fillmode": "overlay",
              "size": 10,
              "solidity": 0.2
             }
            },
            "type": "bar"
           }
          ],
          "barpolar": [
           {
            "marker": {
             "line": {
              "color": "rgb(17,17,17)",
              "width": 0.5
             },
             "pattern": {
              "fillmode": "overlay",
              "size": 10,
              "solidity": 0.2
             }
            },
            "type": "barpolar"
           }
          ],
          "carpet": [
           {
            "aaxis": {
             "endlinecolor": "#A2B1C6",
             "gridcolor": "#506784",
             "linecolor": "#506784",
             "minorgridcolor": "#506784",
             "startlinecolor": "#A2B1C6"
            },
            "baxis": {
             "endlinecolor": "#A2B1C6",
             "gridcolor": "#506784",
             "linecolor": "#506784",
             "minorgridcolor": "#506784",
             "startlinecolor": "#A2B1C6"
            },
            "type": "carpet"
           }
          ],
          "choropleth": [
           {
            "colorbar": {
             "outlinewidth": 0,
             "ticks": ""
            },
            "type": "choropleth"
           }
          ],
          "contour": [
           {
            "colorbar": {
             "outlinewidth": 0,
             "ticks": ""
            },
            "colorscale": [
             [
              0,
              "#0d0887"
             ],
             [
              0.1111111111111111,
              "#46039f"
             ],
             [
              0.2222222222222222,
              "#7201a8"
             ],
             [
              0.3333333333333333,
              "#9c179e"
             ],
             [
              0.4444444444444444,
              "#bd3786"
             ],
             [
              0.5555555555555556,
              "#d8576b"
             ],
             [
              0.6666666666666666,
              "#ed7953"
             ],
             [
              0.7777777777777778,
              "#fb9f3a"
             ],
             [
              0.8888888888888888,
              "#fdca26"
             ],
             [
              1,
              "#f0f921"
             ]
            ],
            "type": "contour"
           }
          ],
          "contourcarpet": [
           {
            "colorbar": {
             "outlinewidth": 0,
             "ticks": ""
            },
            "type": "contourcarpet"
           }
          ],
          "heatmap": [
           {
            "colorbar": {
             "outlinewidth": 0,
             "ticks": ""
            },
            "colorscale": [
             [
              0,
              "#0d0887"
             ],
             [
              0.1111111111111111,
              "#46039f"
             ],
             [
              0.2222222222222222,
              "#7201a8"
             ],
             [
              0.3333333333333333,
              "#9c179e"
             ],
             [
              0.4444444444444444,
              "#bd3786"
             ],
             [
              0.5555555555555556,
              "#d8576b"
             ],
             [
              0.6666666666666666,
              "#ed7953"
             ],
             [
              0.7777777777777778,
              "#fb9f3a"
             ],
             [
              0.8888888888888888,
              "#fdca26"
             ],
             [
              1,
              "#f0f921"
             ]
            ],
            "type": "heatmap"
           }
          ],
          "histogram": [
           {
            "marker": {
             "pattern": {
              "fillmode": "overlay",
              "size": 10,
              "solidity": 0.2
             }
            },
            "type": "histogram"
           }
          ],
          "histogram2d": [
           {
            "colorbar": {
             "outlinewidth": 0,
             "ticks": ""
            },
            "colorscale": [
             [
              0,
              "#0d0887"
             ],
             [
              0.1111111111111111,
              "#46039f"
             ],
             [
              0.2222222222222222,
              "#7201a8"
             ],
             [
              0.3333333333333333,
              "#9c179e"
             ],
             [
              0.4444444444444444,
              "#bd3786"
             ],
             [
              0.5555555555555556,
              "#d8576b"
             ],
             [
              0.6666666666666666,
              "#ed7953"
             ],
             [
              0.7777777777777778,
              "#fb9f3a"
             ],
             [
              0.8888888888888888,
              "#fdca26"
             ],
             [
              1,
              "#f0f921"
             ]
            ],
            "type": "histogram2d"
           }
          ],
          "histogram2dcontour": [
           {
            "colorbar": {
             "outlinewidth": 0,
             "ticks": ""
            },
            "colorscale": [
             [
              0,
              "#0d0887"
             ],
             [
              0.1111111111111111,
              "#46039f"
             ],
             [
              0.2222222222222222,
              "#7201a8"
             ],
             [
              0.3333333333333333,
              "#9c179e"
             ],
             [
              0.4444444444444444,
              "#bd3786"
             ],
             [
              0.5555555555555556,
              "#d8576b"
             ],
             [
              0.6666666666666666,
              "#ed7953"
             ],
             [
              0.7777777777777778,
              "#fb9f3a"
             ],
             [
              0.8888888888888888,
              "#fdca26"
             ],
             [
              1,
              "#f0f921"
             ]
            ],
            "type": "histogram2dcontour"
           }
          ],
          "mesh3d": [
           {
            "colorbar": {
             "outlinewidth": 0,
             "ticks": ""
            },
            "type": "mesh3d"
           }
          ],
          "parcoords": [
           {
            "line": {
             "colorbar": {
              "outlinewidth": 0,
              "ticks": ""
             }
            },
            "type": "parcoords"
           }
          ],
          "pie": [
           {
            "automargin": true,
            "type": "pie"
           }
          ],
          "scatter": [
           {
            "marker": {
             "line": {
              "color": "#283442"
             }
            },
            "type": "scatter"
           }
          ],
          "scatter3d": [
           {
            "line": {
             "colorbar": {
              "outlinewidth": 0,
              "ticks": ""
             }
            },
            "marker": {
             "colorbar": {
              "outlinewidth": 0,
              "ticks": ""
             }
            },
            "type": "scatter3d"
           }
          ],
          "scattercarpet": [
           {
            "marker": {
             "colorbar": {
              "outlinewidth": 0,
              "ticks": ""
             }
            },
            "type": "scattercarpet"
           }
          ],
          "scattergeo": [
           {
            "marker": {
             "colorbar": {
              "outlinewidth": 0,
              "ticks": ""
             }
            },
            "type": "scattergeo"
           }
          ],
          "scattergl": [
           {
            "marker": {
             "line": {
              "color": "#283442"
             }
            },
            "type": "scattergl"
           }
          ],
          "scattermap": [
           {
            "marker": {
             "colorbar": {
              "outlinewidth": 0,
              "ticks": ""
             }
            },
            "type": "scattermap"
           }
          ],
          "scattermapbox": [
           {
            "marker": {
             "colorbar": {
              "outlinewidth": 0,
              "ticks": ""
             }
            },
            "type": "scattermapbox"
           }
          ],
          "scatterpolar": [
           {
            "marker": {
             "colorbar": {
              "outlinewidth": 0,
              "ticks": ""
             }
            },
            "type": "scatterpolar"
           }
          ],
          "scatterpolargl": [
           {
            "marker": {
             "colorbar": {
              "outlinewidth": 0,
              "ticks": ""
             }
            },
            "type": "scatterpolargl"
           }
          ],
          "scatterternary": [
           {
            "marker": {
             "colorbar": {
              "outlinewidth": 0,
              "ticks": ""
             }
            },
            "type": "scatterternary"
           }
          ],
          "surface": [
           {
            "colorbar": {
             "outlinewidth": 0,
             "ticks": ""
            },
            "colorscale": [
             [
              0,
              "#0d0887"
             ],
             [
              0.1111111111111111,
              "#46039f"
             ],
             [
              0.2222222222222222,
              "#7201a8"
             ],
             [
              0.3333333333333333,
              "#9c179e"
             ],
             [
              0.4444444444444444,
              "#bd3786"
             ],
             [
              0.5555555555555556,
              "#d8576b"
             ],
             [
              0.6666666666666666,
              "#ed7953"
             ],
             [
              0.7777777777777778,
              "#fb9f3a"
             ],
             [
              0.8888888888888888,
              "#fdca26"
             ],
             [
              1,
              "#f0f921"
             ]
            ],
            "type": "surface"
           }
          ],
          "table": [
           {
            "cells": {
             "fill": {
              "color": "#506784"
             },
             "line": {
              "color": "rgb(17,17,17)"
             }
            },
            "header": {
             "fill": {
              "color": "#2a3f5f"
             },
             "line": {
              "color": "rgb(17,17,17)"
             }
            },
            "type": "table"
           }
          ]
         },
         "layout": {
          "annotationdefaults": {
           "arrowcolor": "#f2f5fa",
           "arrowhead": 0,
           "arrowwidth": 1
          },
          "autotypenumbers": "strict",
          "coloraxis": {
           "colorbar": {
            "outlinewidth": 0,
            "ticks": ""
           }
          },
          "colorscale": {
           "diverging": [
            [
             0,
             "#8e0152"
            ],
            [
             0.1,
             "#c51b7d"
            ],
            [
             0.2,
             "#de77ae"
            ],
            [
             0.3,
             "#f1b6da"
            ],
            [
             0.4,
             "#fde0ef"
            ],
            [
             0.5,
             "#f7f7f7"
            ],
            [
             0.6,
             "#e6f5d0"
            ],
            [
             0.7,
             "#b8e186"
            ],
            [
             0.8,
             "#7fbc41"
            ],
            [
             0.9,
             "#4d9221"
            ],
            [
             1,
             "#276419"
            ]
           ],
           "sequential": [
            [
             0,
             "#0d0887"
            ],
            [
             0.1111111111111111,
             "#46039f"
            ],
            [
             0.2222222222222222,
             "#7201a8"
            ],
            [
             0.3333333333333333,
             "#9c179e"
            ],
            [
             0.4444444444444444,
             "#bd3786"
            ],
            [
             0.5555555555555556,
             "#d8576b"
            ],
            [
             0.6666666666666666,
             "#ed7953"
            ],
            [
             0.7777777777777778,
             "#fb9f3a"
            ],
            [
             0.8888888888888888,
             "#fdca26"
            ],
            [
             1,
             "#f0f921"
            ]
           ],
           "sequentialminus": [
            [
             0,
             "#0d0887"
            ],
            [
             0.1111111111111111,
             "#46039f"
            ],
            [
             0.2222222222222222,
             "#7201a8"
            ],
            [
             0.3333333333333333,
             "#9c179e"
            ],
            [
             0.4444444444444444,
             "#bd3786"
            ],
            [
             0.5555555555555556,
             "#d8576b"
            ],
            [
             0.6666666666666666,
             "#ed7953"
            ],
            [
             0.7777777777777778,
             "#fb9f3a"
            ],
            [
             0.8888888888888888,
             "#fdca26"
            ],
            [
             1,
             "#f0f921"
            ]
           ]
          },
          "colorway": [
           "#636efa",
           "#EF553B",
           "#00cc96",
           "#ab63fa",
           "#FFA15A",
           "#19d3f3",
           "#FF6692",
           "#B6E880",
           "#FF97FF",
           "#FECB52"
          ],
          "font": {
           "color": "#f2f5fa"
          },
          "geo": {
           "bgcolor": "rgb(17,17,17)",
           "lakecolor": "rgb(17,17,17)",
           "landcolor": "rgb(17,17,17)",
           "showlakes": true,
           "showland": true,
           "subunitcolor": "#506784"
          },
          "hoverlabel": {
           "align": "left"
          },
          "hovermode": "closest",
          "mapbox": {
           "style": "dark"
          },
          "paper_bgcolor": "rgb(17,17,17)",
          "plot_bgcolor": "rgb(17,17,17)",
          "polar": {
           "angularaxis": {
            "gridcolor": "#506784",
            "linecolor": "#506784",
            "ticks": ""
           },
           "bgcolor": "rgb(17,17,17)",
           "radialaxis": {
            "gridcolor": "#506784",
            "linecolor": "#506784",
            "ticks": ""
           }
          },
          "scene": {
           "xaxis": {
            "backgroundcolor": "rgb(17,17,17)",
            "gridcolor": "#506784",
            "gridwidth": 2,
            "linecolor": "#506784",
            "showbackground": true,
            "ticks": "",
            "zerolinecolor": "#C8D4E3"
           },
           "yaxis": {
            "backgroundcolor": "rgb(17,17,17)",
            "gridcolor": "#506784",
            "gridwidth": 2,
            "linecolor": "#506784",
            "showbackground": true,
            "ticks": "",
            "zerolinecolor": "#C8D4E3"
           },
           "zaxis": {
            "backgroundcolor": "rgb(17,17,17)",
            "gridcolor": "#506784",
            "gridwidth": 2,
            "linecolor": "#506784",
            "showbackground": true,
            "ticks": "",
            "zerolinecolor": "#C8D4E3"
           }
          },
          "shapedefaults": {
           "line": {
            "color": "#f2f5fa"
           }
          },
          "sliderdefaults": {
           "bgcolor": "#C8D4E3",
           "bordercolor": "rgb(17,17,17)",
           "borderwidth": 1,
           "tickwidth": 0
          },
          "ternary": {
           "aaxis": {
            "gridcolor": "#506784",
            "linecolor": "#506784",
            "ticks": ""
           },
           "baxis": {
            "gridcolor": "#506784",
            "linecolor": "#506784",
            "ticks": ""
           },
           "bgcolor": "rgb(17,17,17)",
           "caxis": {
            "gridcolor": "#506784",
            "linecolor": "#506784",
            "ticks": ""
           }
          },
          "title": {
           "x": 0.05
          },
          "updatemenudefaults": {
           "bgcolor": "#506784",
           "borderwidth": 0
          },
          "xaxis": {
           "automargin": true,
           "gridcolor": "#283442",
           "linecolor": "#506784",
           "ticks": "",
           "title": {
            "standoff": 15
           },
           "zerolinecolor": "#283442",
           "zerolinewidth": 2
          },
          "yaxis": {
           "automargin": true,
           "gridcolor": "#283442",
           "linecolor": "#506784",
           "ticks": "",
           "title": {
            "standoff": 15
           },
           "zerolinecolor": "#283442",
           "zerolinewidth": 2
          }
         }
        },
        "title": {
         "text": "🔥 Wicket Fireworks — Distribution by Over"
        },
        "xaxis": {
         "anchor": "y",
         "domain": [
          0,
          1
         ],
         "title": {
          "text": "over"
         }
        },
        "yaxis": {
         "anchor": "x",
         "domain": [
          0,
          1
         ],
         "showticklabels": false,
         "title": {
          "text": "y"
         }
        }
       }
      }
     },
     "metadata": {},
     "output_type": "display_data"
    }
   ],
   "source": [
    "import numpy as np\n",
    "import plotly.express as px\n",
    "\n",
    "wickets = df[df['is_wicket']==1]\n",
    "# Count wickets per over\n",
    "wicket_counts = wickets.groupby('over').size().reset_index(name='wickets')\n",
    "\n",
    "# Add random jitter for y-axis for “firework” effect\n",
    "np.random.seed(42)\n",
    "wicket_counts['y'] = np.random.uniform(0, 1, len(wicket_counts)) * 0.5 + np.arange(len(wicket_counts))\n",
    "\n",
    "fig = px.scatter(\n",
    "    wicket_counts, x='over', y='y',\n",
    "    size='wickets', size_max=40,\n",
    "    color='wickets', color_continuous_scale='Viridis',\n",
    "    hover_data={'over':True, 'wickets':True, 'y':False},\n",
    "    title='🔥 Wicket Fireworks — Distribution by Over'\n",
    ")\n",
    "\n",
    "fig.update_layout(\n",
    "    yaxis=dict(showticklabels=False),\n",
    "    template='plotly_dark',\n",
    "    height=500\n",
    ")\n",
    "fig.show()\n"
   ]
  },
  {
   "cell_type": "markdown",
   "id": "c450a205",
   "metadata": {},
   "source": [
    "## 9) Clutch Batsmen — Death Overs (16–20)\n",
    "\n",
    "**Goal:** Rank batsmen by runs scored in overs 16–20 to identify true finishers.\n"
   ]
  },
  {
   "cell_type": "code",
   "execution_count": 22,
   "id": "547ed4ba",
   "metadata": {},
   "outputs": [
    {
     "data": {
      "application/vnd.plotly.v1+json": {
       "config": {
        "plotlyServerURL": "https://plot.ly"
       },
       "data": [
        {
         "hovertemplate": "Batsman=%{x}<br>Runs=%{marker.color}<extra></extra>",
         "legendgroup": "",
         "marker": {
          "color": {
           "bdata": "4gqsBh0GjQWMBZgEZgRLBCkE3ANtA1oDIAP4AsgCqAKYAnICbwJsAg==",
           "dtype": "i2"
          },
          "coloraxis": "coloraxis",
          "pattern": {
           "shape": ""
          }
         },
         "name": "",
         "orientation": "v",
         "showlegend": false,
         "text": {
          "bdata": "AAAAAADEpUAAAAAAALCaQAAAAAAAdJhAAAAAAAA0lkAAAAAAADCWQAAAAAAAYJJAAAAAAACYkUAAAAAAACyRQAAAAAAApJBAAAAAAADgjkAAAAAAAGiLQAAAAAAA0IpAAAAAAAAAiUAAAAAAAMCHQAAAAAAAQIZAAAAAAABAhUAAAAAAAMCEQAAAAAAAkINAAAAAAAB4g0AAAAAAAGCDQA==",
          "dtype": "f8"
         },
         "textposition": "outside",
         "type": "bar",
         "x": [
          "MS Dhoni",
          "KA Pollard",
          "KD Karthik",
          "AB de Villiers",
          "RA Jadeja",
          "RG Sharma",
          "HH Pandya",
          "V Kohli",
          "AD Russell",
          "DA Miller",
          "AT Rayudu",
          "YK Pathan",
          "DJ Bravo",
          "AR Patel",
          "JP Duminy",
          "SO Hetmyer",
          "SK Raina",
          "RR Pant",
          "R Tewatia",
          "MP Stoinis"
         ],
         "xaxis": "x",
         "y": {
          "bdata": "4gqsBh0GjQWMBZgEZgRLBCkE3ANtA1oDIAP4AsgCqAKYAnICbwJsAg==",
          "dtype": "i2"
         },
         "yaxis": "y"
        }
       ],
       "layout": {
        "barmode": "relative",
        "coloraxis": {
         "colorbar": {
          "title": {
           "text": "Runs"
          }
         },
         "colorscale": [
          [
           0,
           "#440154"
          ],
          [
           0.1111111111111111,
           "#482878"
          ],
          [
           0.2222222222222222,
           "#3e4989"
          ],
          [
           0.3333333333333333,
           "#31688e"
          ],
          [
           0.4444444444444444,
           "#26828e"
          ],
          [
           0.5555555555555556,
           "#1f9e89"
          ],
          [
           0.6666666666666666,
           "#35b779"
          ],
          [
           0.7777777777777778,
           "#6ece58"
          ],
          [
           0.8888888888888888,
           "#b5de2b"
          ],
          [
           1,
           "#fde725"
          ]
         ]
        },
        "height": 500,
        "legend": {
         "tracegroupgap": 0
        },
        "showlegend": false,
        "template": {
         "data": {
          "bar": [
           {
            "error_x": {
             "color": "#f2f5fa"
            },
            "error_y": {
             "color": "#f2f5fa"
            },
            "marker": {
             "line": {
              "color": "rgb(17,17,17)",
              "width": 0.5
             },
             "pattern": {
              "fillmode": "overlay",
              "size": 10,
              "solidity": 0.2
             }
            },
            "type": "bar"
           }
          ],
          "barpolar": [
           {
            "marker": {
             "line": {
              "color": "rgb(17,17,17)",
              "width": 0.5
             },
             "pattern": {
              "fillmode": "overlay",
              "size": 10,
              "solidity": 0.2
             }
            },
            "type": "barpolar"
           }
          ],
          "carpet": [
           {
            "aaxis": {
             "endlinecolor": "#A2B1C6",
             "gridcolor": "#506784",
             "linecolor": "#506784",
             "minorgridcolor": "#506784",
             "startlinecolor": "#A2B1C6"
            },
            "baxis": {
             "endlinecolor": "#A2B1C6",
             "gridcolor": "#506784",
             "linecolor": "#506784",
             "minorgridcolor": "#506784",
             "startlinecolor": "#A2B1C6"
            },
            "type": "carpet"
           }
          ],
          "choropleth": [
           {
            "colorbar": {
             "outlinewidth": 0,
             "ticks": ""
            },
            "type": "choropleth"
           }
          ],
          "contour": [
           {
            "colorbar": {
             "outlinewidth": 0,
             "ticks": ""
            },
            "colorscale": [
             [
              0,
              "#0d0887"
             ],
             [
              0.1111111111111111,
              "#46039f"
             ],
             [
              0.2222222222222222,
              "#7201a8"
             ],
             [
              0.3333333333333333,
              "#9c179e"
             ],
             [
              0.4444444444444444,
              "#bd3786"
             ],
             [
              0.5555555555555556,
              "#d8576b"
             ],
             [
              0.6666666666666666,
              "#ed7953"
             ],
             [
              0.7777777777777778,
              "#fb9f3a"
             ],
             [
              0.8888888888888888,
              "#fdca26"
             ],
             [
              1,
              "#f0f921"
             ]
            ],
            "type": "contour"
           }
          ],
          "contourcarpet": [
           {
            "colorbar": {
             "outlinewidth": 0,
             "ticks": ""
            },
            "type": "contourcarpet"
           }
          ],
          "heatmap": [
           {
            "colorbar": {
             "outlinewidth": 0,
             "ticks": ""
            },
            "colorscale": [
             [
              0,
              "#0d0887"
             ],
             [
              0.1111111111111111,
              "#46039f"
             ],
             [
              0.2222222222222222,
              "#7201a8"
             ],
             [
              0.3333333333333333,
              "#9c179e"
             ],
             [
              0.4444444444444444,
              "#bd3786"
             ],
             [
              0.5555555555555556,
              "#d8576b"
             ],
             [
              0.6666666666666666,
              "#ed7953"
             ],
             [
              0.7777777777777778,
              "#fb9f3a"
             ],
             [
              0.8888888888888888,
              "#fdca26"
             ],
             [
              1,
              "#f0f921"
             ]
            ],
            "type": "heatmap"
           }
          ],
          "histogram": [
           {
            "marker": {
             "pattern": {
              "fillmode": "overlay",
              "size": 10,
              "solidity": 0.2
             }
            },
            "type": "histogram"
           }
          ],
          "histogram2d": [
           {
            "colorbar": {
             "outlinewidth": 0,
             "ticks": ""
            },
            "colorscale": [
             [
              0,
              "#0d0887"
             ],
             [
              0.1111111111111111,
              "#46039f"
             ],
             [
              0.2222222222222222,
              "#7201a8"
             ],
             [
              0.3333333333333333,
              "#9c179e"
             ],
             [
              0.4444444444444444,
              "#bd3786"
             ],
             [
              0.5555555555555556,
              "#d8576b"
             ],
             [
              0.6666666666666666,
              "#ed7953"
             ],
             [
              0.7777777777777778,
              "#fb9f3a"
             ],
             [
              0.8888888888888888,
              "#fdca26"
             ],
             [
              1,
              "#f0f921"
             ]
            ],
            "type": "histogram2d"
           }
          ],
          "histogram2dcontour": [
           {
            "colorbar": {
             "outlinewidth": 0,
             "ticks": ""
            },
            "colorscale": [
             [
              0,
              "#0d0887"
             ],
             [
              0.1111111111111111,
              "#46039f"
             ],
             [
              0.2222222222222222,
              "#7201a8"
             ],
             [
              0.3333333333333333,
              "#9c179e"
             ],
             [
              0.4444444444444444,
              "#bd3786"
             ],
             [
              0.5555555555555556,
              "#d8576b"
             ],
             [
              0.6666666666666666,
              "#ed7953"
             ],
             [
              0.7777777777777778,
              "#fb9f3a"
             ],
             [
              0.8888888888888888,
              "#fdca26"
             ],
             [
              1,
              "#f0f921"
             ]
            ],
            "type": "histogram2dcontour"
           }
          ],
          "mesh3d": [
           {
            "colorbar": {
             "outlinewidth": 0,
             "ticks": ""
            },
            "type": "mesh3d"
           }
          ],
          "parcoords": [
           {
            "line": {
             "colorbar": {
              "outlinewidth": 0,
              "ticks": ""
             }
            },
            "type": "parcoords"
           }
          ],
          "pie": [
           {
            "automargin": true,
            "type": "pie"
           }
          ],
          "scatter": [
           {
            "marker": {
             "line": {
              "color": "#283442"
             }
            },
            "type": "scatter"
           }
          ],
          "scatter3d": [
           {
            "line": {
             "colorbar": {
              "outlinewidth": 0,
              "ticks": ""
             }
            },
            "marker": {
             "colorbar": {
              "outlinewidth": 0,
              "ticks": ""
             }
            },
            "type": "scatter3d"
           }
          ],
          "scattercarpet": [
           {
            "marker": {
             "colorbar": {
              "outlinewidth": 0,
              "ticks": ""
             }
            },
            "type": "scattercarpet"
           }
          ],
          "scattergeo": [
           {
            "marker": {
             "colorbar": {
              "outlinewidth": 0,
              "ticks": ""
             }
            },
            "type": "scattergeo"
           }
          ],
          "scattergl": [
           {
            "marker": {
             "line": {
              "color": "#283442"
             }
            },
            "type": "scattergl"
           }
          ],
          "scattermap": [
           {
            "marker": {
             "colorbar": {
              "outlinewidth": 0,
              "ticks": ""
             }
            },
            "type": "scattermap"
           }
          ],
          "scattermapbox": [
           {
            "marker": {
             "colorbar": {
              "outlinewidth": 0,
              "ticks": ""
             }
            },
            "type": "scattermapbox"
           }
          ],
          "scatterpolar": [
           {
            "marker": {
             "colorbar": {
              "outlinewidth": 0,
              "ticks": ""
             }
            },
            "type": "scatterpolar"
           }
          ],
          "scatterpolargl": [
           {
            "marker": {
             "colorbar": {
              "outlinewidth": 0,
              "ticks": ""
             }
            },
            "type": "scatterpolargl"
           }
          ],
          "scatterternary": [
           {
            "marker": {
             "colorbar": {
              "outlinewidth": 0,
              "ticks": ""
             }
            },
            "type": "scatterternary"
           }
          ],
          "surface": [
           {
            "colorbar": {
             "outlinewidth": 0,
             "ticks": ""
            },
            "colorscale": [
             [
              0,
              "#0d0887"
             ],
             [
              0.1111111111111111,
              "#46039f"
             ],
             [
              0.2222222222222222,
              "#7201a8"
             ],
             [
              0.3333333333333333,
              "#9c179e"
             ],
             [
              0.4444444444444444,
              "#bd3786"
             ],
             [
              0.5555555555555556,
              "#d8576b"
             ],
             [
              0.6666666666666666,
              "#ed7953"
             ],
             [
              0.7777777777777778,
              "#fb9f3a"
             ],
             [
              0.8888888888888888,
              "#fdca26"
             ],
             [
              1,
              "#f0f921"
             ]
            ],
            "type": "surface"
           }
          ],
          "table": [
           {
            "cells": {
             "fill": {
              "color": "#506784"
             },
             "line": {
              "color": "rgb(17,17,17)"
             }
            },
            "header": {
             "fill": {
              "color": "#2a3f5f"
             },
             "line": {
              "color": "rgb(17,17,17)"
             }
            },
            "type": "table"
           }
          ]
         },
         "layout": {
          "annotationdefaults": {
           "arrowcolor": "#f2f5fa",
           "arrowhead": 0,
           "arrowwidth": 1
          },
          "autotypenumbers": "strict",
          "coloraxis": {
           "colorbar": {
            "outlinewidth": 0,
            "ticks": ""
           }
          },
          "colorscale": {
           "diverging": [
            [
             0,
             "#8e0152"
            ],
            [
             0.1,
             "#c51b7d"
            ],
            [
             0.2,
             "#de77ae"
            ],
            [
             0.3,
             "#f1b6da"
            ],
            [
             0.4,
             "#fde0ef"
            ],
            [
             0.5,
             "#f7f7f7"
            ],
            [
             0.6,
             "#e6f5d0"
            ],
            [
             0.7,
             "#b8e186"
            ],
            [
             0.8,
             "#7fbc41"
            ],
            [
             0.9,
             "#4d9221"
            ],
            [
             1,
             "#276419"
            ]
           ],
           "sequential": [
            [
             0,
             "#0d0887"
            ],
            [
             0.1111111111111111,
             "#46039f"
            ],
            [
             0.2222222222222222,
             "#7201a8"
            ],
            [
             0.3333333333333333,
             "#9c179e"
            ],
            [
             0.4444444444444444,
             "#bd3786"
            ],
            [
             0.5555555555555556,
             "#d8576b"
            ],
            [
             0.6666666666666666,
             "#ed7953"
            ],
            [
             0.7777777777777778,
             "#fb9f3a"
            ],
            [
             0.8888888888888888,
             "#fdca26"
            ],
            [
             1,
             "#f0f921"
            ]
           ],
           "sequentialminus": [
            [
             0,
             "#0d0887"
            ],
            [
             0.1111111111111111,
             "#46039f"
            ],
            [
             0.2222222222222222,
             "#7201a8"
            ],
            [
             0.3333333333333333,
             "#9c179e"
            ],
            [
             0.4444444444444444,
             "#bd3786"
            ],
            [
             0.5555555555555556,
             "#d8576b"
            ],
            [
             0.6666666666666666,
             "#ed7953"
            ],
            [
             0.7777777777777778,
             "#fb9f3a"
            ],
            [
             0.8888888888888888,
             "#fdca26"
            ],
            [
             1,
             "#f0f921"
            ]
           ]
          },
          "colorway": [
           "#636efa",
           "#EF553B",
           "#00cc96",
           "#ab63fa",
           "#FFA15A",
           "#19d3f3",
           "#FF6692",
           "#B6E880",
           "#FF97FF",
           "#FECB52"
          ],
          "font": {
           "color": "#f2f5fa"
          },
          "geo": {
           "bgcolor": "rgb(17,17,17)",
           "lakecolor": "rgb(17,17,17)",
           "landcolor": "rgb(17,17,17)",
           "showlakes": true,
           "showland": true,
           "subunitcolor": "#506784"
          },
          "hoverlabel": {
           "align": "left"
          },
          "hovermode": "closest",
          "mapbox": {
           "style": "dark"
          },
          "paper_bgcolor": "rgb(17,17,17)",
          "plot_bgcolor": "rgb(17,17,17)",
          "polar": {
           "angularaxis": {
            "gridcolor": "#506784",
            "linecolor": "#506784",
            "ticks": ""
           },
           "bgcolor": "rgb(17,17,17)",
           "radialaxis": {
            "gridcolor": "#506784",
            "linecolor": "#506784",
            "ticks": ""
           }
          },
          "scene": {
           "xaxis": {
            "backgroundcolor": "rgb(17,17,17)",
            "gridcolor": "#506784",
            "gridwidth": 2,
            "linecolor": "#506784",
            "showbackground": true,
            "ticks": "",
            "zerolinecolor": "#C8D4E3"
           },
           "yaxis": {
            "backgroundcolor": "rgb(17,17,17)",
            "gridcolor": "#506784",
            "gridwidth": 2,
            "linecolor": "#506784",
            "showbackground": true,
            "ticks": "",
            "zerolinecolor": "#C8D4E3"
           },
           "zaxis": {
            "backgroundcolor": "rgb(17,17,17)",
            "gridcolor": "#506784",
            "gridwidth": 2,
            "linecolor": "#506784",
            "showbackground": true,
            "ticks": "",
            "zerolinecolor": "#C8D4E3"
           }
          },
          "shapedefaults": {
           "line": {
            "color": "#f2f5fa"
           }
          },
          "sliderdefaults": {
           "bgcolor": "#C8D4E3",
           "bordercolor": "rgb(17,17,17)",
           "borderwidth": 1,
           "tickwidth": 0
          },
          "ternary": {
           "aaxis": {
            "gridcolor": "#506784",
            "linecolor": "#506784",
            "ticks": ""
           },
           "baxis": {
            "gridcolor": "#506784",
            "linecolor": "#506784",
            "ticks": ""
           },
           "bgcolor": "rgb(17,17,17)",
           "caxis": {
            "gridcolor": "#506784",
            "linecolor": "#506784",
            "ticks": ""
           }
          },
          "title": {
           "x": 0.05
          },
          "updatemenudefaults": {
           "bgcolor": "#506784",
           "borderwidth": 0
          },
          "xaxis": {
           "automargin": true,
           "gridcolor": "#283442",
           "linecolor": "#506784",
           "ticks": "",
           "title": {
            "standoff": 15
           },
           "zerolinecolor": "#283442",
           "zerolinewidth": 2
          },
          "yaxis": {
           "automargin": true,
           "gridcolor": "#283442",
           "linecolor": "#506784",
           "ticks": "",
           "title": {
            "standoff": 15
           },
           "zerolinecolor": "#283442",
           "zerolinewidth": 2
          }
         }
        },
        "title": {
         "text": "Top 20 Batsmen in Death Overs (16-20)"
        },
        "xaxis": {
         "anchor": "y",
         "domain": [
          0,
          1
         ],
         "tickangle": -45,
         "title": {
          "text": "Batsman"
         }
        },
        "yaxis": {
         "anchor": "x",
         "domain": [
          0,
          1
         ],
         "title": {
          "text": "Runs Scored (16-20 overs)"
         }
        }
       }
      }
     },
     "metadata": {},
     "output_type": "display_data"
    }
   ],
   "source": [
    "import plotly.express as px\n",
    "\n",
    "# -------------------------\n",
    "# Death Overs (16-20) Data\n",
    "# -------------------------\n",
    "death = df[df['over'].between(16,20)]\n",
    "death_bat = (\n",
    "    death.groupby('batter')\n",
    "         .agg(runs=('batsman_runs','sum'), balls=('ball','count'))\n",
    "         .reset_index()\n",
    ")\n",
    "# Filter batters who faced at least 20 balls\n",
    "death_bat = death_bat[death_bat['balls']>=20].sort_values('runs', ascending=False).head(20)\n",
    "\n",
    "# -------------------------\n",
    "# Interactive Bar Chart\n",
    "# -------------------------\n",
    "fig = px.bar(\n",
    "    death_bat,\n",
    "    x='batter',\n",
    "    y='runs',\n",
    "    text='runs',\n",
    "    color='runs',\n",
    "    color_continuous_scale='Viridis',\n",
    "    title='Top 20 Batsmen in Death Overs (16-20)',\n",
    "    labels={'runs':'Runs', 'batter':'Batsman'}\n",
    ")\n",
    "\n",
    "# Style layout\n",
    "fig.update_traces(textposition='outside')\n",
    "fig.update_layout(\n",
    "    template='plotly_dark',\n",
    "    xaxis_tickangle=-45,\n",
    "    yaxis_title='Runs Scored (16-20 overs)',\n",
    "    height=500,\n",
    "    showlegend=False\n",
    ")\n",
    "\n",
    "fig.show()\n"
   ]
  },
  {
   "cell_type": "markdown",
   "id": "4d228f85",
   "metadata": {},
   "source": [
    "**Analysis:** These players are candidates for finishing roles; teams should protect them and give them clear hitting roles.\n"
   ]
  },
  {
   "cell_type": "markdown",
   "id": "cf2ae78d",
   "metadata": {},
   "source": [
    "## 10) Bowler Economy in Death Overs (16–20)\n",
    "\n",
    "**Goal:** Show economy rate distribution for bowlers in overs 16–20 (boxplot).\n"
   ]
  },
  {
   "cell_type": "code",
   "execution_count": 23,
   "id": "58e59680",
   "metadata": {},
   "outputs": [
    {
     "data": {
      "application/vnd.jupyter.widget-view+json": {
       "model_id": "73c52aee1ed740c395fa34899184f40e",
       "version_major": 2,
       "version_minor": 0
      },
      "text/plain": [
       "interactive(children=(Dropdown(description='Bowler', options=('A Ashish Reddy', 'A Choudhary', 'A Kumble', 'A …"
      ]
     },
     "metadata": {},
     "output_type": "display_data"
    },
    {
     "data": {
      "text/plain": [
       "<function __main__.death_economy(bowler_name)>"
      ]
     },
     "execution_count": 23,
     "metadata": {},
     "output_type": "execute_result"
    }
   ],
   "source": [
    "import plotly.graph_objects as go\n",
    "import plotly.express as px\n",
    "from ipywidgets import interact, Dropdown\n",
    "import pandas as pd\n",
    "\n",
    "# -------------------------\n",
    "# Death Overs (16-20) Economy\n",
    "# -------------------------\n",
    "death_balls = df[df['over'].between(16,20)].copy()\n",
    "death_stats = death_balls.groupby('bowler').agg(\n",
    "    runs=('total_runs','sum'),\n",
    "    balls=('ball','count')\n",
    ").reset_index()\n",
    "death_stats = death_stats[death_stats['balls'] >= 20]\n",
    "death_stats['economy'] = death_stats['runs'] / (death_stats['balls'] / 6)\n",
    "\n",
    "# -------------------------\n",
    "# Function to plot selected bowler\n",
    "# -------------------------\n",
    "def death_economy(bowler_name):\n",
    "    fig = go.Figure()\n",
    "\n",
    "    # Box plot: Distribution of economy\n",
    "    fig.add_trace(go.Box(\n",
    "        y=death_stats['economy'],\n",
    "        name='Economy Distribution',\n",
    "        boxpoints='suspectedoutliers',\n",
    "        marker_color='crimson',\n",
    "        line=dict(width=2)\n",
    "    ))\n",
    "\n",
    "    # Scatter: All bowlers\n",
    "    fig.add_trace(go.Scatter(\n",
    "        y=death_stats['economy'],\n",
    "        x=[0]*len(death_stats),\n",
    "        mode='markers',\n",
    "        marker=dict(color='yellow', size=8, opacity=0.8),\n",
    "        name='Bowlers',\n",
    "        hovertext=death_stats['bowler']\n",
    "    ))\n",
    "\n",
    "    # Highlight selected bowler\n",
    "    selected = death_stats[death_stats['bowler']==bowler_name]\n",
    "    fig.add_trace(go.Scatter(\n",
    "        y=selected['economy'],\n",
    "        x=[0]*len(selected),\n",
    "        mode='markers+text',\n",
    "        marker=dict(color='lime', size=12, symbol='diamond'),\n",
    "        text=selected['bowler'],\n",
    "        textposition='top center',\n",
    "        name='Selected Bowler'\n",
    "    ))\n",
    "\n",
    "    fig.update_layout(\n",
    "        title=f'Death Overs Economy — Highlighting {bowler_name}',\n",
    "        yaxis_title='Economy Rate',\n",
    "        xaxis=dict(showticklabels=False),\n",
    "        template='plotly_dark',\n",
    "        height=500\n",
    "    )\n",
    "    fig.show()\n",
    "\n",
    "    # Show stats of selected bowler\n",
    "    display(selected[['bowler','economy','balls','runs']])\n",
    "\n",
    "# -------------------------\n",
    "# Dropdown to select bowler\n",
    "# -------------------------\n",
    "interact(death_economy, bowler_name=Dropdown(options=death_stats['bowler'].sort_values(), description=\"Bowler\"))\n"
   ]
  },
  {
   "cell_type": "markdown",
   "id": "a0b1f13f",
   "metadata": {},
   "source": [
    "**Analysis:** Bowlers with lower economy in death overs are highly valuable for closing matches.\n"
   ]
  },
  {
   "cell_type": "markdown",
   "id": "c092b31d",
   "metadata": {},
   "source": [
    "## 10) 📊 Batsman vs Bowler Rivalry Dashboard\n",
    "\n",
    " **Goal:**This interactive dashboard visualizes the head-to-head performance of a selected batsman against a selected bowler."
   ]
  },
  {
   "cell_type": "code",
   "execution_count": 24,
   "id": "9c8bb756",
   "metadata": {},
   "outputs": [
    {
     "data": {
      "application/vnd.jupyter.widget-view+json": {
       "model_id": "ef5ed12cee90424bbc57ef4fc1eaae17",
       "version_major": 2,
       "version_minor": 0
      },
      "text/plain": [
       "interactive(children=(Dropdown(description='Batsman', options=('A Ashish Reddy', 'A Badoni', 'A Chandila', 'A …"
      ]
     },
     "metadata": {},
     "output_type": "display_data"
    },
    {
     "data": {
      "text/plain": [
       "<function __main__.plot_batsman_bowler_rivalry(batsman_name, bowler_name)>"
      ]
     },
     "execution_count": 24,
     "metadata": {},
     "output_type": "execute_result"
    }
   ],
   "source": [
    "import pandas as pd\n",
    "import plotly.express as px\n",
    "from ipywidgets import interact, Dropdown\n",
    "\n",
    "# Load dataset\n",
    "df = pd.read_csv(r\"c:\\\\Users\\\\Vishal\\\\OneDrive\\\\Desktop\\\\mini project\\\\deliveries (1).csv\")\n",
    "\n",
    "# ---- AUTO DETECT COLUMN NAMES ----\n",
    "cols = df.columns.tolist()\n",
    "\n",
    "# Detect batsman/batter column\n",
    "batsman_col = None\n",
    "for candidate in [\"batter\", \"batsman\", \"striker\"]:\n",
    "    if candidate in cols:\n",
    "        batsman_col = candidate\n",
    "        break\n",
    "\n",
    "if batsman_col is None:\n",
    "    raise ValueError(\"❌ No batsman/batter column found! Check CSV file.\")\n",
    "\n",
    "# Rename for consistency\n",
    "if batsman_col != \"batter\":\n",
    "    df.rename(columns={batsman_col: \"batter\"}, inplace=True)\n",
    "\n",
    "# ✅ Ensure required columns exist\n",
    "required_cols = [\"bowler\", \"match_id\", \"ball\", \"batsman_runs\", \"is_wicket\", \"dismissal_kind\"]\n",
    "for col in required_cols:\n",
    "    if col not in df.columns:\n",
    "        raise ValueError(f\"❌ Required column '{col}' not found in dataset.\")\n",
    "\n",
    "# Unique batsmen and bowlers list\n",
    "batsmen = sorted(df['batter'].dropna().unique().tolist())\n",
    "bowlers = sorted(df['bowler'].dropna().unique().tolist())\n",
    "\n",
    "def plot_batsman_bowler_rivalry(batsman_name, bowler_name):\n",
    "    rivalry_df = df[(df['batter'] == batsman_name) & (df['bowler'] == bowler_name)]\n",
    "    if rivalry_df.empty:\n",
    "        print(f\"❌ No data for {batsman_name} vs {bowler_name}\")\n",
    "        return\n",
    "\n",
    "    # ---- SAFELY AGGREGATE ----\n",
    "    summary = rivalry_df.groupby('match_id').agg(\n",
    "        balls_faced=('ball', 'count'),\n",
    "        runs_scored=('batsman_runs', 'sum'),\n",
    "        wickets=('is_wicket', 'sum'),\n",
    "        dismissal_kind=('dismissal_kind', lambda x: ', '.join(x.dropna().unique()))\n",
    "    ).reset_index()\n",
    "\n",
    "    # ---- SCATTER PLOT ----\n",
    "    fig = px.scatter(\n",
    "        summary,\n",
    "        x=\"balls_faced\",\n",
    "        y=\"runs_scored\",\n",
    "        size=\"wickets\",\n",
    "        color=\"runs_scored\",\n",
    "        hover_data=[\"match_id\", \"dismissal_kind\"],\n",
    "        title=f\"Rivalry: {batsman_name} vs {bowler_name}\",\n",
    "        labels={\"balls_faced\": \"Balls Faced\", \"runs_scored\": \"Runs Scored\"}\n",
    "    )\n",
    "\n",
    "    fig.update_traces(marker=dict(line=dict(width=1, color='DarkSlateGrey')))\n",
    "    fig.update_layout(\n",
    "        xaxis_title=\"Balls Faced\",\n",
    "        yaxis_title=\"Runs Scored\",\n",
    "        template=\"plotly_dark\",\n",
    "        title_x=0.5\n",
    "    )\n",
    "\n",
    "    fig.show()\n",
    "\n",
    "# Interactive dropdowns\n",
    "interact(\n",
    "    plot_batsman_bowler_rivalry,\n",
    "    batsman_name=Dropdown(options=batsmen, description=\"Batsman\"),\n",
    "    bowler_name=Dropdown(options=bowlers, description=\"Bowler\")\n",
    ")\n",
    "\n",
    "\n"
   ]
  },
  {
   "cell_type": "markdown",
   "id": "fe1324f2",
   "metadata": {},
   "source": [
    "Analysis:  It shows the balls faced, runs scored, and wickets taken in each match between the pair, along with a scatter plot to represent the rivalry visually."
   ]
  },
  {
   "cell_type": "markdown",
   "id": "da971632",
   "metadata": {},
   "source": [
    "Analysis: \n",
    "Head-to-head metrics help identify strengths and weaknesses of a batsman against a specific bowler.\n",
    "\n",
    "Dismissal types show whether the bowler is getting the batsman out through pace, spin, LBW, catches, etc.\n",
    "\n",
    "Runs over seasons indicate consistency or improvement in performance."
   ]
  },
  {
   "cell_type": "markdown",
   "id": "a2fed0aa",
   "metadata": {},
   "source": [
    "## 11) Batsman Run Type Distribution\n",
    "**Goal:**\n",
    "\n",
    "This dashboard displays the distribution of run types for a selected batsman:\n",
    "\n",
    "Dot balls\n",
    "\n",
    "Singles, Doubles, Triples\n",
    "\n",
    "Boundaries (Fours and Sixes)\n",
    "\n",
    "This helps analyze a batsman’s scoring pattern and shot selection"
   ]
  },
  {
   "cell_type": "code",
   "execution_count": 25,
   "id": "f97ae8f2",
   "metadata": {},
   "outputs": [
    {
     "data": {
      "application/vnd.jupyter.widget-view+json": {
       "model_id": "ae95bc6fb9154521b798a8ada03a6d6b",
       "version_major": 2,
       "version_minor": 0
      },
      "text/plain": [
       "interactive(children=(Dropdown(description='Batsman', options=('A Ashish Reddy', 'A Badoni', 'A Chandila', 'A …"
      ]
     },
     "metadata": {},
     "output_type": "display_data"
    },
    {
     "data": {
      "text/plain": [
       "<function __main__.plot_batsman_run_analysis(batsman_name)>"
      ]
     },
     "execution_count": 25,
     "metadata": {},
     "output_type": "execute_result"
    }
   ],
   "source": [
    "import pandas as pd\n",
    "import plotly.express as px\n",
    "from ipywidgets import interact, Dropdown\n",
    "\n",
    "# Load dataset\n",
    "df = pd.read_csv(r\"c:\\Users\\Vishal\\OneDrive\\Desktop\\mini project\\deliveries (1).csv\")\n",
    "\n",
    "# Create run type category including Dot balls\n",
    "df['run_type'] = df['batsman_runs'].apply(\n",
    "    lambda x: 'Dot' if x == 0 else\n",
    "              'Single' if x == 1 else\n",
    "              'Double' if x == 2 else\n",
    "              'Triple' if x == 3 else\n",
    "              'Four' if x == 4 else\n",
    "              'Six' if x == 6 else 'Other'\n",
    ")\n",
    "\n",
    "# Unique batsmen list\n",
    "batsmen = sorted(df['batter'].dropna().unique().tolist())\n",
    "\n",
    "def plot_batsman_run_analysis(batsman_name):\n",
    "    df_batsman = df[df['batter'] == batsman_name]\n",
    "    \n",
    "    if df_batsman.empty:\n",
    "        print(f\"❌ No data for {batsman_name}\")\n",
    "        return\n",
    "    \n",
    "    # Aggregate by run type\n",
    "    run_stats = df_batsman.groupby('run_type').agg(\n",
    "        balls=('batsman_runs', 'count'),\n",
    "        total_runs=('batsman_runs', 'sum')\n",
    "    ).reset_index()\n",
    "    \n",
    "    # Ensure all categories exist\n",
    "    run_stats = run_stats.set_index('run_type').reindex(['Dot','Single','Double','Triple','Four','Six','Other'], fill_value=0).reset_index()\n",
    "    \n",
    "    # Calculate percentage contribution\n",
    "    total_balls = run_stats['balls'].sum()\n",
    "    total_runs = run_stats['total_runs'].sum()\n",
    "    run_stats['percentage'] = run_stats['balls'] / total_balls * 100 if total_balls>0 else 0\n",
    "    \n",
    "    # Strike rate\n",
    "    strike_rate = (total_runs / total_balls * 100) if total_balls>0 else 0\n",
    "    \n",
    "    # Interactive bar chart\n",
    "    fig = px.bar(\n",
    "        run_stats,\n",
    "        x='run_type',\n",
    "        y='balls',\n",
    "        text=run_stats['percentage'].apply(lambda x: f\"{x:.1f}%\"),\n",
    "        color='balls',\n",
    "        color_continuous_scale='Plasma',\n",
    "        hover_data={'total_runs': True, 'percentage': ':.2f'},\n",
    "        title=f\"{batsman_name} — Run Type Distribution & Strike Rate: {strike_rate:.2f}\",\n",
    "        labels={'run_type': 'Run Type', 'balls': 'Balls Faced'}\n",
    "    )\n",
    "\n",
    "    fig.update_traces(textposition='outside')\n",
    "    fig.update_layout(\n",
    "        template='plotly_dark',\n",
    "        xaxis=dict(categoryorder='array', categoryarray=['Dot','Single','Double','Triple','Four','Six','Other']),\n",
    "        yaxis_title='Balls Faced',\n",
    "        height=500\n",
    "    )\n",
    "\n",
    "    fig.show()\n",
    "\n",
    "# Interactive dropdown\n",
    "interact(plot_batsman_run_analysis, batsman_name=Dropdown(options=batsmen, description=\"Batsman\"))\n",
    "\n"
   ]
  },
  {
   "cell_type": "markdown",
   "id": "4a792067",
   "metadata": {},
   "source": [
    "Analysis\n",
    "\n",
    "Dot ball percentage indicates a batsman’s ability to rotate strike or maintain pressure.\n",
    "\n",
    "Singles and doubles show running ability and strike rotation skills.\n",
    "\n",
    "Boundaries reflect aggressive play style and power hitting capability.\n",
    "\n",
    "This helps in player profiling and understanding scoring tendencies."
   ]
  },
  {
   "cell_type": "markdown",
   "id": "ee0c6dc4",
   "metadata": {},
   "source": [
    "## 12) Bowler Performance Analysis\n",
    "Goal\n",
    "\n",
    "To analyze a bowler’s performance in detail, including:\n",
    "\n",
    "Run type distribution\n",
    "\n",
    "Dismissal patterns\n",
    "\n",
    "Key statistics such as dot balls, maiden overs, hat-tricks, wide balls, and no balls\n",
    "\n",
    "This allows coaches, analysts, and fans to evaluate how effective a bowler is in different match situations."
   ]
  },
  {
   "cell_type": "code",
   "execution_count": 26,
   "id": "94de8aa5",
   "metadata": {},
   "outputs": [
    {
     "data": {
      "application/vnd.jupyter.widget-view+json": {
       "model_id": "ee894fd508814daa966f89e89eedc2f8",
       "version_major": 2,
       "version_minor": 0
      },
      "text/plain": [
       "interactive(children=(Dropdown(description='Player', options=('A Ashish Reddy', 'A Badoni', 'A Chandila', 'A C…"
      ]
     },
     "metadata": {},
     "output_type": "display_data"
    },
    {
     "data": {
      "text/plain": [
       "<function __main__.plot_player_analysis(player_name)>"
      ]
     },
     "execution_count": 26,
     "metadata": {},
     "output_type": "execute_result"
    }
   ],
   "source": [
    "import pandas as pd\n",
    "import plotly.graph_objects as go\n",
    "from plotly.subplots import make_subplots\n",
    "from ipywidgets import interact, Dropdown\n",
    "\n",
    "# Load dataset\n",
    "# df = pd.read_csv(r\"c:\\\\Users\\\\Vishal\\\\OneDrive\\\\Desktop\\\\mini project\\\\main project\\\\deliveries (1).csv\")\n",
    "\n",
    "# ---- AUTO DETECT COLUMN NAMES ----\n",
    "cols = df.columns.tolist()\n",
    "batsman_col = None\n",
    "\n",
    "# Detect batsman column automatically\n",
    "for candidate in [\"batsman\", \"striker\", \"batter\"]:\n",
    "    if candidate in cols:\n",
    "        batsman_col = candidate\n",
    "        break\n",
    "\n",
    "if batsman_col is None:\n",
    "    raise ValueError(\"❌ Could not find batsman column! Please check your CSV file columns.\")\n",
    "\n",
    "# Rename for consistency\n",
    "if batsman_col != \"batsman\":\n",
    "    df.rename(columns={batsman_col: \"batsman\"}, inplace=True)\n",
    "\n",
    "# ✅ Now we have a clean dataframe with \"batsman\" column\n",
    "# Create run type category\n",
    "df['run_type'] = df['batsman_runs'].apply(\n",
    "    lambda x: 'Dot' if x == 0 else\n",
    "              'Single' if x == 1 else\n",
    "              'Double' if x == 2 else\n",
    "              'Triple' if x == 3 else\n",
    "              'Four' if x == 4 else\n",
    "              'Six' if x == 6 else 'Other'\n",
    ")\n",
    "\n",
    "# Combine all players (batsman + bowler)\n",
    "all_players = sorted(set(df['bowler'].dropna()) | set(df['batsman'].dropna()))\n",
    "\n",
    "def plot_player_analysis(player_name):\n",
    "    df_bowler = df[df['bowler'] == player_name]\n",
    "    df_batsman = df[df['batsman'] == player_name]\n",
    "\n",
    "    is_bowler = not df_bowler.empty\n",
    "    is_batsman = not df_batsman.empty\n",
    "\n",
    "    if not is_bowler and not is_batsman:\n",
    "        print(f\"❌ No data found for {player_name}\")\n",
    "        return\n",
    "\n",
    "    # ---- BOWLER ANALYSIS ----\n",
    "    if is_bowler:\n",
    "        dot_count = (df_bowler['batsman_runs'] == 0).sum()\n",
    "\n",
    "        maiden_overs_df = df_bowler.groupby(['match_id', 'over'])['total_runs'].sum().reset_index()\n",
    "        maiden_count = (maiden_overs_df['total_runs'] == 0).sum()\n",
    "\n",
    "        # Hat-trick detection (approx: 3+ wickets in a match)\n",
    "        wickets = df_bowler[df_bowler['is_wicket'] == 1].sort_values(['match_id', 'over', 'ball'])\n",
    "        hat_trick_count = 0\n",
    "        if not wickets.empty:\n",
    "            hat_trick_count = sum(wickets.groupby('match_id').size() >= 3)\n",
    "\n",
    "        wide_count = df_bowler['wide_runs'].sum() if 'wide_runs' in df_bowler else 0\n",
    "        noball_count = df_bowler['noball_runs'].sum() if 'noball_runs' in df_bowler else 0\n",
    "\n",
    "        dismissal_counts = (\n",
    "            df_bowler[df_bowler['player_dismissed'].notnull()]\n",
    "            .groupby('dismissal_kind').size().reset_index(name='count')\n",
    "        )\n",
    "\n",
    "        run_types = ['Dot', 'Single', 'Double', 'Triple', 'Four', 'Six', 'Other']\n",
    "        run_counts = (\n",
    "            df_bowler.groupby('run_type').size()\n",
    "            .reindex(run_types, fill_value=0)\n",
    "            .reset_index(name='count')\n",
    "        )\n",
    "    else:\n",
    "        dot_count = maiden_count = hat_trick_count = wide_count = noball_count = 0\n",
    "        dismissal_counts = pd.DataFrame(columns=['dismissal_kind', 'count'])\n",
    "        run_counts = pd.DataFrame(columns=['run_type', 'count'])\n",
    "\n",
    "    # ---- BATSMAN ANALYSIS ----\n",
    "    if is_batsman:\n",
    "        batsman_runs = df_batsman['batsman_runs'].sum()\n",
    "        balls_faced = df_batsman.shape[0]\n",
    "        fours = (df_batsman['batsman_runs'] == 4).sum()\n",
    "        sixes = (df_batsman['batsman_runs'] == 6).sum()\n",
    "        times_out = (df_batsman['player_dismissed'] == player_name).sum()\n",
    "        strike_rate = (batsman_runs / balls_faced) * 100 if balls_faced > 0 else 0\n",
    "\n",
    "    # --------- PLOTLY FIGURE ---------\n",
    "    if is_bowler and not run_counts.empty:\n",
    "        fig = make_subplots(rows=2, cols=1, subplot_titles=[\n",
    "            f\"Run Type Distribution (Bowling) — {player_name}\",\n",
    "            f\"Dismissal Types (Bowling) — {player_name}\"\n",
    "        ])\n",
    "\n",
    "        fig.add_trace(\n",
    "            go.Bar(x=run_counts['run_type'], y=run_counts['count'],\n",
    "                   marker_color='mediumseagreen', name='Runs Given'), row=1, col=1)\n",
    "\n",
    "        if not dismissal_counts.empty:\n",
    "            fig.add_trace(\n",
    "                go.Bar(x=dismissal_counts['dismissal_kind'], y=dismissal_counts['count'],\n",
    "                       marker_color='salmon', name='Dismissals'), row=2, col=1)\n",
    "\n",
    "        fig.update_layout(height=700, template='plotly_dark', showlegend=False)\n",
    "        fig.update_yaxes(title_text=\"Count\", row=1, col=1)\n",
    "        fig.update_yaxes(title_text=\"Count\", row=2, col=1)\n",
    "        fig.update_xaxes(title_text=\"Run Type\", row=1, col=1)\n",
    "        fig.update_xaxes(title_text=\"Dismissal Kind\", row=2, col=1)\n",
    "\n",
    "        fig.show()\n",
    "\n",
    "    # ---- PRINT STATS ----\n",
    "    print(f\"📊 Stats for {player_name}:\")\n",
    "    if is_bowler:\n",
    "        print(f\"🎯 Bowler Stats:\")\n",
    "        print(f\"Dot Balls: {dot_count}\")\n",
    "        print(f\"Maiden Overs: {maiden_count}\")\n",
    "        print(f\"Hat-tricks (approx): {hat_trick_count}\")\n",
    "        print(f\"Wide Balls: {wide_count}\")\n",
    "        print(f\"No Balls: {noball_count}\")\n",
    "\n",
    "    if is_batsman:\n",
    "        print(f\"🏏 Batsman Stats:\")\n",
    "        print(f\"Runs: {batsman_runs}, Balls Faced: {balls_faced}\")\n",
    "        print(f\"4s: {fours}, 6s: {sixes}\")\n",
    "        print(f\"Strike Rate: {strike_rate:.2f}\")\n",
    "        print(f\"Times Out: {times_out}\")\n",
    "\n",
    "# Interactive dropdown\n",
    "interact(plot_player_analysis, player_name=Dropdown(options=all_players, description=\"Player\"))\n",
    "\n"
   ]
  },
  {
   "cell_type": "markdown",
   "id": "a61f78ae",
   "metadata": {},
   "source": [
    "## 13)🏏 IPL Player Winning Percentage by taking 3+ wicket or 30+ score run Dashboard\n",
    "Batsman Analysis\n",
    "\n",
    "Identify matches where a batsman scored at least a specified number of runs (default 30).\n",
    "\n",
    "Calculate win/loss percentage for those matches.\n",
    "\n",
    "Visualize performance using pie charts and top-match bar charts.\n",
    "\n",
    "Bowler Analysis\n",
    "\n",
    "Identify matches where a bowler took at least a specified number of wickets (default 3).\n",
    "\n",
    "Calculate win/loss percentage for those matches.\n",
    "\n",
    "Visualize performance using pie charts and top-match bar charts."
   ]
  },
  {
   "cell_type": "markdown",
   "id": "ba8baf3e",
   "metadata": {},
   "source": []
  },
  {
   "cell_type": "code",
   "execution_count": 27,
   "id": "55a36c14",
   "metadata": {},
   "outputs": [
    {
     "name": "stdout",
     "output_type": "stream",
     "text": [
      "🏏 Batsman Winning Percentage Dashboard\n"
     ]
    },
    {
     "data": {
      "application/vnd.jupyter.widget-view+json": {
       "model_id": "d104925b451f48479948df4607558f8a",
       "version_major": 2,
       "version_minor": 0
      },
      "text/plain": [
       "interactive(children=(Dropdown(description='Batsman', options=('A Ashish Reddy', 'A Badoni', 'A Chandila', 'A …"
      ]
     },
     "metadata": {},
     "output_type": "display_data"
    },
    {
     "name": "stdout",
     "output_type": "stream",
     "text": [
      "\n",
      "🎯 Bowler Winning Percentage Dashboard\n"
     ]
    },
    {
     "data": {
      "application/vnd.jupyter.widget-view+json": {
       "model_id": "2eee73f6baac41c2919f5b7be725ce40",
       "version_major": 2,
       "version_minor": 0
      },
      "text/plain": [
       "interactive(children=(Dropdown(description='Bowler', options=('A Ashish Reddy', 'A Badoni', 'A Chandila', 'A C…"
      ]
     },
     "metadata": {},
     "output_type": "display_data"
    },
    {
     "data": {
      "text/plain": [
       "<function __main__.bowler_dashboard(bowler_name, min_wickets=3)>"
      ]
     },
     "execution_count": 27,
     "metadata": {},
     "output_type": "execute_result"
    }
   ],
   "source": [
    "import pandas as pd\n",
    "import plotly.express as px\n",
    "from ipywidgets import interact, Dropdown, IntSlider\n",
    "\n",
    "# -------------------------\n",
    "# Load datasets\n",
    "# -------------------------\n",
    "df = pd.read_csv(r\"C:\\Users\\Vishal\\OneDrive\\Desktop\\mini project\\deliveries (1).csv\")\n",
    "matches = pd.read_csv(r\"C:\\Users\\Vishal\\OneDrive\\Desktop\\mini project\\matches.csv\")\n",
    "\n",
    "# Unique players\n",
    "batsmen = sorted(df['batter'].dropna().unique().tolist())\n",
    "bowlers = sorted(df['bowler'].dropna().unique().tolist())\n",
    "\n",
    "# -------------------------\n",
    "# Batsman Dashboard\n",
    "# -------------------------\n",
    "def batsman_dashboard(batsman_name, min_runs=30):\n",
    "    runs_df = df[df['batter'] == batsman_name].groupby('match_id')['batsman_runs'].sum().reset_index()\n",
    "    runs_matches = runs_df[runs_df['batsman_runs'] >= min_runs]['match_id']\n",
    "\n",
    "    wins = 0\n",
    "    total_matches = 0\n",
    "\n",
    "    for match_id in runs_matches:\n",
    "        match = matches[matches['id'] == match_id].iloc[0]\n",
    "        player_team = df[(df['match_id']==match_id) & (df['batter']==batsman_name)]['batting_team'].iloc[0]\n",
    "        if pd.notna(match['winner']):\n",
    "            total_matches += 1\n",
    "            if match['winner'] == player_team:\n",
    "                wins += 1\n",
    "\n",
    "    losses = total_matches - wins\n",
    "    win_percentage = (wins / total_matches * 100) if total_matches > 0 else 0\n",
    "\n",
    "    print(f\"\\n🏏 {batsman_name} (Min Runs: {min_runs})\")\n",
    "    print(f\"Matches Played: {total_matches}\")\n",
    "    print(f\"Wins: {wins}, Losses: {losses}\")\n",
    "    print(f\"Winning %: {win_percentage:.2f}%, Losing %: {100 - win_percentage:.2f}%\")\n",
    "\n",
    "    # Pie chart\n",
    "    pie = px.pie(\n",
    "        names=[\"Wins\", \"Losses\"],\n",
    "        values=[wins, losses],\n",
    "        title=f\"{batsman_name} — Win/Loss Percentage\",\n",
    "        color_discrete_sequence=[\"green\", \"red\"]\n",
    "    )\n",
    "    pie.show()\n",
    "\n",
    "    # Top 10 matches bar chart\n",
    "    top_matches = runs_df.sort_values('batsman_runs', ascending=False).head(10)\n",
    "    top_matches = top_matches.merge(matches[['id', 'date', 'team1', 'team2']], \n",
    "                                    left_on='match_id', right_on='id', how='left')\n",
    "    top_matches['match_label'] = top_matches['team1'] + \" vs \" + top_matches['team2'] + \" (\" + top_matches['date'].astype(str) + \")\"\n",
    "\n",
    "    bar = px.bar(\n",
    "        top_matches,\n",
    "        x='match_label',\n",
    "        y='batsman_runs',\n",
    "        text='batsman_runs',\n",
    "        title=f\"Top 10 Matches by {batsman_name} Runs\",\n",
    "        color='batsman_runs',\n",
    "        color_continuous_scale='Viridis'\n",
    "    )\n",
    "    bar.update_traces(textposition='outside')\n",
    "    bar.update_layout(xaxis_tickangle=-45, xaxis_title=\"Match\", yaxis_title=\"Runs\")\n",
    "    bar.show()\n",
    "\n",
    "# -------------------------\n",
    "# Bowler Dashboard\n",
    "# -------------------------\n",
    "def bowler_dashboard(bowler_name, min_wickets=3):\n",
    "    wickets_df = df[df['bowler'] == bowler_name].groupby('match_id')['is_wicket'].sum().reset_index()\n",
    "    wickets_matches = wickets_df[wickets_df['is_wicket'] >= min_wickets]['match_id']\n",
    "\n",
    "    wins = 0\n",
    "    total_matches = 0\n",
    "\n",
    "    for match_id in wickets_matches:\n",
    "        match = matches[matches['id'] == match_id].iloc[0]\n",
    "        player_team = df[(df['match_id']==match_id) & (df['bowler']==bowler_name)]['bowling_team'].iloc[0]\n",
    "        if pd.notna(match['winner']):\n",
    "            total_matches += 1\n",
    "            if match['winner'] == player_team:\n",
    "                wins += 1\n",
    "\n",
    "    losses = total_matches - wins\n",
    "    win_percentage = (wins / total_matches * 100) if total_matches > 0 else 0\n",
    "\n",
    "    print(f\"\\n🎯 {bowler_name} (Min Wickets: {min_wickets})\")\n",
    "    print(f\"Matches Played: {total_matches}\")\n",
    "    print(f\"Wins: {wins}, Losses: {losses}\")\n",
    "    print(f\"Winning %: {win_percentage:.2f}%, Losing %: {100 - win_percentage:.2f}%\")\n",
    "\n",
    "    # Pie chart\n",
    "    pie = px.pie(\n",
    "        names=[\"Wins\", \"Losses\"],\n",
    "        values=[wins, losses],\n",
    "        title=f\"{bowler_name} — Win/Loss Percentage\",\n",
    "        color_discrete_sequence=[\"green\", \"red\"]\n",
    "    )\n",
    "    pie.show()\n",
    "\n",
    "    # Top 10 matches bar chart\n",
    "    top_matches = wickets_df.sort_values('is_wicket', ascending=False).head(10)\n",
    "    top_matches = top_matches.merge(matches[['id', 'date', 'team1', 'team2']], \n",
    "                                    left_on='match_id', right_on='id', how='left')\n",
    "    top_matches['match_label'] = top_matches['team1'] + \" vs \" + top_matches['team2'] + \" (\" + top_matches['date'].astype(str) + \")\"\n",
    "\n",
    "    bar = px.bar(\n",
    "        top_matches,\n",
    "        x='match_label',\n",
    "        y='is_wicket',\n",
    "        text='is_wicket',\n",
    "        title=f\"Top 10 Matches by {bowler_name} Wickets\",\n",
    "        color='is_wicket',\n",
    "        color_continuous_scale='Cividis'\n",
    "    )\n",
    "    bar.update_traces(textposition='outside')\n",
    "    bar.update_layout(xaxis_tickangle=-45, xaxis_title=\"Match\", yaxis_title=\"Wickets\")\n",
    "    bar.show()\n",
    "\n",
    "# -------------------------\n",
    "# Interactive Widgets\n",
    "# -------------------------\n",
    "print(\"🏏 Batsman Winning Percentage Dashboard\")\n",
    "interact(\n",
    "    batsman_dashboard,\n",
    "    batsman_name=Dropdown(options=batsmen, description=\"Batsman\"),\n",
    "    min_runs=IntSlider(value=30, min=0, max=150, step=5, description=\"Min Runs\")\n",
    ")\n",
    "\n",
    "print(\"\\n🎯 Bowler Winning Percentage Dashboard\")\n",
    "interact(\n",
    "    bowler_dashboard,\n",
    "    bowler_name=Dropdown(options=bowlers, description=\"Bowler\"),\n",
    "    min_wickets=IntSlider(value=3, min=0, max=10, step=1, description=\"Min Wickets\")\n",
    ")\n"
   ]
  },
  {
   "cell_type": "markdown",
   "id": "796c1280",
   "metadata": {},
   "source": [
    "Analysis\n",
    "\n",
    "Run type distribution gives insight into a bowler’s economy and consistency.\n",
    "\n",
    "Dismissal patterns reveal strengths in wicket-taking strategies.\n",
    "\n",
    "Dot balls & maiden overs show the bowler’s ability to build pressure.\n",
    "\n",
    "Hat-tricks indicate match-changing potential.\n",
    "\n",
    "Wide and no balls track discipline and control under pressure."
   ]
  },
  {
   "cell_type": "markdown",
   "id": "cdb77c4a",
   "metadata": {},
   "source": [
    "## 14) Score conversion 30+ to 50\n",
    "Goal\n",
    "\n",
    "To measure the impact of key performances (batsmen scoring 30+ runs, to convert 50) on match outcomes.\n",
    "\n",
    "This helps understand how often a player’s high performance leads to team victory."
   ]
  },
  {
   "cell_type": "code",
   "execution_count": 28,
   "id": "4ee31588",
   "metadata": {},
   "outputs": [
    {
     "data": {
      "application/vnd.jupyter.widget-view+json": {
       "model_id": "8b232adcbead46c99fea3f3d251b8876",
       "version_major": 2,
       "version_minor": 0
      },
      "text/plain": [
       "interactive(children=(Dropdown(description='Batsman', options=('A Ashish Reddy', 'A Badoni', 'A Chandila', 'A …"
      ]
     },
     "metadata": {},
     "output_type": "display_data"
    },
    {
     "data": {
      "text/plain": [
       "<function __main__.conversion_30_to_50(batsman_name)>"
      ]
     },
     "execution_count": 28,
     "metadata": {},
     "output_type": "execute_result"
    }
   ],
   "source": [
    "import pandas as pd\n",
    "import plotly.graph_objects as go\n",
    "from ipywidgets import interact, Dropdown\n",
    "import numpy as np\n",
    "\n",
    "# --- Load datasets ---\n",
    "df = pd.read_csv(r\"c:\\\\Users\\\\Vishal\\\\OneDrive\\\\Desktop\\\\mini project\\\\deliveries (1).csv\")\n",
    "matches = pd.read_csv(r\"c:\\\\Users\\\\Vishal\\\\OneDrive\\\\Desktop\\\\mini project\\\\matches.csv\")\n",
    "\n",
    "# --- Helper function to find first available column ---\n",
    "def find_col(cols, candidates):\n",
    "    for c in candidates:\n",
    "        if c in cols:\n",
    "            return c\n",
    "    return None\n",
    "\n",
    "# --- Standardize batter column ---\n",
    "batter_col = find_col(df.columns, [\"batter\", \"batsman\", \"striker\"])\n",
    "if batter_col is None:\n",
    "    raise ValueError(\"Could not find a batter/batsman column in deliveries CSV.\")\n",
    "if batter_col != \"batter\":\n",
    "    df.rename(columns={batter_col: \"batter\"}, inplace=True)\n",
    "\n",
    "# --- Standardize runs column ---\n",
    "runs_col = find_col(df.columns, [\"batsman_runs\", \"batter_runs\", \"runs_off_bat\", \"runs\"])\n",
    "if runs_col is None:\n",
    "    raise ValueError(\"Could not find a runs column (batsman_runs) in deliveries CSV.\")\n",
    "if runs_col != \"batsman_runs\":\n",
    "    df.rename(columns={runs_col: \"batsman_runs\"}, inplace=True)\n",
    "\n",
    "# --- Detect & standardize match id ---\n",
    "left_match_col = find_col(df.columns, [\"match_id\", \"matchId\", \"id\", \"match\"])\n",
    "right_match_col = find_col(matches.columns, [\"match_id\", \"matchId\", \"id\", \"match\"])\n",
    "\n",
    "if left_match_col is None:\n",
    "    raise ValueError(\"Could not find a match identifier column in deliveries CSV.\")\n",
    "\n",
    "# create standard 'match_id' in both dataframes\n",
    "df[\"match_id\"] = df[left_match_col] if left_match_col != \"match_id\" else df[\"match_id\"]\n",
    "\n",
    "if right_match_col is not None:\n",
    "    matches[\"match_id\"] = matches[right_match_col] if right_match_col != \"match_id\" else matches[\"match_id\"]\n",
    "else:\n",
    "    matches[\"match_id\"] = np.nan  # fallback if no column found\n",
    "\n",
    "# --- Detect & standardize season column ---\n",
    "season_col = find_col(matches.columns, [\"season\", \"year\"])\n",
    "if season_col is not None:\n",
    "    if season_col != \"season\":\n",
    "        matches.rename(columns={season_col: \"season\"}, inplace=True)\n",
    "else:\n",
    "    matches[\"season\"] = np.nan  # fill with NaN if season missing\n",
    "\n",
    "# --- Merge deliveries with matches to get season info ---\n",
    "df = df.merge(matches[[\"match_id\", \"season\"]].drop_duplicates(), on=\"match_id\", how=\"left\")\n",
    "\n",
    "# --- Ensure numeric type for runs ---\n",
    "df[\"batsman_runs\"] = pd.to_numeric(df[\"batsman_runs\"], errors=\"coerce\").fillna(0)\n",
    "\n",
    "# --- Get unique batsmen list ---\n",
    "batsmen = sorted(df[\"batter\"].dropna().unique().tolist())\n",
    "\n",
    "def conversion_30_to_50(batsman_name):\n",
    "    player_df = df[df[\"batter\"] == batsman_name]\n",
    "    if player_df.empty:\n",
    "        print(f\"❌ No data for {batsman_name}\")\n",
    "        return\n",
    "\n",
    "    # Group runs per match\n",
    "    if player_df[\"season\"].notna().any():\n",
    "        runs_df = player_df.groupby([\"match_id\", \"season\"], dropna=False)[\"batsman_runs\"].sum().reset_index()\n",
    "    else:\n",
    "        runs_df = player_df.groupby([\"match_id\"], dropna=False)[\"batsman_runs\"].sum().reset_index()\n",
    "        runs_df[\"season\"] = np.nan\n",
    "\n",
    "    matches_30 = runs_df[runs_df[\"batsman_runs\"] >= 30]\n",
    "    if matches_30.empty:\n",
    "        print(f\"❌ No matches found where {batsman_name} scored 30+ runs.\")\n",
    "        return\n",
    "\n",
    "    matches_50 = matches_30[matches_30[\"batsman_runs\"] >= 50]\n",
    "\n",
    "    total_30 = matches_30.shape[0]\n",
    "    total_50 = matches_50.shape[0]\n",
    "    conversion_rate = (total_50 / total_30) * 100 if total_30 > 0 else 0\n",
    "\n",
    "    print(f\"\\n🎯 {batsman_name} — 30+ to 50+ Conversion\")\n",
    "    print(f\"✅ Matches with 30+ runs: {total_30}\")\n",
    "    print(f\"🏏 Converted to 50+: {total_50}\")\n",
    "    print(f\"📊 Conversion Rate: {conversion_rate:.2f}%\")\n",
    "\n",
    "    fig = go.Figure(go.Sunburst(\n",
    "        labels=[\"30+ Runs\", \"Converted to 50+\", \"Not Converted (30-49)\"],\n",
    "        parents=[\"\", \"30+ Runs\", \"30+ Runs\"],\n",
    "        values=[total_30, total_50, total_30 - total_50],\n",
    "        branchvalues=\"total\",\n",
    "        marker=dict(colors=[\"#FFD700\", \"#28a745\", \"#FF4C4C\"], line=dict(color=\"white\", width=2)),\n",
    "        hovertemplate=\"<b>%{label}</b><br>Matches: %{value}<br>Percent: %{percentParent:.1%}<extra></extra>\"\n",
    "    ))\n",
    "\n",
    "    fig.update_layout(\n",
    "        title=dict(text=f\"🌟 {batsman_name} — 30+ to 50+ Conversion\", font=dict(size=22), x=0.5),\n",
    "        margin=dict(t=60, l=20, r=20, b=20),\n",
    "        paper_bgcolor=\"#f8f9fa\"\n",
    "    )\n",
    "\n",
    "    fig.show()\n",
    "\n",
    "# --- Interactive Dropdown ---\n",
    "interact(conversion_30_to_50, batsman_name=Dropdown(options=batsmen, description=\"Batsman\"))\n",
    "\n"
   ]
  }
 ],
 "metadata": {
  "kernelspec": {
   "display_name": "Python 3",
   "language": "python",
   "name": "python3"
  },
  "language_info": {
   "codemirror_mode": {
    "name": "ipython",
    "version": 3
   },
   "file_extension": ".py",
   "mimetype": "text/x-python",
   "name": "python",
   "nbconvert_exporter": "python",
   "pygments_lexer": "ipython3",
   "version": "3.12.10"
  }
 },
 "nbformat": 4,
 "nbformat_minor": 5
}
